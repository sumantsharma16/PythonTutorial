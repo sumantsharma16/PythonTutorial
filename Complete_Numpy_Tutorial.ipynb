{
  "nbformat": 4,
  "nbformat_minor": 0,
  "metadata": {
    "colab": {
      "provenance": [],
      "authorship_tag": "ABX9TyOdLOduID3HlOmTH+QSS+ud",
      "include_colab_link": true
    },
    "kernelspec": {
      "name": "python3",
      "display_name": "Python 3"
    },
    "language_info": {
      "name": "python"
    }
  },
  "cells": [
    {
      "cell_type": "markdown",
      "metadata": {
        "id": "view-in-github",
        "colab_type": "text"
      },
      "source": [
        "<a href=\"https://colab.research.google.com/github/sumantsharma16/PythonTutorial/blob/main/Complete_Numpy_Tutorial.ipynb\" target=\"_parent\"><img src=\"https://colab.research.google.com/assets/colab-badge.svg\" alt=\"Open In Colab\"/></a>"
      ]
    },
    {
      "cell_type": "markdown",
      "source": [
        "NumPy - Numerical Arrays:"
      ],
      "metadata": {
        "id": "yVmte94wn59K"
      }
    },
    {
      "cell_type": "markdown",
      "source": [
        "Advantages of Numpy Arrays:\n",
        "\n",
        "1. Allows several Mathematical Operattions\n",
        "2. Faster operations"
      ],
      "metadata": {
        "id": "4E4os0pyoKDi"
      }
    },
    {
      "cell_type": "code",
      "source": [
        "import numpy as np"
      ],
      "metadata": {
        "id": "o01oKv_loToj"
      },
      "execution_count": 1,
      "outputs": []
    },
    {
      "cell_type": "markdown",
      "source": [
        "List vs Numpy - Time Taken"
      ],
      "metadata": {
        "id": "Bq6cIG_GoVnM"
      }
    },
    {
      "cell_type": "code",
      "source": [
        "from time import process_time"
      ],
      "metadata": {
        "id": "labxNEnjob86"
      },
      "execution_count": 2,
      "outputs": []
    },
    {
      "cell_type": "markdown",
      "source": [
        "Time taken by a list"
      ],
      "metadata": {
        "id": "Oxd-olknoeLI"
      }
    },
    {
      "cell_type": "code",
      "source": [
        "python_list = [i for i in range(10000)]\n",
        "start_time = process_time()\n",
        "python_list = [i+5 for i in python_list]\n",
        "end_time = process_time()\n",
        "print(end_time - start_time)"
      ],
      "metadata": {
        "colab": {
          "base_uri": "https://localhost:8080/"
        },
        "id": "7PZH7gyPokig",
        "outputId": "7de9af45-1354-4f4b-c4e8-2b54dc40b3c4"
      },
      "execution_count": 3,
      "outputs": [
        {
          "output_type": "stream",
          "name": "stdout",
          "text": [
            "0.0011071309999994838\n"
          ]
        }
      ]
    },
    {
      "cell_type": "code",
      "source": [
        " np_array = np.array([i for i in range(10000)])\n",
        "\n",
        " start_time = process_time()\n",
        "\n",
        " np_array += 5\n",
        "\n",
        " end_time = process_time()\n",
        "\n",
        " print(end_time - start_time)"
      ],
      "metadata": {
        "colab": {
          "base_uri": "https://localhost:8080/"
        },
        "id": "sgwlRCimo3N9",
        "outputId": "9095489b-adde-48f6-f9d5-f97fde89d6fb"
      },
      "execution_count": 4,
      "outputs": [
        {
          "output_type": "stream",
          "name": "stdout",
          "text": [
            "0.0016928380000003074\n"
          ]
        }
      ]
    },
    {
      "cell_type": "markdown",
      "source": [
        "Numpy Arrays"
      ],
      "metadata": {
        "id": "jKnSVdsHsnaJ"
      }
    },
    {
      "cell_type": "code",
      "source": [
        "list1 = [1,2,3,4,5]\n",
        "print(list1)\n",
        "type(list1)"
      ],
      "metadata": {
        "colab": {
          "base_uri": "https://localhost:8080/"
        },
        "id": "iCklciaossid",
        "outputId": "36fe1eae-4489-4258-e632-8f66b5db02dd"
      },
      "execution_count": 5,
      "outputs": [
        {
          "output_type": "stream",
          "name": "stdout",
          "text": [
            "[1, 2, 3, 4, 5]\n"
          ]
        },
        {
          "output_type": "execute_result",
          "data": {
            "text/plain": [
              "list"
            ]
          },
          "metadata": {},
          "execution_count": 5
        }
      ]
    },
    {
      "cell_type": "code",
      "source": [
        "np_array = np.array([1,2,3,4,5])\n",
        "print(np_array)\n",
        "type(np_array)"
      ],
      "metadata": {
        "colab": {
          "base_uri": "https://localhost:8080/"
        },
        "id": "yW68WBXFsxCv",
        "outputId": "9e3b401c-b31b-46c0-ac75-675e51467af9"
      },
      "execution_count": 7,
      "outputs": [
        {
          "output_type": "stream",
          "name": "stdout",
          "text": [
            "[1 2 3 4 5]\n"
          ]
        },
        {
          "output_type": "execute_result",
          "data": {
            "text/plain": [
              "numpy.ndarray"
            ]
          },
          "metadata": {},
          "execution_count": 7
        }
      ]
    },
    {
      "cell_type": "code",
      "source": [
        "# creating a 1 dim array\n",
        "a = np.array([1,2,3,4])\n",
        "print(a)"
      ],
      "metadata": {
        "colab": {
          "base_uri": "https://localhost:8080/"
        },
        "id": "10kEYwZKtDeG",
        "outputId": "38f55609-8e7b-44dd-b1ae-f1f296902ddf"
      },
      "execution_count": 8,
      "outputs": [
        {
          "output_type": "stream",
          "name": "stdout",
          "text": [
            "[1 2 3 4]\n"
          ]
        }
      ]
    },
    {
      "cell_type": "code",
      "source": [
        "a.shape"
      ],
      "metadata": {
        "colab": {
          "base_uri": "https://localhost:8080/"
        },
        "id": "FCAkjH7TtJGp",
        "outputId": "0da2d889-ac9b-4e95-a56f-3a2073efadef"
      },
      "execution_count": 9,
      "outputs": [
        {
          "output_type": "execute_result",
          "data": {
            "text/plain": [
              "(4,)"
            ]
          },
          "metadata": {},
          "execution_count": 9
        }
      ]
    },
    {
      "cell_type": "code",
      "source": [
        "b = np.array([(1,2,3,4),(5,6,7,8)])\n",
        "print(b)"
      ],
      "metadata": {
        "colab": {
          "base_uri": "https://localhost:8080/"
        },
        "id": "CytqBSsrtJz0",
        "outputId": "cb2837b8-43a6-41fe-d46e-288a0da82ae7"
      },
      "execution_count": 10,
      "outputs": [
        {
          "output_type": "stream",
          "name": "stdout",
          "text": [
            "[[1 2 3 4]\n",
            " [5 6 7 8]]\n"
          ]
        }
      ]
    },
    {
      "cell_type": "code",
      "source": [
        "b.shape"
      ],
      "metadata": {
        "colab": {
          "base_uri": "https://localhost:8080/"
        },
        "id": "miekCmxItTGz",
        "outputId": "41b7041b-032a-4787-c5d2-6e3ba45d0334"
      },
      "execution_count": 11,
      "outputs": [
        {
          "output_type": "execute_result",
          "data": {
            "text/plain": [
              "(2, 4)"
            ]
          },
          "metadata": {},
          "execution_count": 11
        }
      ]
    },
    {
      "cell_type": "code",
      "source": [
        "c = np.array([(1,2,3,4),(5,6,7,8)],dtype=float)\n",
        "print(c)"
      ],
      "metadata": {
        "colab": {
          "base_uri": "https://localhost:8080/"
        },
        "id": "ONnjH4ZHtVB5",
        "outputId": "b18dbffa-d5af-4959-c870-2833c15b7e7f"
      },
      "execution_count": 12,
      "outputs": [
        {
          "output_type": "stream",
          "name": "stdout",
          "text": [
            "[[1. 2. 3. 4.]\n",
            " [5. 6. 7. 8.]]\n"
          ]
        }
      ]
    },
    {
      "cell_type": "markdown",
      "source": [
        "initial Placeholder in numpy arrays"
      ],
      "metadata": {
        "id": "sF1TxVXMtcw6"
      }
    },
    {
      "cell_type": "code",
      "source": [
        "# create a numpy array of Zeros\n",
        "x = np.zeros((4,5))\n",
        "print(x)"
      ],
      "metadata": {
        "colab": {
          "base_uri": "https://localhost:8080/"
        },
        "id": "HwAVhRH1thb0",
        "outputId": "15dec0ee-c7c4-4152-f380-c475128a7310"
      },
      "execution_count": 13,
      "outputs": [
        {
          "output_type": "stream",
          "name": "stdout",
          "text": [
            "[[0. 0. 0. 0. 0.]\n",
            " [0. 0. 0. 0. 0.]\n",
            " [0. 0. 0. 0. 0.]\n",
            " [0. 0. 0. 0. 0.]]\n"
          ]
        }
      ]
    },
    {
      "cell_type": "code",
      "source": [
        "# create a numpy array of ones\n",
        "y = np.ones((3,3))\n",
        "print(y)"
      ],
      "metadata": {
        "colab": {
          "base_uri": "https://localhost:8080/"
        },
        "id": "s1bUucFItnbm",
        "outputId": "91598c93-d719-4e01-ab29-e02716b1482a"
      },
      "execution_count": 14,
      "outputs": [
        {
          "output_type": "stream",
          "name": "stdout",
          "text": [
            "[[1. 1. 1.]\n",
            " [1. 1. 1.]\n",
            " [1. 1. 1.]]\n"
          ]
        }
      ]
    },
    {
      "cell_type": "code",
      "source": [
        "z = np.full((5,4),5)\n",
        "print(z)"
      ],
      "metadata": {
        "colab": {
          "base_uri": "https://localhost:8080/"
        },
        "id": "3JgWt36WtwNh",
        "outputId": "6fe0612f-ef7e-41ec-f7f0-989030b4024b"
      },
      "execution_count": 15,
      "outputs": [
        {
          "output_type": "stream",
          "name": "stdout",
          "text": [
            "[[5 5 5 5]\n",
            " [5 5 5 5]\n",
            " [5 5 5 5]\n",
            " [5 5 5 5]\n",
            " [5 5 5 5]]\n"
          ]
        }
      ]
    },
    {
      "cell_type": "code",
      "source": [
        "# create an identy matrix\n",
        "a = np.eye(5)\n",
        "print(a)"
      ],
      "metadata": {
        "colab": {
          "base_uri": "https://localhost:8080/"
        },
        "id": "DcwGbVR4tz8b",
        "outputId": "f6fe8249-d681-496e-cb93-e08a07fa8cce"
      },
      "execution_count": 16,
      "outputs": [
        {
          "output_type": "stream",
          "name": "stdout",
          "text": [
            "[[1. 0. 0. 0. 0.]\n",
            " [0. 1. 0. 0. 0.]\n",
            " [0. 0. 1. 0. 0.]\n",
            " [0. 0. 0. 1. 0.]\n",
            " [0. 0. 0. 0. 1.]]\n"
          ]
        }
      ]
    },
    {
      "cell_type": "code",
      "source": [
        "# create a numpy array with radom values\n",
        "b = np.random.random((3,4))\n",
        "print(b)"
      ],
      "metadata": {
        "colab": {
          "base_uri": "https://localhost:8080/"
        },
        "id": "TWYPVO8Jt4q4",
        "outputId": "57ecb19e-ea8a-4d53-fbae-15f9260b7108"
      },
      "execution_count": 18,
      "outputs": [
        {
          "output_type": "stream",
          "name": "stdout",
          "text": [
            "[[0.59032582 0.76055807 0.68213344 0.94866086]\n",
            " [0.42096969 0.72884154 0.2226323  0.67158611]\n",
            " [0.34073546 0.07897158 0.26010826 0.86154026]]\n"
          ]
        }
      ]
    },
    {
      "cell_type": "code",
      "source": [
        "# random integer values array within a specific range\n",
        "c = np.random.randint(10,100,(3,5))\n",
        "print(c)"
      ],
      "metadata": {
        "colab": {
          "base_uri": "https://localhost:8080/"
        },
        "id": "RJjZj69JuCqL",
        "outputId": "e02deb81-d892-462c-ba29-5c6c861fadde"
      },
      "execution_count": 20,
      "outputs": [
        {
          "output_type": "stream",
          "name": "stdout",
          "text": [
            "[[35 32 56 80 92]\n",
            " [39 87 85 58 22]\n",
            " [70 59 42 24 54]]\n"
          ]
        }
      ]
    },
    {
      "cell_type": "code",
      "source": [
        "d = np.linspace(10,30,5)\n",
        "print(d)"
      ],
      "metadata": {
        "colab": {
          "base_uri": "https://localhost:8080/"
        },
        "id": "Yi1FN6twuQJp",
        "outputId": "9f5f55c4-9f19-4277-dbd4-4d8d6863b0ce"
      },
      "execution_count": 22,
      "outputs": [
        {
          "output_type": "stream",
          "name": "stdout",
          "text": [
            "[10. 15. 20. 25. 30.]\n"
          ]
        }
      ]
    },
    {
      "cell_type": "code",
      "source": [
        "e = np.arange(10,30,5)\n",
        "print(e)"
      ],
      "metadata": {
        "colab": {
          "base_uri": "https://localhost:8080/"
        },
        "id": "FA45jDXXuXMX",
        "outputId": "f1a4bafc-2f2c-459c-cc71-da9af3c1b3b9"
      },
      "execution_count": 23,
      "outputs": [
        {
          "output_type": "stream",
          "name": "stdout",
          "text": [
            "[10 15 20 25]\n"
          ]
        }
      ]
    },
    {
      "cell_type": "code",
      "source": [
        "# convert a list to a numpy array\n",
        "list2 = [10,20,20,20,50]\n",
        "\n",
        "np_array = np.asarray(list2)\n",
        "print(np_array)\n",
        "type(np_array)"
      ],
      "metadata": {
        "colab": {
          "base_uri": "https://localhost:8080/"
        },
        "id": "44qA7TeGueC_",
        "outputId": "ef03383c-8725-411e-f6a4-81f9e85d9a6f"
      },
      "execution_count": 24,
      "outputs": [
        {
          "output_type": "stream",
          "name": "stdout",
          "text": [
            "[10 20 20 20 50]\n"
          ]
        },
        {
          "output_type": "execute_result",
          "data": {
            "text/plain": [
              "numpy.ndarray"
            ]
          },
          "metadata": {},
          "execution_count": 24
        }
      ]
    },
    {
      "cell_type": "markdown",
      "source": [
        "Analysing a numpy array"
      ],
      "metadata": {
        "id": "jXInWRsouqSW"
      }
    },
    {
      "cell_type": "code",
      "source": [
        "c = np.random.randint(10,90,(5,5))\n",
        "print(c)"
      ],
      "metadata": {
        "colab": {
          "base_uri": "https://localhost:8080/"
        },
        "id": "Es5rlQi8uwp3",
        "outputId": "041aa7ea-d433-44e7-89c4-f938a73bce41"
      },
      "execution_count": 26,
      "outputs": [
        {
          "output_type": "stream",
          "name": "stdout",
          "text": [
            "[[28 19 77 89 28]\n",
            " [87 17 30 76 17]\n",
            " [68 28 79 73 58]\n",
            " [28 48 85 13 85]\n",
            " [55 33 84 87 58]]\n"
          ]
        }
      ]
    },
    {
      "cell_type": "code",
      "source": [
        "# array dimension\n",
        "print(c.shape)"
      ],
      "metadata": {
        "colab": {
          "base_uri": "https://localhost:8080/"
        },
        "id": "ExHXNKD_u0sr",
        "outputId": "83dd358d-cf09-4482-8c40-2b772375ec97"
      },
      "execution_count": 27,
      "outputs": [
        {
          "output_type": "stream",
          "name": "stdout",
          "text": [
            "(5, 5)\n"
          ]
        }
      ]
    },
    {
      "cell_type": "code",
      "source": [
        "# number of dimensions\n",
        "print(c.ndim)"
      ],
      "metadata": {
        "colab": {
          "base_uri": "https://localhost:8080/"
        },
        "id": "WdMNPTAgu64i",
        "outputId": "992dd551-096f-490d-a6a8-f3bf8a650d4b"
      },
      "execution_count": 28,
      "outputs": [
        {
          "output_type": "stream",
          "name": "stdout",
          "text": [
            "2\n"
          ]
        }
      ]
    },
    {
      "cell_type": "code",
      "source": [
        "# number of elements in array\n",
        "print(c.size)"
      ],
      "metadata": {
        "colab": {
          "base_uri": "https://localhost:8080/"
        },
        "id": "DkUzNVl2u-tI",
        "outputId": "e40a43c9-f367-4d25-e963-9b07240b56b2"
      },
      "execution_count": 29,
      "outputs": [
        {
          "output_type": "stream",
          "name": "stdout",
          "text": [
            "25\n"
          ]
        }
      ]
    },
    {
      "cell_type": "code",
      "source": [
        "# checking the data type of the values in the array\n",
        "print(c.dtype)"
      ],
      "metadata": {
        "colab": {
          "base_uri": "https://localhost:8080/"
        },
        "id": "tyOl86EUvCGG",
        "outputId": "b7f5036b-c897-45fe-a5c7-8967fa8ce53d"
      },
      "execution_count": 30,
      "outputs": [
        {
          "output_type": "stream",
          "name": "stdout",
          "text": [
            "int64\n"
          ]
        }
      ]
    },
    {
      "cell_type": "markdown",
      "source": [
        "Mathematical operations on a np array"
      ],
      "metadata": {
        "id": "0NY3VPJ3vI7C"
      }
    },
    {
      "cell_type": "code",
      "source": [
        "list1 = [1,2,3,4,5]\n",
        "list2 = [6,7,8,9,10]\n",
        "\n",
        "print(list1 + list2)"
      ],
      "metadata": {
        "colab": {
          "base_uri": "https://localhost:8080/"
        },
        "id": "THEU4CQuvRHp",
        "outputId": "9b2704d0-53f7-47a4-e419-447066a4db67"
      },
      "execution_count": 31,
      "outputs": [
        {
          "output_type": "stream",
          "name": "stdout",
          "text": [
            "[1, 2, 3, 4, 5, 6, 7, 8, 9, 10]\n"
          ]
        }
      ]
    },
    {
      "cell_type": "code",
      "source": [
        "a = np.random.randint(0,10,(3,3))\n",
        "b = np.random.randint(10,20,(3,3))"
      ],
      "metadata": {
        "id": "UZSi890fvaTb"
      },
      "execution_count": 32,
      "outputs": []
    },
    {
      "cell_type": "code",
      "source": [
        "print(a)\n",
        "print(b)"
      ],
      "metadata": {
        "colab": {
          "base_uri": "https://localhost:8080/"
        },
        "id": "B-gxWQl6vh5U",
        "outputId": "68889aad-2723-4925-9be8-513c9670e092"
      },
      "execution_count": 33,
      "outputs": [
        {
          "output_type": "stream",
          "name": "stdout",
          "text": [
            "[[0 0 9]\n",
            " [2 4 3]\n",
            " [6 7 4]]\n",
            "[[13 18 16]\n",
            " [12 10 19]\n",
            " [14 14 19]]\n"
          ]
        }
      ]
    },
    {
      "cell_type": "code",
      "source": [
        "print(a+b)\n",
        "print(a-b)\n",
        "print(a*b)\n",
        "print(a/b)\n"
      ],
      "metadata": {
        "colab": {
          "base_uri": "https://localhost:8080/"
        },
        "id": "Qp3js6KtvlT2",
        "outputId": "ba0b69ca-60d6-4654-f484-b9f538ebddc9"
      },
      "execution_count": 34,
      "outputs": [
        {
          "output_type": "stream",
          "name": "stdout",
          "text": [
            "[[13 18 25]\n",
            " [14 14 22]\n",
            " [20 21 23]]\n",
            "[[-13 -18  -7]\n",
            " [-10  -6 -16]\n",
            " [ -8  -7 -15]]\n",
            "[[  0   0 144]\n",
            " [ 24  40  57]\n",
            " [ 84  98  76]]\n",
            "[[0.         0.         0.5625    ]\n",
            " [0.16666667 0.4        0.15789474]\n",
            " [0.42857143 0.5        0.21052632]]\n"
          ]
        }
      ]
    },
    {
      "cell_type": "code",
      "source": [
        "a = np.random.randint(0,10,(3,3))\n",
        "b = np.random.randint(10,20,(3,3))"
      ],
      "metadata": {
        "id": "PJOHjBTQvze4"
      },
      "execution_count": 35,
      "outputs": []
    },
    {
      "cell_type": "code",
      "source": [
        "print(a)\n",
        "print(b)"
      ],
      "metadata": {
        "colab": {
          "base_uri": "https://localhost:8080/"
        },
        "id": "JpYLCDV2wHhS",
        "outputId": "63f91885-0c66-4d66-b26f-9ee87ddae372"
      },
      "execution_count": 36,
      "outputs": [
        {
          "output_type": "stream",
          "name": "stdout",
          "text": [
            "[[5 3 3]\n",
            " [6 7 3]\n",
            " [2 2 6]]\n",
            "[[10 18 14]\n",
            " [12 14 19]\n",
            " [18 13 18]]\n"
          ]
        }
      ]
    },
    {
      "cell_type": "code",
      "source": [
        "print(np.add(a,b))\n",
        "print(np.subtract(a,b))\n",
        "print(np.multiply(a,b))\n",
        "print(np.divide(a,b))"
      ],
      "metadata": {
        "colab": {
          "base_uri": "https://localhost:8080/"
        },
        "id": "egPnWBxwwJqd",
        "outputId": "a0236e63-cc83-44e5-df89-ac6135f16a88"
      },
      "execution_count": 37,
      "outputs": [
        {
          "output_type": "stream",
          "name": "stdout",
          "text": [
            "[[15 21 17]\n",
            " [18 21 22]\n",
            " [20 15 24]]\n",
            "[[ -5 -15 -11]\n",
            " [ -6  -7 -16]\n",
            " [-16 -11 -12]]\n",
            "[[ 50  54  42]\n",
            " [ 72  98  57]\n",
            " [ 36  26 108]]\n",
            "[[0.5        0.16666667 0.21428571]\n",
            " [0.5        0.5        0.15789474]\n",
            " [0.11111111 0.15384615 0.33333333]]\n"
          ]
        }
      ]
    },
    {
      "cell_type": "markdown",
      "source": [
        "Array Maniputation"
      ],
      "metadata": {
        "id": "CG3xHY9RwTpR"
      }
    },
    {
      "cell_type": "code",
      "source": [
        "array = np.random.randint(0,10,(2,3))\n",
        "print(array)\n",
        "print(array.shape)"
      ],
      "metadata": {
        "colab": {
          "base_uri": "https://localhost:8080/"
        },
        "id": "SZPhZtY7wiv-",
        "outputId": "4b3ce3be-bbf8-4163-e00e-fdceba245407"
      },
      "execution_count": 39,
      "outputs": [
        {
          "output_type": "stream",
          "name": "stdout",
          "text": [
            "[[4 7 9]\n",
            " [8 2 1]]\n",
            "(2, 3)\n"
          ]
        }
      ]
    },
    {
      "cell_type": "code",
      "source": [
        "# transpose\n",
        "trans = np.transpose(array)\n",
        "print(trans)\n",
        "print(trans.shape)"
      ],
      "metadata": {
        "colab": {
          "base_uri": "https://localhost:8080/"
        },
        "id": "4y9faMiUwqXq",
        "outputId": "1a4cb348-d454-4dc0-a9af-f7328d13c62b"
      },
      "execution_count": 41,
      "outputs": [
        {
          "output_type": "stream",
          "name": "stdout",
          "text": [
            "[[4 8]\n",
            " [7 2]\n",
            " [9 1]]\n",
            "(3, 2)\n"
          ]
        }
      ]
    },
    {
      "cell_type": "code",
      "source": [
        "array = np.random.randint(0,10,(2,3))\n",
        "print(array)\n",
        "print(array.shape)"
      ],
      "metadata": {
        "colab": {
          "base_uri": "https://localhost:8080/"
        },
        "id": "tbmNnJCZw1_C",
        "outputId": "fcea92b0-7041-45c7-f993-1f3a28ed8329"
      },
      "execution_count": 42,
      "outputs": [
        {
          "output_type": "stream",
          "name": "stdout",
          "text": [
            "[[2 4 4]\n",
            " [5 6 0]]\n",
            "(2, 3)\n"
          ]
        }
      ]
    },
    {
      "cell_type": "code",
      "source": [
        "trans2 = array.T\n",
        "print(trans2)\n",
        "print(trans2.shape)"
      ],
      "metadata": {
        "colab": {
          "base_uri": "https://localhost:8080/"
        },
        "id": "LN7dWYdHxQwE",
        "outputId": "99ddcc1f-8e41-4fcc-ab86-91a355e8e760"
      },
      "execution_count": 43,
      "outputs": [
        {
          "output_type": "stream",
          "name": "stdout",
          "text": [
            "[[2 5]\n",
            " [4 6]\n",
            " [4 0]]\n",
            "(3, 2)\n"
          ]
        }
      ]
    },
    {
      "cell_type": "code",
      "source": [
        "# reshaping a array\n",
        "a = np.random.randint(0,10,(2,3))\n",
        "print(a)\n",
        "print(a.shape)"
      ],
      "metadata": {
        "colab": {
          "base_uri": "https://localhost:8080/"
        },
        "id": "dpFSWirmxa8V",
        "outputId": "b5355c29-bd5b-471a-9942-8a0ad9ce8197"
      },
      "execution_count": 45,
      "outputs": [
        {
          "output_type": "stream",
          "name": "stdout",
          "text": [
            "[[7 1 7]\n",
            " [4 5 5]]\n",
            "(2, 3)\n"
          ]
        }
      ]
    },
    {
      "cell_type": "code",
      "source": [
        "b = a.reshape(3,2)\n",
        "print(b)\n",
        "print(b.shape)"
      ],
      "metadata": {
        "colab": {
          "base_uri": "https://localhost:8080/"
        },
        "id": "efmppoMHxi1S",
        "outputId": "fb83c529-6c06-4948-fdee-e0aa6de55b84"
      },
      "execution_count": 46,
      "outputs": [
        {
          "output_type": "stream",
          "name": "stdout",
          "text": [
            "[[7 1]\n",
            " [7 4]\n",
            " [5 5]]\n",
            "(3, 2)\n"
          ]
        }
      ]
    },
    {
      "cell_type": "code",
      "source": [],
      "metadata": {
        "id": "zBx9mBbhxtJ-"
      },
      "execution_count": null,
      "outputs": []
    }
  ]
}