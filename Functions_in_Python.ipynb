{
  "nbformat": 4,
  "nbformat_minor": 0,
  "metadata": {
    "colab": {
      "provenance": [],
      "authorship_tag": "ABX9TyOtHvU+xVy0hH0ag8uwFvMe",
      "include_colab_link": true
    },
    "kernelspec": {
      "name": "python3",
      "display_name": "Python 3"
    },
    "language_info": {
      "name": "python"
    }
  },
  "cells": [
    {
      "cell_type": "markdown",
      "metadata": {
        "id": "view-in-github",
        "colab_type": "text"
      },
      "source": [
        "<a href=\"https://colab.research.google.com/github/sumantsharma16/PythonTutorial/blob/main/Functions_in_Python.ipynb\" target=\"_parent\"><img src=\"https://colab.research.google.com/assets/colab-badge.svg\" alt=\"Open In Colab\"/></a>"
      ]
    },
    {
      "cell_type": "markdown",
      "source": [
        "Functions:\n",
        "Function is a block of code that can be reused in Program"
      ],
      "metadata": {
        "id": "Hc1wQq8elKNU"
      }
    },
    {
      "cell_type": "markdown",
      "source": [
        "Factorial of a Number:\n",
        "\n",
        "Factorial of a number is the product of all the positive integers less than or equal to the given number\n",
        "\n",
        "\n",
        "Factorial of 5 = 5X4X3X2X1 = 120"
      ],
      "metadata": {
        "id": "ywy3PK5elZLr"
      }
    },
    {
      "cell_type": "code",
      "source": [
        "number = int(input('Enter a number to find its factorial : '))\n",
        "\n",
        "factorial = 1\n",
        "\n",
        "if number == 0:\n",
        "  print('The Factorial of 0 is 1')\n",
        "\n",
        "else:\n",
        "  for i in range(1, number+1):\n",
        "    factorial = factorial*i\n",
        "\n",
        "  print(\"The factorial of \", number, 'is', factorial)"
      ],
      "metadata": {
        "colab": {
          "base_uri": "https://localhost:8080/"
        },
        "id": "gxLUiQZjluOP",
        "outputId": "5f09873a-0dbd-44f3-81c1-4d2d981c502a"
      },
      "execution_count": 6,
      "outputs": [
        {
          "output_type": "stream",
          "name": "stdout",
          "text": [
            "Enter a number to find its factorial : 5\n",
            "The factorial of  5 is 120\n"
          ]
        }
      ]
    },
    {
      "cell_type": "code",
      "source": [
        "def factorial_value(num):\n",
        "\n",
        "  factorial = 1\n",
        "\n",
        "  if num == 0:\n",
        "    return factorial\n",
        "\n",
        "  else:\n",
        "    for i in range (1, num+1):\n",
        "      factorial = factorial * i\n",
        "    return factorial"
      ],
      "metadata": {
        "id": "jhwZzY4smqJl"
      },
      "execution_count": 7,
      "outputs": []
    },
    {
      "cell_type": "code",
      "source": [
        "print(factorial_value(5))"
      ],
      "metadata": {
        "colab": {
          "base_uri": "https://localhost:8080/"
        },
        "id": "jbBjAMuTm9Sn",
        "outputId": "59210eb9-2dbc-4485-a0ac-a6ba047f1326"
      },
      "execution_count": 8,
      "outputs": [
        {
          "output_type": "stream",
          "name": "stdout",
          "text": [
            "120\n"
          ]
        }
      ]
    },
    {
      "cell_type": "code",
      "source": [
        "print(factorial_value(10))"
      ],
      "metadata": {
        "colab": {
          "base_uri": "https://localhost:8080/"
        },
        "id": "2By2ioHynaM4",
        "outputId": "a1d4f8dc-eeb7-4c07-9e53-d0faa9e1e0ac"
      },
      "execution_count": 10,
      "outputs": [
        {
          "output_type": "stream",
          "name": "stdout",
          "text": [
            "3628800\n"
          ]
        }
      ]
    },
    {
      "cell_type": "code",
      "source": [
        "print(factorial_value(6))"
      ],
      "metadata": {
        "colab": {
          "base_uri": "https://localhost:8080/"
        },
        "id": "635pSoPBnc7V",
        "outputId": "47daf1bc-e27d-44fb-9951-41ee3679a781"
      },
      "execution_count": 11,
      "outputs": [
        {
          "output_type": "stream",
          "name": "stdout",
          "text": [
            "720\n"
          ]
        }
      ]
    },
    {
      "cell_type": "code",
      "source": [],
      "metadata": {
        "id": "6WNVxhzfnhPb"
      },
      "execution_count": null,
      "outputs": []
    }
  ]
}