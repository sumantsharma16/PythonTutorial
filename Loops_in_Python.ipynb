{
  "nbformat": 4,
  "nbformat_minor": 0,
  "metadata": {
    "colab": {
      "provenance": [],
      "authorship_tag": "ABX9TyMAHeCPlqQS73d/gfplo2b2",
      "include_colab_link": true
    },
    "kernelspec": {
      "name": "python3",
      "display_name": "Python 3"
    },
    "language_info": {
      "name": "python"
    }
  },
  "cells": [
    {
      "cell_type": "markdown",
      "metadata": {
        "id": "view-in-github",
        "colab_type": "text"
      },
      "source": [
        "<a href=\"https://colab.research.google.com/github/sumantsharma16/PythonTutorial/blob/main/Loops_in_Python.ipynb\" target=\"_parent\"><img src=\"https://colab.research.google.com/assets/colab-badge.svg\" alt=\"Open In Colab\"/></a>"
      ]
    },
    {
      "cell_type": "markdown",
      "source": [
        "For loop"
      ],
      "metadata": {
        "id": "FARTdb-6d9vB"
      }
    },
    {
      "cell_type": "code",
      "source": [
        "laptop1 = int(input('Enter the price of the laptop: '))\n",
        "laptop2 = int(input('Enter the price of the laptop: '))\n",
        "laptop3 = int(input('Enter the price of the laptop: '))\n",
        "laptop4 = int(input('Enter the price of the laptop: '))\n",
        "laptop5 = int(input('Enter the price of the laptop: '))"
      ],
      "metadata": {
        "colab": {
          "base_uri": "https://localhost:8080/"
        },
        "id": "ECc_ufwxeFHC",
        "outputId": "b722fd37-ec5c-4be4-929b-a56699ce4f39"
      },
      "execution_count": 1,
      "outputs": [
        {
          "name": "stdout",
          "output_type": "stream",
          "text": [
            "Enter the price of the laptop: 20000\n",
            "Enter the price of the laptop: 30000\n",
            "Enter the price of the laptop: 40000\n",
            "Enter the price of the laptop: 50000\n",
            "Enter the price of the laptop: 60000\n"
          ]
        }
      ]
    },
    {
      "cell_type": "code",
      "source": [
        "for i in range(7): # 0,1,2,3,4,5,6\n",
        "\n",
        "  laptop_price = int(input(\"Enter the price of the laptop: \"))"
      ],
      "metadata": {
        "colab": {
          "base_uri": "https://localhost:8080/"
        },
        "id": "jYT6TD-DeW2f",
        "outputId": "f954baf6-d7a9-40be-f9b3-96fc121ed5b1"
      },
      "execution_count": 3,
      "outputs": [
        {
          "name": "stdout",
          "output_type": "stream",
          "text": [
            "Enter the price of the laptop: 6\n",
            "Enter the price of the laptop: 4\n",
            "Enter the price of the laptop: 8\n",
            "Enter the price of the laptop: 9\n",
            "Enter the price of the laptop: 5\n",
            "Enter the price of the laptop: 1\n",
            "Enter the price of the laptop: 3\n"
          ]
        }
      ]
    },
    {
      "cell_type": "code",
      "source": [
        "number = [50, 100, 150, 200]\n",
        "print(number[0])\n",
        "print(number[1])\n",
        "print(number[2])\n",
        "print(number[3])"
      ],
      "metadata": {
        "colab": {
          "base_uri": "https://localhost:8080/"
        },
        "id": "aYi5GSpyetT-",
        "outputId": "88d540ac-bc67-4b2f-bd0e-b4127dfe7cba"
      },
      "execution_count": 4,
      "outputs": [
        {
          "output_type": "stream",
          "name": "stdout",
          "text": [
            "50\n",
            "100\n",
            "150\n",
            "200\n"
          ]
        }
      ]
    },
    {
      "cell_type": "code",
      "source": [
        "numbers = [50, 100, 150, 200]\n",
        "\n",
        "for i in numbers:\n",
        "  print(i)"
      ],
      "metadata": {
        "colab": {
          "base_uri": "https://localhost:8080/"
        },
        "id": "E2wbX3uufCnv",
        "outputId": "b4c4ff66-45ce-4dc3-9ea1-455748855eec"
      },
      "execution_count": 5,
      "outputs": [
        {
          "output_type": "stream",
          "name": "stdout",
          "text": [
            "50\n",
            "100\n",
            "150\n",
            "200\n"
          ]
        }
      ]
    },
    {
      "cell_type": "markdown",
      "source": [
        "While Look\n",
        "\n",
        "while condition"
      ],
      "metadata": {
        "id": "jVtFCcfdfKnJ"
      }
    },
    {
      "cell_type": "code",
      "source": [
        "i = 0\n",
        "\n",
        "while i<10:\n",
        "  print(i)\n",
        "  i += 1"
      ],
      "metadata": {
        "colab": {
          "base_uri": "https://localhost:8080/"
        },
        "id": "NEppQEDJfTJQ",
        "outputId": "60fb97f2-eb0b-4100-b831-7f0bce0df7e8"
      },
      "execution_count": 6,
      "outputs": [
        {
          "output_type": "stream",
          "name": "stdout",
          "text": [
            "0\n",
            "1\n",
            "2\n",
            "3\n",
            "4\n",
            "5\n",
            "6\n",
            "7\n",
            "8\n",
            "9\n"
          ]
        }
      ]
    },
    {
      "cell_type": "code",
      "source": [
        "i = 5\n",
        "\n",
        "while i <10:\n",
        "  print(i)\n",
        "  i += 1"
      ],
      "metadata": {
        "colab": {
          "base_uri": "https://localhost:8080/"
        },
        "id": "WKjGtAC5fXf3",
        "outputId": "e4c8e8af-05bd-4ea4-8a07-1ccc53f43d71"
      },
      "execution_count": 10,
      "outputs": [
        {
          "output_type": "stream",
          "name": "stdout",
          "text": [
            "5\n",
            "6\n",
            "7\n",
            "8\n",
            "9\n"
          ]
        }
      ]
    },
    {
      "cell_type": "code",
      "source": [],
      "metadata": {
        "id": "y9wIla6jfe_A"
      },
      "execution_count": null,
      "outputs": []
    }
  ]
}