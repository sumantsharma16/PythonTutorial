{
  "nbformat": 4,
  "nbformat_minor": 0,
  "metadata": {
    "colab": {
      "provenance": []
    },
    "kernelspec": {
      "name": "python3",
      "display_name": "Python 3"
    },
    "language_info": {
      "name": "python"
    }
  },
  "cells": [
    {
      "cell_type": "markdown",
      "source": [
        "# **Dictionary Methods**"
      ],
      "metadata": {
        "id": "E9k2lr7upaao"
      }
    },
    {
      "cell_type": "markdown",
      "source": [
        "Dictionary uses several build in methods for manipulation. They are listed below:\n",
        "\n",
        "**updata()**\n",
        "\n",
        "The update() method updates the value of the key provided to it if the items already exists in the dictionary, else it created a new key value pair."
      ],
      "metadata": {
        "id": "_zDIA8E_pm3f"
      }
    },
    {
      "cell_type": "code",
      "source": [
        "info = {'name':'Karan', 'age':23, 'eligibile':True}\n",
        "print(info)\n",
        "info.update({'age':49})\n",
        "info.update({'DOB':1939})\n",
        "print(info)"
      ],
      "metadata": {
        "colab": {
          "base_uri": "https://localhost:8080/"
        },
        "id": "VwI_PgWKqLbw",
        "outputId": "0a6ce487-cfc0-4a49-b4b3-1c62e58f567f"
      },
      "execution_count": 3,
      "outputs": [
        {
          "output_type": "stream",
          "name": "stdout",
          "text": [
            "{'name': 'Karan', 'age': 23, 'eligibile': True}\n",
            "{'name': 'Karan', 'age': 49, 'eligibile': True, 'DOB': 1939}\n"
          ]
        }
      ]
    },
    {
      "cell_type": "markdown",
      "source": [
        "**Removing items from dictionary:**\n",
        "\n",
        "There are a few methods that we can use to remove items from dictionary.\n",
        "\n",
        "**clear():**\n",
        "\n",
        "The clear() removes all the items from the list."
      ],
      "metadata": {
        "id": "szggMk4UqldQ"
      }
    },
    {
      "cell_type": "code",
      "source": [
        "info = {'name':'Karan', 'age':23, 'eligibile':True}\n",
        "info.clear()\n",
        "print(info)"
      ],
      "metadata": {
        "colab": {
          "base_uri": "https://localhost:8080/"
        },
        "id": "GnjPb7f6rVFo",
        "outputId": "b7853e48-6dcd-4816-a92d-3d10ab7789a1"
      },
      "execution_count": 4,
      "outputs": [
        {
          "output_type": "stream",
          "name": "stdout",
          "text": [
            "{}\n"
          ]
        }
      ]
    },
    {
      "cell_type": "markdown",
      "source": [
        "**pop():**\n",
        "\n",
        "The pop() method remove the key value pair whose key is passed as a parameter."
      ],
      "metadata": {
        "id": "S68wcitIrbbm"
      }
    },
    {
      "cell_type": "code",
      "source": [
        "info = {'name':'Karan', 'age':23, 'eligibile':True}\n",
        "info.pop('eligibile')\n",
        "print(info)"
      ],
      "metadata": {
        "colab": {
          "base_uri": "https://localhost:8080/"
        },
        "id": "94hVu6Acrqi5",
        "outputId": "99f0dfd6-cd66-4d66-b723-7e9f64c99879"
      },
      "execution_count": 5,
      "outputs": [
        {
          "output_type": "stream",
          "name": "stdout",
          "text": [
            "{'name': 'Karan', 'age': 23}\n"
          ]
        }
      ]
    },
    {
      "cell_type": "markdown",
      "source": [
        "**popitem():**\n",
        "\n",
        "The popitem() method remove the last key-value pait from the dictionary."
      ],
      "metadata": {
        "id": "aVUUZbdsru0B"
      }
    },
    {
      "cell_type": "code",
      "source": [
        "info = {'name':'Karan', 'age':23, 'eligibile':True, 'DOB':3948}\n",
        "info.popitem()\n",
        "print(info)"
      ],
      "metadata": {
        "colab": {
          "base_uri": "https://localhost:8080/"
        },
        "id": "dEl9XOzzr_0O",
        "outputId": "d418b2cd-b8e7-4113-f0db-42cbab08dffe"
      },
      "execution_count": 6,
      "outputs": [
        {
          "output_type": "stream",
          "name": "stdout",
          "text": [
            "{'name': 'Karan', 'age': 23, 'eligibile': True}\n"
          ]
        }
      ]
    },
    {
      "cell_type": "markdown",
      "source": [
        "**del:**\n",
        "\n",
        "We can also use the del keyword to remove a dictionay item."
      ],
      "metadata": {
        "id": "rlLxtRkMsIPj"
      }
    },
    {
      "cell_type": "code",
      "source": [
        "info = {'name':'Karan', 'age':23, 'eligibile':True, 'DOB':3948}\n",
        "del info['age']\n",
        "print(info)"
      ],
      "metadata": {
        "colab": {
          "base_uri": "https://localhost:8080/"
        },
        "id": "1u_l1GvcsXYl",
        "outputId": "af686bc7-29cf-4aaf-f0fd-c8ed604510fe"
      },
      "execution_count": 7,
      "outputs": [
        {
          "output_type": "stream",
          "name": "stdout",
          "text": [
            "{'name': 'Karan', 'eligibile': True, 'DOB': 3948}\n"
          ]
        }
      ]
    },
    {
      "cell_type": "code",
      "source": [
        "info = {'name':'Karan', 'age':23, 'eligibile':True, 'DOB':3948}\n",
        "del info\n",
        "print(info)"
      ],
      "metadata": {
        "colab": {
          "base_uri": "https://localhost:8080/",
          "height": 200
        },
        "id": "K8nEiuGxsbOi",
        "outputId": "879e82d7-af66-48e2-88bf-a46e50e544f0"
      },
      "execution_count": 8,
      "outputs": [
        {
          "output_type": "error",
          "ename": "NameError",
          "evalue": "ignored",
          "traceback": [
            "\u001b[0;31m---------------------------------------------------------------------------\u001b[0m",
            "\u001b[0;31mNameError\u001b[0m                                 Traceback (most recent call last)",
            "\u001b[0;32m<ipython-input-8-800f3674c810>\u001b[0m in \u001b[0;36m<cell line: 3>\u001b[0;34m()\u001b[0m\n\u001b[1;32m      1\u001b[0m \u001b[0minfo\u001b[0m \u001b[0;34m=\u001b[0m \u001b[0;34m{\u001b[0m\u001b[0;34m'name'\u001b[0m\u001b[0;34m:\u001b[0m\u001b[0;34m'Karan'\u001b[0m\u001b[0;34m,\u001b[0m \u001b[0;34m'age'\u001b[0m\u001b[0;34m:\u001b[0m\u001b[0;36m23\u001b[0m\u001b[0;34m,\u001b[0m \u001b[0;34m'eligibile'\u001b[0m\u001b[0;34m:\u001b[0m\u001b[0;32mTrue\u001b[0m\u001b[0;34m,\u001b[0m \u001b[0;34m'DOB'\u001b[0m\u001b[0;34m:\u001b[0m\u001b[0;36m3948\u001b[0m\u001b[0;34m}\u001b[0m\u001b[0;34m\u001b[0m\u001b[0;34m\u001b[0m\u001b[0m\n\u001b[1;32m      2\u001b[0m \u001b[0;32mdel\u001b[0m \u001b[0minfo\u001b[0m\u001b[0;34m\u001b[0m\u001b[0;34m\u001b[0m\u001b[0m\n\u001b[0;32m----> 3\u001b[0;31m \u001b[0mprint\u001b[0m\u001b[0;34m(\u001b[0m\u001b[0minfo\u001b[0m\u001b[0;34m)\u001b[0m\u001b[0;34m\u001b[0m\u001b[0;34m\u001b[0m\u001b[0m\n\u001b[0m",
            "\u001b[0;31mNameError\u001b[0m: name 'info' is not defined"
          ]
        }
      ]
    },
    {
      "cell_type": "code",
      "source": [],
      "metadata": {
        "id": "DB4CQy-Hsig5"
      },
      "execution_count": null,
      "outputs": []
    }
  ]
}