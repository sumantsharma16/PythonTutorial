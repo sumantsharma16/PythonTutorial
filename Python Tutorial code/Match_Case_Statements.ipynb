{
  "nbformat": 4,
  "nbformat_minor": 0,
  "metadata": {
    "colab": {
      "provenance": []
    },
    "kernelspec": {
      "name": "python3",
      "display_name": "Python 3"
    },
    "language_info": {
      "name": "python"
    }
  },
  "cells": [
    {
      "cell_type": "markdown",
      "source": [
        "# Match Case Statements"
      ],
      "metadata": {
        "id": "1Qi8xJx2kGzd"
      }
    },
    {
      "cell_type": "markdown",
      "source": [
        "To implement switch-case like characteristics very similar to if else functionality, we use a match case in python.\n",
        "\n",
        "A match statement will compare a given variable's value to different shapes, also referred to as the pattern. The main idea is to keep on comapring the variable with all the present patterns untill it fits into one.\n",
        "\n",
        "The match case consists of three main entities:\n",
        "\n",
        "1. The match keyword\n",
        "\n",
        "2. One or more case clauses\n",
        "\n",
        "3. Expression for each case\n",
        "\n",
        "\n",
        "The case clause consists of a pattern to be matche to the variable, a condition to be evaluated if the pattern matches, and a set of statements to be executed if the pattern matches."
      ],
      "metadata": {
        "id": "9-zFqvz2kRAU"
      }
    },
    {
      "cell_type": "markdown",
      "source": [
        "match variable_name:\n",
        "\n",
        "  case 'pattern1' : //statement1\n",
        "\n",
        "  case 'pattern2' : //statement2\n",
        "\n",
        "  ...\n",
        "\n",
        "  \n",
        "  case 'pattern n' : //statementn"
      ],
      "metadata": {
        "id": "vlF8dZ9plwXA"
      }
    },
    {
      "cell_type": "code",
      "source": [
        "x = 4\n",
        "# x is the variable to match\n",
        "match x:\n",
        "    # if x is 0\n",
        "    case 0:\n",
        "        print(\"x is zero\")\n",
        "    # case with if-condition\n",
        "    case 4 if x % 2 == 0:\n",
        "        print(\"x % 2 == 0 and case is 4\")\n",
        "    # Empty case with if-condition\n",
        "    case _ if x < 10:\n",
        "        print(\"x is < 10\")\n",
        "    # default case(will only be matched if the above cases were not matched)\n",
        "    # so it is basically just an else:\n",
        "    case _:\n",
        "        print(x)"
      ],
      "metadata": {
        "colab": {
          "base_uri": "https://localhost:8080/",
          "height": 130
        },
        "id": "v3Z2f4mAmEUQ",
        "outputId": "6cdeb5e5-2e83-46d1-a2b5-9bb4ebd2ce49"
      },
      "execution_count": 2,
      "outputs": [
        {
          "output_type": "error",
          "ename": "SyntaxError",
          "evalue": "ignored",
          "traceback": [
            "\u001b[0;36m  File \u001b[0;32m\"<ipython-input-2-8fed64a6d5dc>\"\u001b[0;36m, line \u001b[0;32m3\u001b[0m\n\u001b[0;31m    match x:\u001b[0m\n\u001b[0m          ^\u001b[0m\n\u001b[0;31mSyntaxError\u001b[0m\u001b[0;31m:\u001b[0m invalid syntax\n"
          ]
        }
      ]
    },
    {
      "cell_type": "code",
      "source": [],
      "metadata": {
        "id": "avB5ghQrmsKp"
      },
      "execution_count": null,
      "outputs": []
    }
  ]
}