{
  "nbformat": 4,
  "nbformat_minor": 0,
  "metadata": {
    "colab": {
      "provenance": []
    },
    "kernelspec": {
      "name": "python3",
      "display_name": "Python 3"
    },
    "language_info": {
      "name": "python"
    }
  },
  "cells": [
    {
      "cell_type": "markdown",
      "source": [
        "**# Map filter and Reduce***\n",
        "\n",
        "In python the map filter and reduce function are build in function that allow you to apply a function to a sequence of elements and return a new sequence. These functions are known as higher order functions, as they take other functions as arguments.\n",
        "\n",
        "**map**\n",
        "\n",
        "The map function applies a function to each element in a sequence and returns a new sequence containing the transformed elements. The map function has following syantax:\n",
        "\n",
        "     **map(function, iterable)**\n",
        "\n",
        "The function argument is a function that is applied to each element in the iterable argument. The iterable argument can be list, tuple or any other iterable object."
      ],
      "metadata": {
        "id": "H3bp4xhz3cU1"
      }
    },
    {
      "cell_type": "code",
      "source": [
        "numbers = [1,2,3,4,5]\n",
        "\n",
        "doubled = map(lambda x: x * 2, numbers)\n",
        "print(list(doubled))"
      ],
      "metadata": {
        "colab": {
          "base_uri": "https://localhost:8080/"
        },
        "id": "ovZVXe8o5W-Q",
        "outputId": "72155f3d-63b5-476b-d184-7dc079812434"
      },
      "execution_count": 3,
      "outputs": [
        {
          "output_type": "stream",
          "name": "stdout",
          "text": [
            "[2, 4, 6, 8, 10]\n"
          ]
        }
      ]
    },
    {
      "cell_type": "markdown",
      "source": [
        "In the above example, the lambda function lambda x:x*2 is used to double each double each element in the numbers list. The map function applies the lambda function to each element in the list and return a new list containg the doubled numbers."
      ],
      "metadata": {
        "id": "agHZ6hON5yQ-"
      }
    },
    {
      "cell_type": "markdown",
      "source": [
        "**filter**\n",
        "\n",
        "The filter function filter a sequence of elements based on a given predicate (a function that returns a boolean value) and returns a new sequence containing only the elements that meet the predicate. The filter function has the following synatax:\n",
        "\n",
        "  **filter(predicate, iterable)**\n",
        "\n",
        "The predicate argument is a function that returns a boolean value and is applied to eacn element in the iterable argument. The iterable argument can be a list, tuple or any other iterable object."
      ],
      "metadata": {
        "id": "LjCcCnPR6ZPn"
      }
    },
    {
      "cell_type": "code",
      "source": [
        "number = [1,2,3,4,5]\n",
        "evens = filter(lambda x: x%2 == 0, number)"
      ],
      "metadata": {
        "id": "zKE8JHfJ7RC_"
      },
      "execution_count": 5,
      "outputs": []
    },
    {
      "cell_type": "markdown",
      "source": [
        "In the above example the lambda function lambda x:x%2 ==0 is used to filter the number list and return only the even numberes. The filter function applies the lambda function to each element in the list and returns a new list containing only the even numbers.\n",
        "\n",
        "\n",
        "***reduce***\n",
        "\n",
        "The reduce function is higher order function that applies to a sequence and returns a single value. It is a part of the funciton module in python and has the following syntax:\n",
        "\n",
        "reduce(function, iterable)\n",
        "\n",
        "The function argument is a function that takes in two arguments and returns a single value. The iterable argumnet is a sequence of elements, such as list or tuple."
      ],
      "metadata": {
        "id": "q1Bab3KC7jAg"
      }
    },
    {
      "cell_type": "code",
      "source": [
        "from functools import reduce\n",
        "\n",
        "numbers = [1,2,3,4,5]\n",
        "\n",
        "sum = reduce(lambda x, y: x + y, numbers)\n",
        "\n",
        "print(sum)"
      ],
      "metadata": {
        "colab": {
          "base_uri": "https://localhost:8080/"
        },
        "id": "myzoHULM8z8F",
        "outputId": "6faaa66c-8f78-4a21-d892-2f57e2978d3f"
      },
      "execution_count": 6,
      "outputs": [
        {
          "output_type": "stream",
          "name": "stdout",
          "text": [
            "15\n"
          ]
        }
      ]
    },
    {
      "cell_type": "markdown",
      "source": [
        "In the above example, the reduce function applies the lambda function lambda function to the first two elements in the list(1 and 2), then applies the function to the result (3) and the next element (3), and so on. The final result is the sum of all the elements in the list, which is 15. \n",
        "\n",
        "It is important to note that the reduce function requires the functools module to be imported in order to use it."
      ],
      "metadata": {
        "id": "uVHUpJQp9Fte"
      }
    }
  ]
}