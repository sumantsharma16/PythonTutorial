{
  "nbformat": 4,
  "nbformat_minor": 0,
  "metadata": {
    "colab": {
      "provenance": []
    },
    "kernelspec": {
      "name": "python3",
      "display_name": "Python 3"
    },
    "language_info": {
      "name": "python"
    }
  },
  "cells": [
    {
      "cell_type": "markdown",
      "source": [
        "***Python Decorators:***\n",
        "\n",
        "Python decorators are a powerful and versatile tool that allow you to modify the behavior of functions and methods. They are a way to exentend the functionality of a funciton or method without modifying its source code.\n",
        "\n",
        "A decorator is a function that takes another function as an argument and returns a new function that modifies the behavior of the orginal function. The new function is often referred to as a decorated function. The basic syntax for using decorator is the following:\n",
        "\n",
        "@decorator_function\n",
        "def my_function():\n",
        "  pass\n",
        "\n",
        "\n",
        "\n",
        "The @decorator_function notation is just a shorthand for the following code:"
      ],
      "metadata": {
        "id": "3YXr9-jkOEgN"
      }
    },
    {
      "cell_type": "code",
      "source": [
        "def my_function():\n",
        "  pass\n",
        "\n",
        "my_function = decorator_function(my_function)"
      ],
      "metadata": {
        "id": "sD98IPsiPuhB"
      },
      "execution_count": null,
      "outputs": []
    },
    {
      "cell_type": "markdown",
      "source": [
        "Decorators are often used to add funtionality to function and methods such as logging, memoization and access control.\n",
        "\n",
        "**Practical use case**\n",
        "\n",
        "One common use of decorators is to add logging to a function. For example, you could use a decorator to log the arguments and return value of a function each time it is callled:"
      ],
      "metadata": {
        "id": "v_6pFbvsP42i"
      }
    },
    {
      "cell_type": "code",
      "source": [
        "import logging\n",
        "def log_function_call(func):\n",
        "    def decorated(*args, **kwargs):\n",
        "        logging.info(f\"Calling {func.__name__} with args={args}, kwargs={kwargs}\")\n",
        "        result = func(*args, **kwargs)\n",
        "        logging.info(f\"{func.__name__} returned {result}\")\n",
        "        return result\n",
        "    return decorated\n",
        "@log_function_call\n",
        "def my_function(a, b):\n",
        "    return a + b"
      ],
      "metadata": {
        "id": "XLY0-NQwRi42"
      },
      "execution_count": 4,
      "outputs": []
    },
    {
      "cell_type": "markdown",
      "source": [
        "In this example the log_function_call decorator takes a function as an argument and return a new function that logs the function call before and after the original function is called."
      ],
      "metadata": {
        "id": "AH6kaf_MRq60"
      }
    },
    {
      "cell_type": "markdown",
      "source": [
        "\n",
        "Conclusion\n",
        "\n",
        "\n",
        "\n",
        "Decorators are a powerful and flexible feature in Python that can be used to add functionality to functions and methods without modifying their source code. They are a great tool for separating concerns, reducing code duplication, and making your code more readable and maintainable.\n",
        "\n",
        "In conclusion, python decorators are a way to extend the functionality of functions and methods, by modifying its behavior without modifying the source code. They are used for a variety of purposes, such as logging, memoization, access control, and more. They are a powerful tool that can be used to make your code more readable, maintainable, and extendable."
      ],
      "metadata": {
        "id": "g8n4CFgxSEpp"
      }
    },
    {
      "cell_type": "code",
      "source": [],
      "metadata": {
        "id": "0qiqSiFgSZ3n"
      },
      "execution_count": null,
      "outputs": []
    }
  ]
}