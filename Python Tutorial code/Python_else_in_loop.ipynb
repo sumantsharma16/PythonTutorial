{
  "nbformat": 4,
  "nbformat_minor": 0,
  "metadata": {
    "colab": {
      "provenance": []
    },
    "kernelspec": {
      "name": "python3",
      "display_name": "Python 3"
    },
    "language_info": {
      "name": "python"
    }
  },
  "cells": [
    {
      "cell_type": "markdown",
      "source": [
        "# **Python- else in loop**\n",
        "\n",
        "the else clause is used along with the if statement.\n",
        "\n",
        "Python allows the else keyword to be used with the for and while loops too. The else block appears after the body of the loop. The statements in the else block will be executed after the else block is executed"
      ],
      "metadata": {
        "id": "ia2Zwvhcs6do"
      }
    },
    {
      "cell_type": "code",
      "source": [
        "for x in range(5):\n",
        "  print(\"iteration no {} in for loop\". format(x+1))\n",
        "\n",
        "else:\n",
        "  print(\"else block in loop\")\n",
        "\n",
        "print(\"Out of loop\")"
      ],
      "metadata": {
        "colab": {
          "base_uri": "https://localhost:8080/"
        },
        "id": "-ci1CGUTtv13",
        "outputId": "f86e5b06-1cba-40c7-ed97-9a1a513b2164"
      },
      "execution_count": 1,
      "outputs": [
        {
          "output_type": "stream",
          "name": "stdout",
          "text": [
            "iteration no 1 in for loop\n",
            "iteration no 2 in for loop\n",
            "iteration no 3 in for loop\n",
            "iteration no 4 in for loop\n",
            "iteration no 5 in for loop\n",
            "else block in loop\n",
            "Out of loop\n"
          ]
        }
      ]
    },
    {
      "cell_type": "code",
      "source": [],
      "metadata": {
        "id": "oHx0co2Ht_-b"
      },
      "execution_count": null,
      "outputs": []
    }
  ]
}