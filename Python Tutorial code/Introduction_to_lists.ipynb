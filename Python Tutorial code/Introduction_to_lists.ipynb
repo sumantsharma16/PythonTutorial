{
  "nbformat": 4,
  "nbformat_minor": 0,
  "metadata": {
    "colab": {
      "provenance": []
    },
    "kernelspec": {
      "name": "python3",
      "display_name": "Python 3"
    },
    "language_info": {
      "name": "python"
    }
  },
  "cells": [
    {
      "cell_type": "markdown",
      "source": [
        "# Python Lists"
      ],
      "metadata": {
        "id": "SCjNh5AqyBvy"
      }
    },
    {
      "cell_type": "markdown",
      "source": [
        ". Lists are ordered collection of data items.\n",
        "\n",
        ". They store multiple items in a single variable.\n",
        "\n",
        ". List items are seprated by commas and enclosed within square brackets[].\n",
        "\n",
        ". List are changeable meaning we can alter them after creation."
      ],
      "metadata": {
        "id": "gpsePg89yMUf"
      }
    },
    {
      "cell_type": "code",
      "source": [
        "lst1 = [1,2,3,2,4,5,4]\n",
        "\n",
        "lst2 = [\"Red\", \"Green\", \"Blue\"]\n",
        "\n",
        "print(lst1)\n",
        "print(lst2)"
      ],
      "metadata": {
        "colab": {
          "base_uri": "https://localhost:8080/"
        },
        "id": "--BlO0Kmynot",
        "outputId": "a8090b46-3707-4e1d-9c8e-e8043082a802"
      },
      "execution_count": 1,
      "outputs": [
        {
          "output_type": "stream",
          "name": "stdout",
          "text": [
            "[1, 2, 3, 2, 4, 5, 4]\n",
            "['Red', 'Green', 'Blue']\n"
          ]
        }
      ]
    },
    {
      "cell_type": "code",
      "source": [
        "details = [\"sumant\", 14, \"aadhya\", 9.2]\n",
        "print(details)"
      ],
      "metadata": {
        "colab": {
          "base_uri": "https://localhost:8080/"
        },
        "id": "Q_sism-9y0LL",
        "outputId": "f486daa8-4b89-476e-ede0-a03726383a9b"
      },
      "execution_count": 2,
      "outputs": [
        {
          "output_type": "stream",
          "name": "stdout",
          "text": [
            "['sumant', 14, 'aadhya', 9.2]\n"
          ]
        }
      ]
    },
    {
      "cell_type": "markdown",
      "source": [
        "As we can see, a single list can contain items of different data types."
      ],
      "metadata": {
        "id": "2XjT46qJzAar"
      }
    },
    {
      "cell_type": "markdown",
      "source": [
        "# List Index"
      ],
      "metadata": {
        "id": "NBNSazQ-zLO7"
      }
    },
    {
      "cell_type": "markdown",
      "source": [
        "Each item / element in a list has its own unique index. This index can be used to access any particular item from the list. The first item has index [0], second item has index[1], and so on.\n",
        "\n",
        "\n",
        "***Accessing list items***\n",
        "\n",
        "We can access list items by using its index with the square bracket syntax[].\n",
        "\n",
        "\n",
        "**Positive Indexing:**\n",
        "\n",
        "As we have seen that list items have index, as such we can access items using these indexes.\n",
        "\n",
        "**Negative Indexing:**\n",
        "\n",
        "Similar to positive indexing, negative indexing is also used to access items, but from the end of the list. The last item has index [-1], second last item has index[-2], third last item has index[-3] and so on\n"
      ],
      "metadata": {
        "id": "pfQ5Gn_3zlU-"
      }
    },
    {
      "cell_type": "markdown",
      "source": [
        "***Check whether an item is present in the list?***\n",
        "\n",
        "We can check if a given item is present in the list. This is done using the in keyword."
      ],
      "metadata": {
        "id": "fYrqvk4-1DUQ"
      }
    },
    {
      "cell_type": "code",
      "source": [
        "colors = [\"Red\", \"Green\", \"Blue\", \"Yellow\", \"Green\"]\n",
        "\n",
        "if \"Yellow\" in colors:\n",
        "  print(\"Yellow is present\")\n",
        "\n",
        "else:\n",
        "  print(\"Yellow is absent\")"
      ],
      "metadata": {
        "colab": {
          "base_uri": "https://localhost:8080/"
        },
        "id": "4G47sTRB1WGz",
        "outputId": "489df080-29ab-4a8b-81eb-cdf4061717df"
      },
      "execution_count": 3,
      "outputs": [
        {
          "output_type": "stream",
          "name": "stdout",
          "text": [
            "Yellow is present\n"
          ]
        }
      ]
    },
    {
      "cell_type": "code",
      "source": [
        "colors = [\"Red\", \"Green\", \"Blue\", \"Yellow\", \"Green\"]\n",
        "\n",
        "if \"Orange\" in colors:\n",
        "  print(\"Orange is present\")\n",
        "\n",
        "else:\n",
        "  print(\"Orange is absent\")"
      ],
      "metadata": {
        "colab": {
          "base_uri": "https://localhost:8080/"
        },
        "id": "krkhDa7O1oQX",
        "outputId": "7bf0043d-e1fa-4b3c-f62a-0214345dbe78"
      },
      "execution_count": 4,
      "outputs": [
        {
          "output_type": "stream",
          "name": "stdout",
          "text": [
            "Orange is absent\n"
          ]
        }
      ]
    },
    {
      "cell_type": "markdown",
      "source": [
        "**Range of Index**\n",
        "\n",
        "You can print a range of list items by specifing where you want to start, where do you want to end and if you want to skip elements in between the range."
      ],
      "metadata": {
        "id": "kpd1SDlx1zZw"
      }
    },
    {
      "cell_type": "code",
      "source": [],
      "metadata": {
        "id": "kTsLT7i92N4T"
      },
      "execution_count": null,
      "outputs": []
    },
    {
      "cell_type": "markdown",
      "source": [
        "listName[start : end : jumpIndex]"
      ],
      "metadata": {
        "id": "-L4zNUNC2T_3"
      }
    },
    {
      "cell_type": "code",
      "source": [
        "animals = [\"cat\", \"dog\", \"bat\", \"mouse\", \"pig\", \"horse\", \"donkey\", \"goat\", \"cow\"]\n",
        "\n",
        "print(animals[3:7]) \n",
        "\n",
        "print(animals[-7:-2]) "
      ],
      "metadata": {
        "colab": {
          "base_uri": "https://localhost:8080/"
        },
        "id": "S2TUxpAd2Xaf",
        "outputId": "2c82ca46-470c-4ca6-e22e-dfc6dd309001"
      },
      "execution_count": 6,
      "outputs": [
        {
          "output_type": "stream",
          "name": "stdout",
          "text": [
            "['mouse', 'pig', 'horse', 'donkey']\n",
            "['bat', 'mouse', 'pig', 'horse', 'donkey']\n"
          ]
        }
      ]
    },
    {
      "cell_type": "markdown",
      "source": [
        "when no index is provided the interpreter prints all the values till the end."
      ],
      "metadata": {
        "id": "1y8GSXm02u6_"
      }
    },
    {
      "cell_type": "markdown",
      "source": [
        "# List comprehension"
      ],
      "metadata": {
        "id": "HcSqLtS83b-w"
      }
    },
    {
      "cell_type": "markdown",
      "source": [
        "\n",
        "List comprehesion are use for creating new lists from other iterables like lists , tuples, dictionary, sets, and even in array and StringTemplateStyle\n",
        "\n",
        "\n",
        "\n",
        "**Expression:** It is the items whic is being iterated.\n",
        "\n",
        "**Iterable:**It can be list, tuple, dictionary, set and even in arrays and strings.\n",
        "\n",
        "**Condition:** Condition checks if the item should be added to the new list or not"
      ],
      "metadata": {
        "id": "fp5ID1QU3grg"
      }
    },
    {
      "cell_type": "code",
      "source": [
        "# Accepts items with the small letter \"o\" in the new list\n",
        "\n",
        "names = [\"Milo\", \"Sarah\", \"Bruno\", \"Anastasia\", \"Rosa\"]\n",
        "\n",
        "namesWith_o = [item for item in names if \"o \" in item]\n",
        "\n",
        "print(namesWith_o)"
      ],
      "metadata": {
        "colab": {
          "base_uri": "https://localhost:8080/"
        },
        "id": "xkefo08r4YaV",
        "outputId": "31852421-f73e-4674-dfbb-3399ede210fd"
      },
      "execution_count": 9,
      "outputs": [
        {
          "output_type": "stream",
          "name": "stdout",
          "text": [
            "[]\n"
          ]
        }
      ]
    },
    {
      "cell_type": "code",
      "source": [
        "print(namesWith_o)"
      ],
      "metadata": {
        "colab": {
          "base_uri": "https://localhost:8080/"
        },
        "id": "zs-AyMyU44Ig",
        "outputId": "00e6bc3a-cd85-4fa7-ecb0-59d767a00505"
      },
      "execution_count": 10,
      "outputs": [
        {
          "output_type": "stream",
          "name": "stdout",
          "text": [
            "[]\n"
          ]
        }
      ]
    },
    {
      "cell_type": "code",
      "source": [
        "# Accepts items with the small letter \"o\" in the new list\n",
        "\n",
        "names = [\"Milo\", \"Sarah\", \"Bruno\", \"Anastasia\", \"Rosa\"]\n",
        "\n",
        "namesWith_o = [item for item in names if (len(item)>4)]\n",
        "\n",
        "print(namesWith_o)"
      ],
      "metadata": {
        "colab": {
          "base_uri": "https://localhost:8080/"
        },
        "id": "ffy2MZSM5BYx",
        "outputId": "82fab3ef-8458-429f-b6b8-1b7e6ffee0fc"
      },
      "execution_count": 11,
      "outputs": [
        {
          "output_type": "stream",
          "name": "stdout",
          "text": [
            "['Sarah', 'Bruno', 'Anastasia']\n"
          ]
        }
      ]
    },
    {
      "cell_type": "code",
      "source": [],
      "metadata": {
        "id": "wZSEeGte5R-b"
      },
      "execution_count": null,
      "outputs": []
    }
  ]
}