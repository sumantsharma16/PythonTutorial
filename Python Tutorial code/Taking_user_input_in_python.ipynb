{
  "nbformat": 4,
  "nbformat_minor": 0,
  "metadata": {
    "colab": {
      "provenance": []
    },
    "kernelspec": {
      "name": "python3",
      "display_name": "Python 3"
    },
    "language_info": {
      "name": "python"
    }
  },
  "cells": [
    {
      "cell_type": "markdown",
      "source": [
        "# Taking user Input in python"
      ],
      "metadata": {
        "id": "pbGcGxMSIm8q"
      }
    },
    {
      "cell_type": "markdown",
      "source": [
        "In python, we can take user input directly by using input() function. This input function gives a return value as string/character hence we have to pass that into a variable"
      ],
      "metadata": {
        "id": "vKtsHOZyIxTq"
      }
    },
    {
      "cell_type": "code",
      "source": [
        "variable = input()"
      ],
      "metadata": {
        "colab": {
          "base_uri": "https://localhost:8080/"
        },
        "id": "mzRSl6W9JFOJ",
        "outputId": "b249c1aa-4869-4bfb-ba78-0a770a0edc90"
      },
      "execution_count": 1,
      "outputs": [
        {
          "name": "stdout",
          "output_type": "stream",
          "text": [
            "w\n"
          ]
        }
      ]
    },
    {
      "cell_type": "markdown",
      "source": [
        "But input function returns the value as string. Hence we have to typecast them whenever required to another datatype."
      ],
      "metadata": {
        "id": "nwgz0B04JIEC"
      }
    },
    {
      "cell_type": "code",
      "source": [
        "variable= int(input())\n",
        "variable = float(input())"
      ],
      "metadata": {
        "colab": {
          "base_uri": "https://localhost:8080/"
        },
        "id": "e-0TJmfbJX3B",
        "outputId": "02706a26-f837-4d53-c9a8-a6f97a246d02"
      },
      "execution_count": 2,
      "outputs": [
        {
          "name": "stdout",
          "output_type": "stream",
          "text": [
            "4\n",
            "4.5\n"
          ]
        }
      ]
    },
    {
      "cell_type": "markdown",
      "source": [
        "We can display a text using input function. This will make input() function take user input and display a message as well."
      ],
      "metadata": {
        "id": "edv4T912Jf3b"
      }
    },
    {
      "cell_type": "code",
      "source": [
        "a = input(\"Enter the name\")\n",
        "print(a)"
      ],
      "metadata": {
        "colab": {
          "base_uri": "https://localhost:8080/"
        },
        "id": "bsb5VFbpJxw8",
        "outputId": "381d240c-65d2-42cd-ccbf-64f908eba67b"
      },
      "execution_count": 3,
      "outputs": [
        {
          "output_type": "stream",
          "name": "stdout",
          "text": [
            "Enter the namesumant\n",
            "sumant\n"
          ]
        }
      ]
    },
    {
      "cell_type": "code",
      "source": [],
      "metadata": {
        "id": "O0J21C7aJ2Ni"
      },
      "execution_count": null,
      "outputs": []
    }
  ]
}