{
  "nbformat": 4,
  "nbformat_minor": 0,
  "metadata": {
    "colab": {
      "provenance": []
    },
    "kernelspec": {
      "name": "python3",
      "display_name": "Python 3"
    },
    "language_info": {
      "name": "python"
    }
  },
  "cells": [
    {
      "cell_type": "markdown",
      "source": [
        "# ***Constructors***\n",
        "\n",
        "A constructor is a special method in a class used to create and initialize an object of a class. There are differnt type of constructors. Constructor is invoked automatically when an object of a class is created\n",
        "\n",
        "A constructor is a unique function that get called automatically when an object is created of a class. The main purpose of a constructor is to initializer or assingn value to the data members of that class. It cannot return any value other than None."
      ],
      "metadata": {
        "id": "n6LX6APNKOf2"
      }
    },
    {
      "cell_type": "code",
      "source": [
        "def __init__(self):"
      ],
      "metadata": {
        "id": "UYN08UcsLg3o"
      },
      "execution_count": null,
      "outputs": []
    },
    {
      "cell_type": "markdown",
      "source": [
        "init is one of the reserved function in python. In OOP it is known as a constructor\n",
        "\n",
        "\n",
        "**Type of Constructors in python**\n",
        "\n",
        "1. Parameterized constructor\n",
        "2. Default constructor\n",
        "\n",
        "**Parameterized constructor in python:**\n",
        "\n",
        "When the constructor accepts arguments along with self, it is known as parameterized constructor\n",
        "\n",
        "These arguments can be used inside the class to assign the values to the data members."
      ],
      "metadata": {
        "id": "dPJIXddgLStr"
      }
    },
    {
      "cell_type": "code",
      "source": [
        "class Details:\n",
        "  def __init__(self, animal, group):\n",
        "    self.animal = animal\n",
        "    self.group = group\n",
        "\n",
        "obj1 = Details(\"Crab\", \"Crustaceans\")\n",
        "print(obj1.animal, \"belongs to the \", obj1.group, \"group.\")"
      ],
      "metadata": {
        "colab": {
          "base_uri": "https://localhost:8080/"
        },
        "id": "pSdYHP6FMQNz",
        "outputId": "4276b09e-20fd-4612-b25f-e5812eaa5111"
      },
      "execution_count": 2,
      "outputs": [
        {
          "output_type": "stream",
          "name": "stdout",
          "text": [
            "Crab belongs to the  Crustaceans group.\n"
          ]
        }
      ]
    },
    {
      "cell_type": "markdown",
      "source": [
        "# Default Constructor in python\n",
        "\n",
        "When the constructor doesn't accept any arguments from the object and has only argument, self, in the constructor, it is known as a Default construtor."
      ],
      "metadata": {
        "id": "kyup4qI4MtO-"
      }
    },
    {
      "cell_type": "code",
      "source": [
        "class Details:\n",
        "  def __init__(self):\n",
        "    print(\"animal crab belong to Crustaceans group\")\n",
        "obj1=Details()"
      ],
      "metadata": {
        "colab": {
          "base_uri": "https://localhost:8080/"
        },
        "id": "HjCDYJ7FNI-q",
        "outputId": "44bb739d-3ef6-42b0-e97b-79eaa5a5f19a"
      },
      "execution_count": 3,
      "outputs": [
        {
          "output_type": "stream",
          "name": "stdout",
          "text": [
            "animal crab belong to Crustaceans group\n"
          ]
        }
      ]
    },
    {
      "cell_type": "code",
      "source": [],
      "metadata": {
        "id": "BlwcLOoJNYQx"
      },
      "execution_count": null,
      "outputs": []
    }
  ]
}