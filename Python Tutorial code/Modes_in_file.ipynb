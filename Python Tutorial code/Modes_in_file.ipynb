{
  "nbformat": 4,
  "nbformat_minor": 0,
  "metadata": {
    "colab": {
      "provenance": []
    },
    "kernelspec": {
      "name": "python3",
      "display_name": "Python 3"
    },
    "language_info": {
      "name": "python"
    }
  },
  "cells": [
    {
      "cell_type": "markdown",
      "source": [
        "# Modes in file\n",
        "\n",
        "Python provides several ways to manipulate files. We will discuss how to handle files in python.\n",
        "\n",
        "**Opening a file**\n",
        "\n",
        "Before we can perform any operation on a file we must first open it. python provide the open() a file. It takes two arguments the name of the file and the mode in which the file should be opened. The mode can be 'r' for reading \n",
        "'w' for writting or 'a' for appending"
      ],
      "metadata": {
        "id": "vLTTCa_x4zr8"
      }
    },
    {
      "cell_type": "code",
      "source": [
        "f = open('myfile.txt', 'r')"
      ],
      "metadata": {
        "id": "0ib_sJNn5tsl"
      },
      "execution_count": null,
      "outputs": []
    },
    {
      "cell_type": "markdown",
      "source": [
        "By default, the open() function return a file object that can be used to read from or write to the file depending on the mode."
      ],
      "metadata": {
        "id": "J0ZFE7_j5y_K"
      }
    },
    {
      "cell_type": "markdown",
      "source": [
        "There are various modes in which we can open files.\n",
        "\n",
        "1. read(r)\n",
        "\n",
        "2. write(w)\n",
        "\n",
        "3. append(a)\n",
        "\n",
        "4. create(x)\n",
        "\n",
        "5. text(t)\n",
        "\n",
        "6. binary(b)"
      ],
      "metadata": {
        "id": "icuDbNL_6CAO"
      }
    },
    {
      "cell_type": "markdown",
      "source": [
        "**Closing a File**\n",
        "\n",
        "It is important to close a file after you are done with it. This release the resources used by the file and allow other program to access it.\n",
        "\n",
        "To close a file, you can use the close() method."
      ],
      "metadata": {
        "id": "l5HF-1Yj6kNN"
      }
    },
    {
      "cell_type": "code",
      "source": [
        "f = open('myfile.txt', 'r')\n",
        "f.close"
      ],
      "metadata": {
        "id": "dLQLityV6-JH"
      },
      "execution_count": null,
      "outputs": []
    },
    {
      "cell_type": "markdown",
      "source": [
        "***The 'with' statement***\n",
        "\n",
        "Alternatively you can use the with statement to automatically close the file after you are done with it."
      ],
      "metadata": {
        "id": "Vjuyb2lV7FNO"
      }
    },
    {
      "cell_type": "code",
      "source": [
        "with open('myfile.txt', 'r') as f:"
      ],
      "metadata": {
        "id": "HSYBp3ZC7Xgt"
      },
      "execution_count": null,
      "outputs": []
    },
    {
      "cell_type": "code",
      "source": [],
      "metadata": {
        "id": "nqAC1-oJ7cLH"
      },
      "execution_count": null,
      "outputs": []
    }
  ]
}