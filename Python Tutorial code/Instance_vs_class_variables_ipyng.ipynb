{
  "nbformat": 4,
  "nbformat_minor": 0,
  "metadata": {
    "colab": {
      "provenance": []
    },
    "kernelspec": {
      "name": "python3",
      "display_name": "Python 3"
    },
    "language_info": {
      "name": "python"
    }
  },
  "cells": [
    {
      "cell_type": "markdown",
      "source": [
        "# Inatances vs class variables\n",
        "\n",
        "In python variables can be defined at the class level or at the instance level. Understanding the differnce between these type of variables is crucial for writing efficient and maintainable code.\n",
        "\n",
        "**Class Variable**\n",
        "\n",
        "Class varialbes are defined at the class level and are shared among all instances of the class. They are defined outside of any method and are ususlly used to store information that is common to all instances of the class. for example a class variable can be used to store the number of instanaces of a class that have been created."
      ],
      "metadata": {
        "id": "22BpgyZ_UT7M"
      }
    },
    {
      "cell_type": "code",
      "source": [
        "class MyClass:\n",
        "  class_variable = 0\n",
        "\n",
        "  def __init__(self):\n",
        "    MyClass.class_variable +=1\n",
        "\n",
        "\n",
        "  def print_class_variable(self):\n",
        "    print(MyClass.class_variable)\n",
        "\n",
        "\n",
        "obj1 = MyClass()\n",
        "obj2 = MyClass()\n",
        "\n",
        "obj1.print_class_variable()\n",
        "obj2.print_class_variable()"
      ],
      "metadata": {
        "colab": {
          "base_uri": "https://localhost:8080/"
        },
        "id": "8NF9u1H0Vepb",
        "outputId": "abb225c1-5529-42c4-cf6e-f21acd4bb08a"
      },
      "execution_count": 1,
      "outputs": [
        {
          "output_type": "stream",
          "name": "stdout",
          "text": [
            "2\n",
            "2\n"
          ]
        }
      ]
    },
    {
      "cell_type": "markdown",
      "source": [
        "In the above example, the class _variable is shared among all instances of the class MyClass.When we create new instances of MyClass, the value of class_variable is incremented. When we call the print_class_varialbe menthod on obj1, and obj2 we get the same value of class_variable."
      ],
      "metadata": {
        "id": "9vcgidoyWDiF"
      }
    },
    {
      "cell_type": "markdown",
      "source": [
        "**Instance Variables**\n",
        "\n",
        "Instance variables are defined at the instace level and are unique to each instance of the class. They are defined inside the init method and are usually used to store information that is specific to each instsance of class. For example, an instance variable can be used to store the name of an employee in a class that represents an employee."
      ],
      "metadata": {
        "id": "kPV72FVjWiPa"
      }
    },
    {
      "cell_type": "code",
      "source": [
        "class MyClass:\n",
        "  def __init__(self, name):\n",
        "    self.name = name\n",
        "\n",
        "\n",
        "  def print_name(self):\n",
        "    print(self.name)\n",
        "\n",
        "obj1 = MyClass(\"Johan\")\n",
        "obj2 = MyClass(\"Jane\")\n",
        "\n",
        "obj1.print_name()\n",
        "obj2.print_name()"
      ],
      "metadata": {
        "colab": {
          "base_uri": "https://localhost:8080/"
        },
        "id": "4RhoG3ZdXMOW",
        "outputId": "8b8a96d6-f4ee-4281-92d9-9de530c32f67"
      },
      "execution_count": 2,
      "outputs": [
        {
          "output_type": "stream",
          "name": "stdout",
          "text": [
            "Johan\n",
            "Jane\n"
          ]
        }
      ]
    },
    {
      "cell_type": "markdown",
      "source": [
        "In the example above, each instance of the class MyClass has its own value for the name variable. When we call the print_name method on obj1 and obj2 we get different values for name."
      ],
      "metadata": {
        "id": "v_hNDFr2XqR6"
      }
    },
    {
      "cell_type": "markdown",
      "source": [
        "# ***SUMMARY***\n",
        "\n",
        "In summary class variables are shared among all instances of a class and are used to store information that is common to all instances. Instance variables are unique to each instance of a class and are used to store information that is specific to each instance. Understanding the difference between class varibales and instance variable is crucial for writing efficient and maintainable code in python."
      ],
      "metadata": {
        "id": "IRdV9Vn3YJgi"
      }
    },
    {
      "cell_type": "code",
      "source": [],
      "metadata": {
        "id": "YV1pp1qAY-qH"
      },
      "execution_count": null,
      "outputs": []
    }
  ]
}