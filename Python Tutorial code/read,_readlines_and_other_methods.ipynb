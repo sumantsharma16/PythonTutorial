{
  "nbformat": 4,
  "nbformat_minor": 0,
  "metadata": {
    "colab": {
      "provenance": []
    },
    "kernelspec": {
      "name": "python3",
      "display_name": "Python 3"
    },
    "language_info": {
      "name": "python"
    }
  },
  "cells": [
    {
      "cell_type": "markdown",
      "source": [
        "# **readlines() method**\n",
        "\n",
        "The readline() method reads a single line from the line from the file. If we want to read multiple lines we can use a loop."
      ],
      "metadata": {
        "id": "zywjgW_Y7w_7"
      }
    },
    {
      "cell_type": "code",
      "source": [
        "f = open('myfile.txt', 'r')\n",
        "while True:\n",
        "  line = f.readline()\n",
        "  if not line:\n",
        "    break\n",
        "  print(line)"
      ],
      "metadata": {
        "id": "ecbybHUs8OSD"
      },
      "execution_count": null,
      "outputs": []
    },
    {
      "cell_type": "markdown",
      "source": [
        "The readlines() method reads all the lines of the file and return them as a list of string"
      ],
      "metadata": {
        "id": "tkeYBZFp8d3O"
      }
    },
    {
      "cell_type": "markdown",
      "source": [
        "# **writelines() method**\n",
        "\n",
        "The writelines() method in python writes sequence of strings to a file. The sequence can be any iterable object, such as a list or a tuple."
      ],
      "metadata": {
        "id": "hCZRSoQw8rLQ"
      }
    },
    {
      "cell_type": "code",
      "source": [
        "f = open('myfile.txt', 'w')\n",
        "lines = ['line 1\\n', 'line 2\\n', 'line 3\\n']\n",
        "f.writelines(lines)\n",
        "f.close()"
      ],
      "metadata": {
        "id": "N-1EPITd9Eq5"
      },
      "execution_count": null,
      "outputs": []
    },
    {
      "cell_type": "markdown",
      "source": [
        "The \\n characters are used to add newline character to the end of each string.\n",
        "\n",
        "Keep in mind that the write line() method doesnot add newline characters between the strings in the sequence. If you want to add newlines between the strings, you can use a loop to write each string separately"
      ],
      "metadata": {
        "id": "P-IhoQeE9cLb"
      }
    },
    {
      "cell_type": "code",
      "source": [
        "f = open('myfile.txt', 'w')\n",
        "lines = ['line 1' , 'line 2', 'line 3']\n",
        "\n",
        "for line in lines:\n",
        "  f.write(line + '\\n')\n",
        "f.close()"
      ],
      "metadata": {
        "id": "AszgYpwj95o7"
      },
      "execution_count": null,
      "outputs": []
    },
    {
      "cell_type": "markdown",
      "source": [
        "It is a good practice to close the file after you are done with it"
      ],
      "metadata": {
        "id": "hBj_pRIr-M5R"
      }
    },
    {
      "cell_type": "code",
      "source": [],
      "metadata": {
        "id": "BdO3R_Ns-VKp"
      },
      "execution_count": null,
      "outputs": []
    }
  ]
}