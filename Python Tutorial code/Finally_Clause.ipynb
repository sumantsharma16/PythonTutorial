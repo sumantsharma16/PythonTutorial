{
  "nbformat": 4,
  "nbformat_minor": 0,
  "metadata": {
    "colab": {
      "provenance": []
    },
    "kernelspec": {
      "name": "python3",
      "display_name": "Python 3"
    },
    "language_info": {
      "name": "python"
    }
  },
  "cells": [
    {
      "cell_type": "markdown",
      "source": [
        "# Finally clause\n",
        "\n",
        "The finally code block is also a part of exception handling. When we handle exception using the try and except block, we can include a finally block at the end. The finally block is always executed, so it is generally used for  doing the concluding task like closing file resources or closing database connection or may be ending the program execution with a delightful message"
      ],
      "metadata": {
        "id": "Jy81ScdKwZqU"
      }
    },
    {
      "cell_type": "markdown",
      "source": [
        "the finally block is executed irrespective of the outcome of try....\n",
        "except.....else block\n",
        "\n",
        "one of the important use cases of finally block is in a function which returns a value."
      ],
      "metadata": {
        "id": "ynBXj6WUxSSw"
      }
    },
    {
      "cell_type": "code",
      "source": [
        "try:\n",
        "  num = int(input(\"Enter an integer: \"))\n",
        "\n",
        "except ValueError:\n",
        "  print(\"Number entered is not an integer\")\n",
        "\n",
        "else:\n",
        "  print(\"Integer Accepted\")\n",
        "finally:\n",
        "  print(\"This block is always executed.\")"
      ],
      "metadata": {
        "colab": {
          "base_uri": "https://localhost:8080/"
        },
        "id": "Yb0WQ_7hxo8x",
        "outputId": "21b3e2d1-e346-4ac4-ef1a-70fa022222ee"
      },
      "execution_count": 1,
      "outputs": [
        {
          "output_type": "stream",
          "name": "stdout",
          "text": [
            "Enter an integer: 19\n",
            "Integer Accepted\n",
            "This block is always executed.\n"
          ]
        }
      ]
    },
    {
      "cell_type": "code",
      "source": [
        "try:\n",
        "  num = int(input(\"Enter an integer: \"))\n",
        "\n",
        "except ValueError:\n",
        "  print(\"Number entered is not an integer\")\n",
        "\n",
        "else:\n",
        "  print(\"Integer Accepted\")\n",
        "finally:\n",
        "  print(\"This block is always executed.\")"
      ],
      "metadata": {
        "colab": {
          "base_uri": "https://localhost:8080/"
        },
        "id": "dPFK_p_ix_Us",
        "outputId": "e10645cf-29f2-467d-d2ef-d899956a828e"
      },
      "execution_count": 2,
      "outputs": [
        {
          "output_type": "stream",
          "name": "stdout",
          "text": [
            "Enter an integer: 3.15\n",
            "Number entered is not an integer\n",
            "This block is always executed.\n"
          ]
        }
      ]
    },
    {
      "cell_type": "code",
      "source": [],
      "metadata": {
        "id": "aj-nu8REyKGT"
      },
      "execution_count": null,
      "outputs": []
    }
  ]
}