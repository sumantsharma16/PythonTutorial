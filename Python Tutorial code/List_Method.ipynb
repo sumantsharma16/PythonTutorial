{
  "nbformat": 4,
  "nbformat_minor": 0,
  "metadata": {
    "colab": {
      "provenance": []
    },
    "kernelspec": {
      "name": "python3",
      "display_name": "Python 3"
    },
    "language_info": {
      "name": "python"
    }
  },
  "cells": [
    {
      "cell_type": "markdown",
      "source": [
        "# List Method"
      ],
      "metadata": {
        "id": "pphpTBvt5oGt"
      }
    },
    {
      "cell_type": "markdown",
      "source": [
        "**list.sort()**\n",
        "\n",
        "This method sorts the list in ascending order. The orginal list is updated"
      ],
      "metadata": {
        "id": "4atluRus5wvM"
      }
    },
    {
      "cell_type": "code",
      "source": [
        "colors = [\"voilet\" , \"indigo\", \"Blue\", \"green\"]\n",
        "\n",
        "colors.sort()\n",
        "print(colors)"
      ],
      "metadata": {
        "colab": {
          "base_uri": "https://localhost:8080/"
        },
        "id": "Im6dTdqJ5-iF",
        "outputId": "15d5cd5d-e758-4528-f5a1-1883f82569e6"
      },
      "execution_count": 2,
      "outputs": [
        {
          "output_type": "stream",
          "name": "stdout",
          "text": [
            "['Blue', 'green', 'indigo', 'voilet']\n"
          ]
        }
      ]
    },
    {
      "cell_type": "code",
      "source": [
        "num = [5,67,8,5,6,2,7,8,9,1,2,3,5,67,88,99]\n",
        "num.sort()\n",
        "print(num)"
      ],
      "metadata": {
        "colab": {
          "base_uri": "https://localhost:8080/"
        },
        "id": "p63L1GGh6LLK",
        "outputId": "0336e0d9-d4a1-4c6b-ec38-00007f140a22"
      },
      "execution_count": 5,
      "outputs": [
        {
          "output_type": "stream",
          "name": "stdout",
          "text": [
            "[1, 2, 2, 3, 5, 5, 5, 6, 7, 8, 8, 9, 67, 67, 88, 99]\n"
          ]
        }
      ]
    },
    {
      "cell_type": "markdown",
      "source": [
        "What if you want to print list in descending order?\n",
        "We must give reverse = True as a prameter in the sort method."
      ],
      "metadata": {
        "id": "waIDubJO6YjD"
      }
    },
    {
      "cell_type": "code",
      "source": [
        "colors = [\"voilet\", \"indego\", \"blue\", \"green\"]\n",
        "\n",
        "colors.sort(reverse=True)\n",
        "print(colors)"
      ],
      "metadata": {
        "colab": {
          "base_uri": "https://localhost:8080/"
        },
        "id": "nv-bhfBR6tj8",
        "outputId": "47dcd9f5-6a66-41be-a717-7c9d9983fc0e"
      },
      "execution_count": 6,
      "outputs": [
        {
          "output_type": "stream",
          "name": "stdout",
          "text": [
            "['voilet', 'indego', 'green', 'blue']\n"
          ]
        }
      ]
    },
    {
      "cell_type": "code",
      "source": [
        "num = [5,67,8,5,6,2,7,8,9,1,2,3,5,67,88,99]\n",
        "num.sort(reverse=True)\n",
        "print(num)"
      ],
      "metadata": {
        "colab": {
          "base_uri": "https://localhost:8080/"
        },
        "id": "g9eRDBEO68tE",
        "outputId": "39554073-0083-420d-efab-1c10b0ea288c"
      },
      "execution_count": 7,
      "outputs": [
        {
          "output_type": "stream",
          "name": "stdout",
          "text": [
            "[99, 88, 67, 67, 9, 8, 8, 7, 6, 5, 5, 5, 3, 2, 2, 1]\n"
          ]
        }
      ]
    },
    {
      "cell_type": "markdown",
      "source": [
        "**reverse()**\n",
        "\n",
        "this method reverses the order of the list."
      ],
      "metadata": {
        "id": "EPuO82Lv7C4Z"
      }
    },
    {
      "cell_type": "code",
      "source": [
        "colors = [\"voilet\", \"indego\", \"blue\", \"green\"]\n",
        "\n",
        "colors.reverse()\n",
        "print(colors)"
      ],
      "metadata": {
        "colab": {
          "base_uri": "https://localhost:8080/"
        },
        "id": "lU0tBvvI7Uti",
        "outputId": "27da982b-8e43-46d2-c080-ffa41fd9999a"
      },
      "execution_count": 9,
      "outputs": [
        {
          "output_type": "stream",
          "name": "stdout",
          "text": [
            "['green', 'blue', 'indego', 'voilet']\n"
          ]
        }
      ]
    },
    {
      "cell_type": "code",
      "source": [
        "num = [5,67,8,5,6,2,7,8,9,1,2,3,5,67,88,99]\n",
        "\n",
        "num.reverse()\n",
        "print(num)"
      ],
      "metadata": {
        "colab": {
          "base_uri": "https://localhost:8080/"
        },
        "id": "_27df8gm7cw6",
        "outputId": "820829eb-037b-4881-d51a-58d0f52608f7"
      },
      "execution_count": 10,
      "outputs": [
        {
          "output_type": "stream",
          "name": "stdout",
          "text": [
            "[99, 88, 67, 5, 3, 2, 1, 9, 8, 7, 2, 6, 5, 8, 67, 5]\n"
          ]
        }
      ]
    },
    {
      "cell_type": "markdown",
      "source": [
        "**index()**\n",
        "\n",
        "this method returns the index of the first occurance of the list item."
      ],
      "metadata": {
        "id": "dqFN-H027mLj"
      }
    },
    {
      "cell_type": "code",
      "source": [
        "colors = [\"voilet\", \"green\", \"indigo\", \"blue\", \"green\"]\n",
        "\n",
        "print(colors.index(\"green\"))"
      ],
      "metadata": {
        "colab": {
          "base_uri": "https://localhost:8080/"
        },
        "id": "iI6fBlMW74oK",
        "outputId": "04d820e4-366d-4324-b116-42c00c6d5832"
      },
      "execution_count": 12,
      "outputs": [
        {
          "output_type": "stream",
          "name": "stdout",
          "text": [
            "1\n"
          ]
        }
      ]
    },
    {
      "cell_type": "code",
      "source": [
        "num = [99, 88, 67, 5, 3, 2, 1, 9, 8, 7, 2, 6, 5, 8, 67, 5]\n",
        "\n",
        "print(num.index(2))"
      ],
      "metadata": {
        "colab": {
          "base_uri": "https://localhost:8080/"
        },
        "id": "G6qsvUen8FTl",
        "outputId": "85d97799-ca20-4bc4-fc5d-ce464f98610c"
      },
      "execution_count": 14,
      "outputs": [
        {
          "output_type": "stream",
          "name": "stdout",
          "text": [
            "5\n"
          ]
        }
      ]
    },
    {
      "cell_type": "markdown",
      "source": [
        "**count()**\n",
        "\n",
        "Return the counts of the number of items with the given value"
      ],
      "metadata": {
        "id": "J8NC0XAI8SrY"
      }
    },
    {
      "cell_type": "code",
      "source": [
        "num = [99, 88, 67, 5, 3, 2, 1, 9, 8, 7, 2, 6, 5, 8, 67, 5]\n",
        "\n",
        "print(num.count(2))\n"
      ],
      "metadata": {
        "colab": {
          "base_uri": "https://localhost:8080/"
        },
        "id": "PugJQsWk8pkT",
        "outputId": "8fe37e9f-66f8-473e-8dc8-fe34db4138ab"
      },
      "execution_count": 15,
      "outputs": [
        {
          "output_type": "stream",
          "name": "stdout",
          "text": [
            "2\n"
          ]
        }
      ]
    },
    {
      "cell_type": "code",
      "source": [
        "colors = [\"voilet\", \"green\", \"indigo\", \"blue\", \"green\"]\n",
        "\n",
        "print(colors.count(\"green\"))"
      ],
      "metadata": {
        "colab": {
          "base_uri": "https://localhost:8080/"
        },
        "id": "CpdUekmO8ynF",
        "outputId": "fbef6dc4-a46a-4826-c665-a869381282c6"
      },
      "execution_count": 16,
      "outputs": [
        {
          "output_type": "stream",
          "name": "stdout",
          "text": [
            "2\n"
          ]
        }
      ]
    },
    {
      "cell_type": "markdown",
      "source": [
        "**copy()**\n",
        "\n",
        "\n",
        "Returns copy of the list. This can be done to perform operation on the list without modifying the original list."
      ],
      "metadata": {
        "id": "x3_-LHLv84fJ"
      }
    },
    {
      "cell_type": "code",
      "source": [
        "colors = [\"voilet\", \"green\", \"indigo\", \"blue\", \"green\"]\n",
        "\n",
        "newlist = colors.copy()\n",
        "print(colors)\n",
        "print(newlist)"
      ],
      "metadata": {
        "colab": {
          "base_uri": "https://localhost:8080/"
        },
        "id": "nCVu6r_89Men",
        "outputId": "5f4e9774-24f6-43f8-bf89-dd7e4ab259d0"
      },
      "execution_count": 19,
      "outputs": [
        {
          "output_type": "stream",
          "name": "stdout",
          "text": [
            "['voilet', 'green', 'indigo', 'blue', 'green']\n",
            "['voilet', 'green', 'indigo', 'blue', 'green']\n"
          ]
        }
      ]
    },
    {
      "cell_type": "markdown",
      "source": [
        "**append():**\n",
        "\n",
        "this method appends items to the end of the existing list."
      ],
      "metadata": {
        "id": "vgzWUcoW9Z0y"
      }
    },
    {
      "cell_type": "code",
      "source": [
        "color = ['green' , 'indigo', 'blue']\n",
        "color.append(\"red\")\n",
        "print(color)"
      ],
      "metadata": {
        "colab": {
          "base_uri": "https://localhost:8080/"
        },
        "id": "xmPqaSph9h_7",
        "outputId": "ce44e556-5f77-404a-dc3b-099d027cc05e"
      },
      "execution_count": 21,
      "outputs": [
        {
          "output_type": "stream",
          "name": "stdout",
          "text": [
            "['green', 'indigo', 'blue', 'red']\n"
          ]
        }
      ]
    },
    {
      "cell_type": "markdown",
      "source": [
        "**insert():**\n",
        "\n",
        "This method insets an item at the given index. User has to specify index and the item to be inserted within inset() method.\n"
      ],
      "metadata": {
        "id": "omCD0JrS91zu"
      }
    },
    {
      "cell_type": "code",
      "source": [
        "colors = ['voilet', \"inigo\", \"blue\"]\n",
        "\n",
        "colors.insert(1, \"green\")"
      ],
      "metadata": {
        "id": "8MraisWh-RrQ"
      },
      "execution_count": 22,
      "outputs": []
    },
    {
      "cell_type": "code",
      "source": [
        "print(colors)"
      ],
      "metadata": {
        "colab": {
          "base_uri": "https://localhost:8080/"
        },
        "id": "PZ19tSNF-eTv",
        "outputId": "f8275799-8a88-44c5-e585-34185eaca655"
      },
      "execution_count": 23,
      "outputs": [
        {
          "output_type": "stream",
          "name": "stdout",
          "text": [
            "['voilet', 'green', 'inigo', 'blue']\n"
          ]
        }
      ]
    },
    {
      "cell_type": "markdown",
      "source": [
        "**extend():**\n",
        "\n",
        "This method adds an entire list or any other collection datatype(set , tuple, dictionary to the existing list.)"
      ],
      "metadata": {
        "id": "zMof1Kxj-gRt"
      }
    },
    {
      "cell_type": "markdown",
      "source": [
        "**Concatenating two list:**\n",
        "\n",
        "You can simply concatenate two lists to join two lists."
      ],
      "metadata": {
        "id": "dPwGDzF--79X"
      }
    },
    {
      "cell_type": "code",
      "source": [],
      "metadata": {
        "id": "_uypNhza_O5j"
      },
      "execution_count": null,
      "outputs": []
    }
  ]
}