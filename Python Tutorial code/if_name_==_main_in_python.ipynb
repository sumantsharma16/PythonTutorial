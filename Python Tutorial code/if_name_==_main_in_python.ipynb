{
  "nbformat": 4,
  "nbformat_minor": 0,
  "metadata": {
    "colab": {
      "provenance": []
    },
    "kernelspec": {
      "name": "python3",
      "display_name": "Python 3"
    },
    "language_info": {
      "name": "python"
    }
  },
  "cells": [
    {
      "cell_type": "markdown",
      "source": [
        "# if \"__name ==\" __main__\" in pyhton\n",
        "\n",
        "The if __name == \"__main__\" idom is a common pattern used in python script to determine whether the script is being run directly or being imported as a module into another script.\n",
        "\n",
        "In python the __name__ variable is a built in variable that is autmatically set to the name of the currnt module. When a Python script is run directly the __name__ variable is set to the string __main__ When the script is imported as a module into another script the __name__ variable is set to the name of the module.\n",
        "\n",
        "\n",
        "Here is an example of how the if __name__ = __main__ idom can be used:"
      ],
      "metadata": {
        "id": "MS7xcTSYpT_U"
      }
    },
    {
      "cell_type": "code",
      "source": [
        "def main():\n",
        "  print(\"Running script directly\")\n",
        "\n",
        "if __name__ == \"__main__\":\n",
        "  main()"
      ],
      "metadata": {
        "colab": {
          "base_uri": "https://localhost:8080/"
        },
        "id": "k4QZNAOquVHi",
        "outputId": "c4423b3c-e54e-4560-e707-496e8c33d500"
      },
      "execution_count": 2,
      "outputs": [
        {
          "output_type": "stream",
          "name": "stdout",
          "text": [
            "Running script directly\n"
          ]
        }
      ]
    },
    {
      "cell_type": "markdown",
      "source": [
        "**Why is it useful?**\n",
        "\n",
        "This idiom is useful because it allows you to reuse code from a script by importing it as a module into another script, without running the code in the original script. For example, consider the following script:"
      ],
      "metadata": {
        "id": "fDkTWhTxugaH"
      }
    },
    {
      "cell_type": "code",
      "source": [
        "def main():\n",
        "  print(\"Running script directly\")\n",
        "\n",
        "if __name__ == \"___main__\":\n",
        "  main()"
      ],
      "metadata": {
        "id": "UdEAiCJivLDv"
      },
      "execution_count": 3,
      "outputs": []
    },
    {
      "cell_type": "markdown",
      "source": [
        "If you run this script directly it will output \"Running script directly\". However if you import it as a module into another script and call the main function from the imported module, it will not output anything:"
      ],
      "metadata": {
        "id": "-m9qvTvUvTtt"
      }
    },
    {
      "cell_type": "code",
      "source": [
        "import script\n",
        "\n",
        "script.main()"
      ],
      "metadata": {
        "id": "pmobQN3tvzXe"
      },
      "execution_count": null,
      "outputs": []
    },
    {
      "cell_type": "markdown",
      "source": [
        "**Is it a necessity?**\n",
        "\n",
        "\n",
        "It is important to note that the if __name__ == \"__main__\" idom is not required to run a Python script. You can still run a script without it by simply calling the functions or running the code you want to execute directly.\n",
        "However, the if __name__ == \"__main__\" idiom can be a useful tool for organizing and separating code that should be run directly from code that should be importded and used as a module.\n",
        "\n",
        "In summary, the if __name__ = \"__main__\" idiom is a common pattern used in Python script to determine whether the script is being run directly or being imported as a module into another script. It allows you to reuse code from a script by importing it as a module into another script without running the code in the original script\n"
      ],
      "metadata": {
        "id": "Yfwqs9Iev2TE"
      }
    }
  ]
}