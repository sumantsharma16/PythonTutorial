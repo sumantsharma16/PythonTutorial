{
  "nbformat": 4,
  "nbformat_minor": 0,
  "metadata": {
    "colab": {
      "provenance": []
    },
    "kernelspec": {
      "name": "python3",
      "display_name": "Python 3"
    },
    "language_info": {
      "name": "python"
    }
  },
  "cells": [
    {
      "cell_type": "markdown",
      "source": [
        "# Python class methods\n",
        "\n",
        "Python Class Methods: An Introduction\n",
        "\n",
        "In python classes are a way to define custom data types that can store data and define that can manipulate that data. One type of function that can be defined within a class a method. In this, we will explore what python class methods are, why they are useful and how to use them.\n",
        "\n",
        "\n",
        "**What are python class methods?**\n",
        "\n",
        "A class method is a type of method that is bound to the class and not the instance of the class. In other words, it operates on the class as a whole, rather than on a specific instance of the class. Class methods are defined using the \"@classmethod\" decorator, followed by a function defination. The firt argument of the function is always \"cls\" which represents the class itself.\n",
        "\n",
        "***Why use python class methods?***\n",
        "\n",
        "Class methods are useful in several situations. For example, you might want to create a factory method that creates instances of your class in a specific way. Yor could define a class method that crates the instance and returns it to the caller. Another common use case is to provide alternative constructors for your class. This can be useful if you want to create instance of your class in multiple ways, but still have a consistent interface for doing so.\n",
        "\n",
        "\n",
        "***How to use Python class methods***\n",
        "\n",
        "To define a class method, you simple use the \"@classmethod\" decorator before the method definition. The first argument of the method should always be \"cls\", which represents the class itself. Here is an example of how to define a class method:"
      ],
      "metadata": {
        "id": "2jdM9RmqCpdV"
      }
    },
    {
      "cell_type": "code",
      "source": [
        "class ExampleClass:\n",
        "  @classmethod\n",
        "  def factory_method(cls, argument1, argument2):\n",
        "    return cls(argument1, argument2)"
      ],
      "metadata": {
        "id": "Pdy2hS73FlJO"
      },
      "execution_count": 1,
      "outputs": []
    },
    {
      "cell_type": "markdown",
      "source": [
        "In this example the factory_method is a class that takes two arguments, \"argument1\", \"argument2\". It creates a new instance of the class \"ExampleClass\" using the \"cls\" keyword, and returns the new instance to the caller.\n",
        "\n",
        "It's important to note that class methods cannot modify the class in any way. If you need to modify the class, you should use a class level variable instead."
      ],
      "metadata": {
        "id": "a5rmd2gxF3mZ"
      }
    },
    {
      "cell_type": "markdown",
      "source": [
        "# Conclusion\n",
        "\n",
        "Pyhon class methods are a powerful tool for defining functions that operate on the class as a whole , rather than on a specific instance of the class. They are useful for creating factory methods, alternative constructors, and other types of methods that operate at the class level. With the knowledge of how to define and use class methods, you can start writing more complex and organized code in python."
      ],
      "metadata": {
        "id": "d9lsGWpgGlhd"
      }
    }
  ]
}