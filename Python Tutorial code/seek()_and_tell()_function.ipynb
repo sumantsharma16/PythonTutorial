{
  "nbformat": 4,
  "nbformat_minor": 0,
  "metadata": {
    "colab": {
      "provenance": []
    },
    "kernelspec": {
      "name": "python3",
      "display_name": "Python 3"
    },
    "language_info": {
      "name": "python"
    }
  },
  "cells": [
    {
      "cell_type": "markdown",
      "source": [
        "# seek() and tell() functions\n",
        "\n",
        "In Python, the seek() and tell() function are used to work with file objects and their positions within a file. These functions are part of the built-in to module, which provides a cosistent interface for reading and writing to various file objects, such as files, pipes, and in-memory buffers.\n",
        "\n",
        "\n",
        "**seek() function**\n",
        "\n",
        "The seek() function allows you to move the current position within a file to a specific point. The position is specified in bytes, and you can move either forwaard or backward from the current position.\n",
        "\n"
      ],
      "metadata": {
        "id": "RfyuxED3-yCL"
      }
    },
    {
      "cell_type": "code",
      "source": [
        "with open('file.txt', 'r') as f:\n",
        "  f.seek(10)\n",
        "\n",
        "  data = f.read(5)"
      ],
      "metadata": {
        "id": "N6-6tnrCAQiQ"
      },
      "execution_count": null,
      "outputs": []
    },
    {
      "cell_type": "markdown",
      "source": [
        "**tell() function**\n",
        "\n",
        "The tell() function returns the current position within the file, in bytes. This can be useful for keeping track of your location within the file or for seeking to a specific position relative to the current position."
      ],
      "metadata": {
        "id": "8BwzX_e2AaDA"
      }
    },
    {
      "cell_type": "code",
      "source": [
        "with open('file.txt', r) as f:\n",
        "  data = f.read(10)\n",
        "\n",
        "  current_position =f.tell()\n",
        "\n",
        "  f.seek(current_position)"
      ],
      "metadata": {
        "id": "h7lsDGtnAzfp"
      },
      "execution_count": null,
      "outputs": []
    },
    {
      "cell_type": "markdown",
      "source": [
        "**truncate() function**\n",
        "\n",
        "When you open a file in python using the open function you can specify the mode in which you want to open the file. If you specify the mode as 'w' or 'a' the file is opened in write mode and you can write to the file. However if you want to truncate the file to specific size, you can use trucate function."
      ],
      "metadata": {
        "id": "kycDVWZ6BO84"
      }
    },
    {
      "cell_type": "code",
      "source": [
        "with open('sample.txt', 'w') as f:\n",
        "  f.write('Hello World')\n",
        "  f.truncate(5)\n",
        "\n",
        "with open('sample.txt', 'r') as f:\n",
        "  print(f.read())"
      ],
      "metadata": {
        "id": "rdJqiZ_RB7CF"
      },
      "execution_count": null,
      "outputs": []
    }
  ]
}