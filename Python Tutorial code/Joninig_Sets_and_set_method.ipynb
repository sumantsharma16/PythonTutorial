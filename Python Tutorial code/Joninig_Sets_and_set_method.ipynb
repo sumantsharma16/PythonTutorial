{
  "nbformat": 4,
  "nbformat_minor": 0,
  "metadata": {
    "colab": {
      "provenance": []
    },
    "kernelspec": {
      "name": "python3",
      "display_name": "Python 3"
    },
    "language_info": {
      "name": "python"
    }
  },
  "cells": [
    {
      "cell_type": "markdown",
      "source": [
        "# Joining Sets\n",
        "\n",
        "\n",
        "Sets in python more or less work in the same way as sets in mathematics. We can perform operations like union and intersection on the sets just like in mathematics."
      ],
      "metadata": {
        "id": "mUChPhJAbvPS"
      }
    },
    {
      "cell_type": "markdown",
      "source": [
        "**I. union() and update()**\n",
        "\n",
        "The union() and update() methods prints all items that are present in the two sets. The union() method returns a new set whereas update() method adds item into the exisiting set from another set."
      ],
      "metadata": {
        "id": "Lu_aEH0acJgw"
      }
    },
    {
      "cell_type": "code",
      "source": [
        "cities = {\"Tokyo\", \"Madrid\", \"Berlin\", \"Delhi\"}\n",
        "\n",
        "cities2 = {\"Tokyo\", \"Seoul\", \"kabul\", \"Madrid\"}\n",
        "\n",
        "cities3 = cities.union(cities2)\n",
        "print(cities3)"
      ],
      "metadata": {
        "colab": {
          "base_uri": "https://localhost:8080/"
        },
        "id": "0Xe8zbrhcmWz",
        "outputId": "a2c877b9-d78c-41d3-f63b-1f46c1147f0f"
      },
      "execution_count": 1,
      "outputs": [
        {
          "output_type": "stream",
          "name": "stdout",
          "text": [
            "{'Tokyo', 'Delhi', 'kabul', 'Seoul', 'Madrid', 'Berlin'}\n"
          ]
        }
      ]
    },
    {
      "cell_type": "code",
      "source": [
        "cities = {\"Tokyo\", \"Madrid\", \"Berlin\", \"Delhi\"}\n",
        "\n",
        "cities2 = {\"Tokyo\", \"Seoul\", \"kabul\", \"Madrid\"}\n",
        "cities.update(cities2)\n",
        "print(cities)"
      ],
      "metadata": {
        "colab": {
          "base_uri": "https://localhost:8080/"
        },
        "id": "BedYBEPcc_ZP",
        "outputId": "0b9abeea-b09e-4fba-b017-fdf2790f7018"
      },
      "execution_count": 3,
      "outputs": [
        {
          "output_type": "stream",
          "name": "stdout",
          "text": [
            "{'Tokyo', 'Delhi', 'kabul', 'Seoul', 'Madrid', 'Berlin'}\n"
          ]
        }
      ]
    },
    {
      "cell_type": "markdown",
      "source": [
        "**II. intersection and intersection_update():**\n",
        "\n",
        "The intersection() and intersection_update() methods prints only items that are similar to both the sets. The intersection() method returns a new set whereas intersection_update() method updates into the existing set from another set."
      ],
      "metadata": {
        "id": "_2ojE_bxdJMa"
      }
    },
    {
      "cell_type": "code",
      "source": [
        "cities = {\"Tokyo\", \"Madrid\", \"Berlin\", \"Delhi\"}\n",
        "\n",
        "cities2 = {\"Tokyo\", \"Seoul\", \"kabul\", \"Madrid\"}\n",
        "\n",
        "cities3 = cities.intersection(cities2)\n",
        "print(cities3)"
      ],
      "metadata": {
        "colab": {
          "base_uri": "https://localhost:8080/"
        },
        "id": "Fr0470wtd8Kp",
        "outputId": "2a5e13c2-dd32-4113-a788-8acaa84d0607"
      },
      "execution_count": 4,
      "outputs": [
        {
          "output_type": "stream",
          "name": "stdout",
          "text": [
            "{'Tokyo', 'Madrid'}\n"
          ]
        }
      ]
    },
    {
      "cell_type": "code",
      "source": [
        "cities = {\"Tokyo\", \"Madrid\", \"Berlin\", \"Delhi\"}\n",
        "\n",
        "cities2 = {\"Tokyo\", \"Seoul\", \"kabul\", \"Madrid\"}\n",
        "\n",
        "cities.intersection_update(cities2)\n",
        "print(cities)"
      ],
      "metadata": {
        "colab": {
          "base_uri": "https://localhost:8080/"
        },
        "id": "y6-pbkf2d_pa",
        "outputId": "ca0da060-e93e-4ba9-c04f-17e09171c98c"
      },
      "execution_count": 5,
      "outputs": [
        {
          "output_type": "stream",
          "name": "stdout",
          "text": [
            "{'Tokyo', 'Madrid'}\n"
          ]
        }
      ]
    },
    {
      "cell_type": "markdown",
      "source": [
        "**III. symmetric_difference and symmetric_difference_update():**\n",
        "\n",
        "The symmetric_difference() and symmetric_differenc_update() methods prints only items that are not similar to both the sets. The symmetric_difference() method returns a new set whereas symmetric_difference_update() method updates into the existing set from another set."
      ],
      "metadata": {
        "id": "o-UGDX-geJUs"
      }
    },
    {
      "cell_type": "code",
      "source": [
        "cities = {\"Tokyo\", \"Madrid\", \"Berlin\", \"Delhi\"}\n",
        "\n",
        "cities2 = {\"Tokyo\", \"Seoul\", \"kabul\", \"Madrid\"}\n",
        "\n",
        "cities3 = cities.symmetric_difference(cities2)\n",
        "print(cities3)"
      ],
      "metadata": {
        "colab": {
          "base_uri": "https://localhost:8080/"
        },
        "id": "DrcFQi7ce0Ii",
        "outputId": "a4f17cb6-8093-4bbe-9d8b-6f74a4b3d882"
      },
      "execution_count": 6,
      "outputs": [
        {
          "output_type": "stream",
          "name": "stdout",
          "text": [
            "{'Seoul', 'Berlin', 'Delhi', 'kabul'}\n"
          ]
        }
      ]
    },
    {
      "cell_type": "code",
      "source": [
        "cities = {\"Tokyo\", \"Madrid\", \"Berlin\", \"Delhi\"}\n",
        "\n",
        "cities2 = {\"Tokyo\", \"Seoul\", \"kabul\", \"Madrid\"}\n",
        "\n",
        "cities.symmetric_difference(cities2)\n",
        "print(cities)"
      ],
      "metadata": {
        "colab": {
          "base_uri": "https://localhost:8080/"
        },
        "id": "747fhswZe5WD",
        "outputId": "8db8f6af-d8fb-4f25-d590-fc1c8803a905"
      },
      "execution_count": 7,
      "outputs": [
        {
          "output_type": "stream",
          "name": "stdout",
          "text": [
            "{'Tokyo', 'Madrid', 'Berlin', 'Delhi'}\n"
          ]
        }
      ]
    },
    {
      "cell_type": "markdown",
      "source": [
        "**IV. difference() and difference_update():**\n",
        "\n",
        "The difference() and difference_update() method prints only items that are only present in the original set and not in both the sets. The differnece() method returns a new set whereas difference_update() method updates into existing set from another set."
      ],
      "metadata": {
        "id": "BP6FqqigfBZi"
      }
    },
    {
      "cell_type": "code",
      "source": [
        "cities = {\"Tokyo\", \"Madrid\", \"Berlin\", \"Delhi\"}\n",
        "\n",
        "cities2 = {\"Tokyo\", \"Seoul\", \"kabul\", \"Madrid\"}\n",
        "\n",
        "cities3 = cities.difference(cities2)\n",
        "print(cities3)"
      ],
      "metadata": {
        "colab": {
          "base_uri": "https://localhost:8080/"
        },
        "id": "oL4-BswDfmpi",
        "outputId": "aee6ed56-a5a9-4525-fd8b-f6b43febade4"
      },
      "execution_count": 8,
      "outputs": [
        {
          "output_type": "stream",
          "name": "stdout",
          "text": [
            "{'Berlin', 'Delhi'}\n"
          ]
        }
      ]
    },
    {
      "cell_type": "code",
      "source": [
        "cities = {\"Tokyo\", \"Madrid\", \"Berlin\", \"Delhi\"}\n",
        "\n",
        "cities2 = {\"Tokyo\", \"Seoul\", \"kabul\", \"Madrid\"}\n",
        "\n",
        "\n",
        "print(cities.difference(cities2))"
      ],
      "metadata": {
        "colab": {
          "base_uri": "https://localhost:8080/"
        },
        "id": "VUM5ZdtwfrsN",
        "outputId": "e08db030-d4f9-4dac-873d-466499faf755"
      },
      "execution_count": 9,
      "outputs": [
        {
          "output_type": "stream",
          "name": "stdout",
          "text": [
            "{'Berlin', 'Delhi'}\n"
          ]
        }
      ]
    },
    {
      "cell_type": "markdown",
      "source": [
        "**Set Methods**\n",
        "\n",
        "There are several in-built method used for the manipulation of set. They are explained below:\n",
        "\n",
        "**isdisjoint():**\n",
        "\n",
        "The isdisjoint() method checks if items of given set are present in another set. This method returns False if items are present, else it return True."
      ],
      "metadata": {
        "id": "I_XtQ7Zmf8c-"
      }
    },
    {
      "cell_type": "code",
      "source": [
        "cities = {\"Tokyo\", \"Madrid\", \"Berlin\", \"Delhi\"}\n",
        "\n",
        "cities2 = {\"Tokyo\", \"Seoul\", \"kabul\", \"Madrid\"}\n",
        "\n",
        "print(cities.isdisjoint(cities2))"
      ],
      "metadata": {
        "colab": {
          "base_uri": "https://localhost:8080/"
        },
        "id": "w3wAnZiDgx8I",
        "outputId": "30fd1f3b-bf45-45fb-d20c-2b2ca0ae2bc7"
      },
      "execution_count": 10,
      "outputs": [
        {
          "output_type": "stream",
          "name": "stdout",
          "text": [
            "False\n"
          ]
        }
      ]
    },
    {
      "cell_type": "markdown",
      "source": [
        "**issuperset():**\n",
        "\n",
        "The issuperset() method checks if all the items of a particular set are present in the original set. It returns True if all the items are present, else it return False."
      ],
      "metadata": {
        "id": "3-WbdAHKg56T"
      }
    },
    {
      "cell_type": "code",
      "source": [
        "cities = {\"Tokyo\", \"Madrid\", \"Berlin\", \"Delhi\"}\n",
        "\n",
        "cities2 = {\"Tokyo\", \"Seoul\", \"kabul\", \"Madrid\"}\n",
        "print(cities.issuperset(cities2))\n",
        "cities3 = {\"Seoul\", \"Madrid\", \"Kabul\"}\n",
        "print(cities.issuperset(cities3))\n"
      ],
      "metadata": {
        "colab": {
          "base_uri": "https://localhost:8080/"
        },
        "id": "_spprqDuhVXH",
        "outputId": "5c19fb47-6d4c-4108-e5da-c31d386f2068"
      },
      "execution_count": 11,
      "outputs": [
        {
          "output_type": "stream",
          "name": "stdout",
          "text": [
            "False\n",
            "False\n"
          ]
        }
      ]
    },
    {
      "cell_type": "markdown",
      "source": [
        "**issubset():**\n",
        "\n",
        "The issubset() method checks if all the items of the original set are present in the particular set. It returns True if all the items are present, else it return False."
      ],
      "metadata": {
        "id": "sGSU-W51hqfJ"
      }
    },
    {
      "cell_type": "code",
      "source": [
        "cities = {\"Tokyo\", \"Madrid\", \"Berlin\", \"Delhi\"}\n",
        "\n",
        "cities2 = {\"Tokyo\", \"Seoul\", \"Delhi\", \"Madrid\"}\n",
        "\n",
        "\n",
        "print(cities2.issubset(cities))"
      ],
      "metadata": {
        "colab": {
          "base_uri": "https://localhost:8080/"
        },
        "id": "MQeWt4TciDru",
        "outputId": "1d6a468c-2663-437b-ff26-b1992d239a2e"
      },
      "execution_count": 13,
      "outputs": [
        {
          "output_type": "stream",
          "name": "stdout",
          "text": [
            "False\n"
          ]
        }
      ]
    },
    {
      "cell_type": "markdown",
      "source": [
        "**add()**\n",
        "\n",
        "If you want to add a single item to the set use the add() method."
      ],
      "metadata": {
        "id": "TaPDj9DsiL9V"
      }
    },
    {
      "cell_type": "code",
      "source": [
        "cities = {\"Tokyo\", \"Madrid\", \"Berlin\", \"Delhi\"}\n",
        "cities.add(\"Dangoli\")\n",
        "print(cities)"
      ],
      "metadata": {
        "colab": {
          "base_uri": "https://localhost:8080/"
        },
        "id": "mn83yMhbiezC",
        "outputId": "e44d6199-a3f5-41cc-c3db-340c9d40d530"
      },
      "execution_count": 14,
      "outputs": [
        {
          "output_type": "stream",
          "name": "stdout",
          "text": [
            "{'Tokyo', 'Dangoli', 'Delhi', 'Madrid', 'Berlin'}\n"
          ]
        }
      ]
    },
    {
      "cell_type": "markdown",
      "source": [
        "**update()**\n",
        "\n",
        "If yor want to add more than one items, simple create another set or any other iterable object(list, tuple, dictionary), and use the updata() method to add it into the existing set."
      ],
      "metadata": {
        "id": "rJrtPfQSin4d"
      }
    },
    {
      "cell_type": "code",
      "source": [
        "cities = {\"Tokyo\", \"Madrid\", \"Berlin\", \"Delhi\"}\n",
        "\n",
        "cities2 = { \"Helsinki\", 'Warsaw', \"Seoul\"}\n",
        "cities.update(cities2)\n",
        "print(cities)"
      ],
      "metadata": {
        "colab": {
          "base_uri": "https://localhost:8080/"
        },
        "id": "23OKM6e7jKhO",
        "outputId": "22255ee4-a59a-44e3-ff95-f8a50cd666ee"
      },
      "execution_count": 15,
      "outputs": [
        {
          "output_type": "stream",
          "name": "stdout",
          "text": [
            "{'Tokyo', 'Warsaw', 'Seoul', 'Madrid', 'Berlin', 'Delhi', 'Helsinki'}\n"
          ]
        }
      ]
    },
    {
      "cell_type": "markdown",
      "source": [
        "**remove() / discard()**\n",
        "\n",
        "We can use remove() and discard() methods to remove items from list"
      ],
      "metadata": {
        "id": "8g1MMmJtjcnN"
      }
    },
    {
      "cell_type": "code",
      "source": [
        "cities = {\"Tokyo\", \"Madrid\", \"Berlin\", \"Delhi\"}\n",
        "cities.remove(\"Tokyo\")\n",
        "print(cities)"
      ],
      "metadata": {
        "colab": {
          "base_uri": "https://localhost:8080/"
        },
        "id": "Cr_Thxx0jsdi",
        "outputId": "a78dfb20-0ab6-41dc-baae-2166c817fde9"
      },
      "execution_count": 17,
      "outputs": [
        {
          "output_type": "stream",
          "name": "stdout",
          "text": [
            "{'Madrid', 'Berlin', 'Delhi'}\n"
          ]
        }
      ]
    },
    {
      "cell_type": "markdown",
      "source": [
        "the main difference between remove and discard is that if we try to delete an item which is not present in set then remove() raises an error whereas discard() does not raise any error"
      ],
      "metadata": {
        "id": "seP5H0Poj5Ue"
      }
    },
    {
      "cell_type": "code",
      "source": [
        "cities = {\"Tokyo\", \"Madrid\", \"Berlin\", \"Delhi\"}\n",
        "cities.remove(\"Seoul\")\n",
        "print(cities)"
      ],
      "metadata": {
        "colab": {
          "base_uri": "https://localhost:8080/",
          "height": 200
        },
        "id": "HFtbhntGkU6J",
        "outputId": "22e68472-d389-49a4-f4e5-968a4590cab9"
      },
      "execution_count": 18,
      "outputs": [
        {
          "output_type": "error",
          "ename": "KeyError",
          "evalue": "ignored",
          "traceback": [
            "\u001b[0;31m---------------------------------------------------------------------------\u001b[0m",
            "\u001b[0;31mKeyError\u001b[0m                                  Traceback (most recent call last)",
            "\u001b[0;32m<ipython-input-18-8dc8e104e45f>\u001b[0m in \u001b[0;36m<cell line: 2>\u001b[0;34m()\u001b[0m\n\u001b[1;32m      1\u001b[0m \u001b[0mcities\u001b[0m \u001b[0;34m=\u001b[0m \u001b[0;34m{\u001b[0m\u001b[0;34m\"Tokyo\"\u001b[0m\u001b[0;34m,\u001b[0m \u001b[0;34m\"Madrid\"\u001b[0m\u001b[0;34m,\u001b[0m \u001b[0;34m\"Berlin\"\u001b[0m\u001b[0;34m,\u001b[0m \u001b[0;34m\"Delhi\"\u001b[0m\u001b[0;34m}\u001b[0m\u001b[0;34m\u001b[0m\u001b[0;34m\u001b[0m\u001b[0m\n\u001b[0;32m----> 2\u001b[0;31m \u001b[0mcities\u001b[0m\u001b[0;34m.\u001b[0m\u001b[0mremove\u001b[0m\u001b[0;34m(\u001b[0m\u001b[0;34m\"Seoul\"\u001b[0m\u001b[0;34m)\u001b[0m\u001b[0;34m\u001b[0m\u001b[0;34m\u001b[0m\u001b[0m\n\u001b[0m\u001b[1;32m      3\u001b[0m \u001b[0mprint\u001b[0m\u001b[0;34m(\u001b[0m\u001b[0mcities\u001b[0m\u001b[0;34m)\u001b[0m\u001b[0;34m\u001b[0m\u001b[0;34m\u001b[0m\u001b[0m\n",
            "\u001b[0;31mKeyError\u001b[0m: 'Seoul'"
          ]
        }
      ]
    },
    {
      "cell_type": "markdown",
      "source": [
        "**pop():**\n",
        "\n",
        "This method removes the last item of the set but the catch is that we don't know which item gets popped as set are unordered. However you can access the popped item if you assign the pop() method to a variable."
      ],
      "metadata": {
        "id": "nQ0EmclokbbT"
      }
    },
    {
      "cell_type": "code",
      "source": [
        "cities = {\"Tokyo\", \"Madrid\", \"Berlin\", \"Delhi\"}\n",
        "item = cities.pop()\n",
        "print(cities)\n",
        "print(item)"
      ],
      "metadata": {
        "colab": {
          "base_uri": "https://localhost:8080/"
        },
        "id": "at_Bn1t-lCrS",
        "outputId": "b6c510bb-f924-481f-ca50-95e4db1973a9"
      },
      "execution_count": 19,
      "outputs": [
        {
          "output_type": "stream",
          "name": "stdout",
          "text": [
            "{'Madrid', 'Berlin', 'Delhi'}\n",
            "Tokyo\n"
          ]
        }
      ]
    },
    {
      "cell_type": "markdown",
      "source": [
        "**del**\n",
        "\n",
        "del is not a method rather it is a keyword which deletes the set entirely"
      ],
      "metadata": {
        "id": "fzAMGRqmlRIq"
      }
    },
    {
      "cell_type": "code",
      "source": [
        "cities = {\"Tokyo\", \"Madrid\", \"Berlin\", \"Delhi\"}\n",
        "del cities\n",
        "print(cities)"
      ],
      "metadata": {
        "colab": {
          "base_uri": "https://localhost:8080/",
          "height": 200
        },
        "id": "sbaiJ5g0ljSs",
        "outputId": "f1f3cf33-d2f1-4d08-d68f-48372b92ddf5"
      },
      "execution_count": 20,
      "outputs": [
        {
          "output_type": "error",
          "ename": "NameError",
          "evalue": "ignored",
          "traceback": [
            "\u001b[0;31m---------------------------------------------------------------------------\u001b[0m",
            "\u001b[0;31mNameError\u001b[0m                                 Traceback (most recent call last)",
            "\u001b[0;32m<ipython-input-20-2b6132fafe6c>\u001b[0m in \u001b[0;36m<cell line: 3>\u001b[0;34m()\u001b[0m\n\u001b[1;32m      1\u001b[0m \u001b[0mcities\u001b[0m \u001b[0;34m=\u001b[0m \u001b[0;34m{\u001b[0m\u001b[0;34m\"Tokyo\"\u001b[0m\u001b[0;34m,\u001b[0m \u001b[0;34m\"Madrid\"\u001b[0m\u001b[0;34m,\u001b[0m \u001b[0;34m\"Berlin\"\u001b[0m\u001b[0;34m,\u001b[0m \u001b[0;34m\"Delhi\"\u001b[0m\u001b[0;34m}\u001b[0m\u001b[0;34m\u001b[0m\u001b[0;34m\u001b[0m\u001b[0m\n\u001b[1;32m      2\u001b[0m \u001b[0;32mdel\u001b[0m \u001b[0mcities\u001b[0m\u001b[0;34m\u001b[0m\u001b[0;34m\u001b[0m\u001b[0m\n\u001b[0;32m----> 3\u001b[0;31m \u001b[0mprint\u001b[0m\u001b[0;34m(\u001b[0m\u001b[0mcities\u001b[0m\u001b[0;34m)\u001b[0m\u001b[0;34m\u001b[0m\u001b[0;34m\u001b[0m\u001b[0m\n\u001b[0m",
            "\u001b[0;31mNameError\u001b[0m: name 'cities' is not defined"
          ]
        }
      ]
    },
    {
      "cell_type": "markdown",
      "source": [
        "**clear()**\n",
        "\n",
        "This method clears all items in the set and print an empty set"
      ],
      "metadata": {
        "id": "qfe-DZLNlriC"
      }
    },
    {
      "cell_type": "code",
      "source": [
        "cities = {\"Tokyo\", \"Madrid\", \"Berlin\", \"Delhi\"}\n",
        "cities.clear()\n",
        "print(cities)"
      ],
      "metadata": {
        "colab": {
          "base_uri": "https://localhost:8080/"
        },
        "id": "WUTMa4fHl3Iz",
        "outputId": "0eb4df4f-99c0-4d99-895f-a2672f29fceb"
      },
      "execution_count": 21,
      "outputs": [
        {
          "output_type": "stream",
          "name": "stdout",
          "text": [
            "set()\n"
          ]
        }
      ]
    },
    {
      "cell_type": "markdown",
      "source": [
        "**Check if item exists**\n",
        "\n",
        "You can also check if an item exists in the set or not"
      ],
      "metadata": {
        "id": "UULq-Cksl6Qg"
      }
    },
    {
      "cell_type": "code",
      "source": [
        "info = {'Carla', 19, False, 5.9}\n",
        "if \"Carla\" in info:\n",
        "  print(\"Carla is present\")\n",
        "else:\n",
        "  print(\"Carla is not present\")"
      ],
      "metadata": {
        "colab": {
          "base_uri": "https://localhost:8080/"
        },
        "id": "gG0bYH0gmJim",
        "outputId": "1bf120cf-6dbd-4040-c4cc-4f502ce8bedf"
      },
      "execution_count": 22,
      "outputs": [
        {
          "output_type": "stream",
          "name": "stdout",
          "text": [
            "Carla is present\n"
          ]
        }
      ]
    },
    {
      "cell_type": "code",
      "source": [],
      "metadata": {
        "id": "ZU_0brj5mafp"
      },
      "execution_count": null,
      "outputs": []
    }
  ]
}