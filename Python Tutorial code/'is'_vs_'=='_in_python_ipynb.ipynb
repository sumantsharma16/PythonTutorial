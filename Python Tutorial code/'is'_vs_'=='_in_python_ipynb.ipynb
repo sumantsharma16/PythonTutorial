{
  "nbformat": 4,
  "nbformat_minor": 0,
  "metadata": {
    "colab": {
      "provenance": []
    },
    "kernelspec": {
      "name": "python3",
      "display_name": "Python 3"
    },
    "language_info": {
      "name": "python"
    }
  },
  "cells": [
    {
      "cell_type": "markdown",
      "source": [
        "# ***'is' vs '==' in python***\n",
        "\n",
        "In python is and == are both comparison operators that can be used to check if two values are equal. However there are some imprortant difference between the two that you should be aware of.\n",
        "\n",
        "The is operator compare the identity of two objects, while the == operator comapare the value of the objects. This means that it will only return True if the objects. This means that is will only return True if the objects being compared are the exact same object in memory, while == will return True if the objects have the same value."
      ],
      "metadata": {
        "id": "Hjug4lKb-MXR"
      }
    },
    {
      "cell_type": "code",
      "source": [
        "a = [1,2,3]\n",
        "b = [1,2,3]\n",
        "\n",
        "print(a == b)\n",
        "print(a is b)"
      ],
      "metadata": {
        "colab": {
          "base_uri": "https://localhost:8080/"
        },
        "id": "g18PbgfV_atU",
        "outputId": "214adf0e-2a21-43fd-dcee-2b330a49e7de"
      },
      "execution_count": 1,
      "outputs": [
        {
          "output_type": "stream",
          "name": "stdout",
          "text": [
            "True\n",
            "False\n"
          ]
        }
      ]
    },
    {
      "cell_type": "markdown",
      "source": [
        "In this case a and b are two seprate lists that have the same values, so == return True. However a and b are not the same object in memory so is return False.\n",
        "\n",
        "One imprortant thing to note is that python strings and integers are immutable, which means that once they are created their value cannot be changed. This means that for strings and intergers is and == will always return the same result."
      ],
      "metadata": {
        "id": "z7ISm1ZR_iN1"
      }
    },
    {
      "cell_type": "code",
      "source": [
        "a = 'hello'\n",
        "b = 'hello'\n",
        "\n",
        "print(a == b)\n",
        "\n",
        "print( a is b)"
      ],
      "metadata": {
        "colab": {
          "base_uri": "https://localhost:8080/"
        },
        "id": "WOHYf-7BATT7",
        "outputId": "e89363d6-7a92-4a48-fece-4d716959d488"
      },
      "execution_count": 2,
      "outputs": [
        {
          "output_type": "stream",
          "name": "stdout",
          "text": [
            "True\n",
            "True\n"
          ]
        }
      ]
    },
    {
      "cell_type": "markdown",
      "source": [
        "In these case a and b are both pointing to the same object in memory so is and == both return True.\n",
        "\n",
        "For mutable objects such as lists and dictionaries is and ==can behave differently. In general, you should use ==when you want to compare the values of two objects, and use is when you want to check if twe objects are the same object in memoryview\n"
      ],
      "metadata": {
        "id": "E7QnRjKBAcXp"
      }
    }
  ]
}