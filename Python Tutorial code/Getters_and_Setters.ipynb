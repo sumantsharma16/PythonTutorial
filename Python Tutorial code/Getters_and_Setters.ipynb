{
  "nbformat": 4,
  "nbformat_minor": 0,
  "metadata": {
    "colab": {
      "provenance": []
    },
    "kernelspec": {
      "name": "python3",
      "display_name": "Python 3"
    },
    "language_info": {
      "name": "python"
    }
  },
  "cells": [
    {
      "cell_type": "markdown",
      "source": [
        "# ***Getters***\n",
        "\n",
        "Getter in Python are methods that are used to access the values of an objects properties. They are used to return the value of a specific property and are typically defined using the @property decorator. Here is an example of a simple class with a getter method."
      ],
      "metadata": {
        "id": "qgTN3-sjSwKT"
      }
    },
    {
      "cell_type": "code",
      "source": [
        "class MyClass:\n",
        "  def __init__(self, value):\n",
        "    self._value = value\n",
        "\n",
        "    @property\n",
        "    def value(self):\n",
        "      return self._value"
      ],
      "metadata": {
        "id": "LB3VAQ4uTa3Z"
      },
      "execution_count": 7,
      "outputs": []
    },
    {
      "cell_type": "code",
      "source": [
        "obj = MyClass(10)\n",
        "obj.value"
      ],
      "metadata": {
        "colab": {
          "base_uri": "https://localhost:8080/",
          "height": 183
        },
        "id": "6ht4OJpRTp5c",
        "outputId": "61adca97-992e-432e-a3a6-241a6b8546df"
      },
      "execution_count": 8,
      "outputs": [
        {
          "output_type": "error",
          "ename": "AttributeError",
          "evalue": "ignored",
          "traceback": [
            "\u001b[0;31m---------------------------------------------------------------------------\u001b[0m",
            "\u001b[0;31mAttributeError\u001b[0m                            Traceback (most recent call last)",
            "\u001b[0;32m<ipython-input-8-3b02029c4475>\u001b[0m in \u001b[0;36m<cell line: 2>\u001b[0;34m()\u001b[0m\n\u001b[1;32m      1\u001b[0m \u001b[0mobj\u001b[0m \u001b[0;34m=\u001b[0m \u001b[0mMyClass\u001b[0m\u001b[0;34m(\u001b[0m\u001b[0;36m10\u001b[0m\u001b[0;34m)\u001b[0m\u001b[0;34m\u001b[0m\u001b[0;34m\u001b[0m\u001b[0m\n\u001b[0;32m----> 2\u001b[0;31m \u001b[0mobj\u001b[0m\u001b[0;34m.\u001b[0m\u001b[0mvalue\u001b[0m\u001b[0;34m\u001b[0m\u001b[0;34m\u001b[0m\u001b[0m\n\u001b[0m",
            "\u001b[0;31mAttributeError\u001b[0m: 'MyClass' object has no attribute 'value'"
          ]
        }
      ]
    },
    {
      "cell_type": "markdown",
      "source": [
        "**Setters**\n",
        "\n",
        "It is important to note that getters donot take any parameters and we cannot set the value through getter method. For that we need setter method which can be added by decorating method with @property_name.setter\n"
      ],
      "metadata": {
        "id": "e5j_nDSnT2So"
      }
    },
    {
      "cell_type": "code",
      "source": [
        "class MyClass:\n",
        "  def __init__(self, value):\n",
        "    self._value = value\n",
        "\n",
        "\n",
        "  @property\n",
        "  def value(self):\n",
        "    return self._value\n",
        "\n",
        "\n",
        "  @value.setter\n",
        "  def value(self, new_value):\n",
        "    sef._value = new_value\n"
      ],
      "metadata": {
        "id": "Uc2_i7zdUjMA"
      },
      "execution_count": 10,
      "outputs": []
    },
    {
      "cell_type": "code",
      "source": [
        "In conclusion getter are a convinent way to access the values of an object's properties, while keeping the internal representation of the property hidden. This can be useful for encapsulation and data validation."
      ],
      "metadata": {
        "id": "oii3V4fmVJ31"
      },
      "execution_count": null,
      "outputs": []
    }
  ]
}