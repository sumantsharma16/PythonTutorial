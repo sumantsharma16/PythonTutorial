{
  "nbformat": 4,
  "nbformat_minor": 0,
  "metadata": {
    "colab": {
      "provenance": []
    },
    "kernelspec": {
      "name": "python3",
      "display_name": "Python 3"
    },
    "language_info": {
      "name": "python"
    }
  },
  "cells": [
    {
      "cell_type": "code",
      "execution_count": 1,
      "metadata": {
        "id": "DkOx0olhd7NA"
      },
      "outputs": [],
      "source": [
        "# Lets create a function with doctstrin"
      ]
    },
    {
      "cell_type": "code",
      "source": [
        "def is_even(num):\n",
        "  \"\"\"\n",
        "  This function returns if a given number is odd or even\n",
        "  input - any valid integer\n",
        "  output - odd/even\n",
        "  created on - 16th Nov 2022\n",
        "  \"\"\"\n",
        "\n",
        "  if type(num) == int:\n",
        "    if num % 2 == 0:\n",
        "      return 'even'\n",
        "    else:\n",
        "      return 'odd'\n",
        "  else:\n",
        "    return\"pagal hae kya\""
      ],
      "metadata": {
        "id": "6j3v40dRd_5j"
      },
      "execution_count": 2,
      "outputs": []
    },
    {
      "cell_type": "code",
      "source": [
        "# function\n",
        "# function_name(input)\n",
        "for i in range(1,11):\n",
        "  x = is_even(i)\n",
        "  print(x)"
      ],
      "metadata": {
        "colab": {
          "base_uri": "https://localhost:8080/"
        },
        "id": "Dg_LLsdpeWKM",
        "outputId": "e1c0b7e1-028b-47a3-ef1d-e441b8bd9f64"
      },
      "execution_count": 3,
      "outputs": [
        {
          "output_type": "stream",
          "name": "stdout",
          "text": [
            "odd\n",
            "even\n",
            "odd\n",
            "even\n",
            "odd\n",
            "even\n",
            "odd\n",
            "even\n",
            "odd\n",
            "even\n"
          ]
        }
      ]
    },
    {
      "cell_type": "code",
      "source": [
        "print(type.__doc__)"
      ],
      "metadata": {
        "colab": {
          "base_uri": "https://localhost:8080/"
        },
        "id": "5dm759pZel6_",
        "outputId": "653bae32-2b3c-487c-9593-44595a77fa21"
      },
      "execution_count": 4,
      "outputs": [
        {
          "output_type": "stream",
          "name": "stdout",
          "text": [
            "type(object) -> the object's type\n",
            "type(name, bases, dict, **kwds) -> a new type\n"
          ]
        }
      ]
    },
    {
      "cell_type": "code",
      "source": [
        "# Point of views\n",
        "\n",
        "is_even(45)"
      ],
      "metadata": {
        "colab": {
          "base_uri": "https://localhost:8080/",
          "height": 36
        },
        "id": "Q22FjBabepYl",
        "outputId": "367dd90e-08af-42fe-b1c5-41ac2a4f5158"
      },
      "execution_count": 6,
      "outputs": [
        {
          "output_type": "execute_result",
          "data": {
            "text/plain": [
              "'odd'"
            ],
            "application/vnd.google.colaboratory.intrinsic+json": {
              "type": "string"
            }
          },
          "metadata": {},
          "execution_count": 6
        }
      ]
    },
    {
      "cell_type": "markdown",
      "source": [
        "# parameters vs arguments\n",
        "\n",
        "Type of arguments:\n",
        "\n",
        "default arguments\n",
        "\n",
        "positional argument\n",
        "\n",
        "keyword argument"
      ],
      "metadata": {
        "id": "JCauJvG0et4d"
      }
    },
    {
      "cell_type": "code",
      "source": [
        "def power(a=1, b=1):\n",
        "  return(a**b)"
      ],
      "metadata": {
        "id": "5dMG0UVUe9uB"
      },
      "execution_count": 7,
      "outputs": []
    },
    {
      "cell_type": "code",
      "source": [
        "power()"
      ],
      "metadata": {
        "colab": {
          "base_uri": "https://localhost:8080/"
        },
        "id": "lW0NoSpFfB7i",
        "outputId": "c0554670-78f0-49c5-8568-8a772ff890ad"
      },
      "execution_count": 8,
      "outputs": [
        {
          "output_type": "execute_result",
          "data": {
            "text/plain": [
              "1"
            ]
          },
          "metadata": {},
          "execution_count": 8
        }
      ]
    },
    {
      "cell_type": "code",
      "source": [
        "# positional argument\n",
        "power(2,4)"
      ],
      "metadata": {
        "colab": {
          "base_uri": "https://localhost:8080/"
        },
        "id": "uy2L4mApfCr6",
        "outputId": "5e5a4b47-84ac-4f44-ad91-055c77c8bb52"
      },
      "execution_count": 9,
      "outputs": [
        {
          "output_type": "execute_result",
          "data": {
            "text/plain": [
              "16"
            ]
          },
          "metadata": {},
          "execution_count": 9
        }
      ]
    },
    {
      "cell_type": "code",
      "source": [
        "# keyword arguments\n",
        "power(b=4, a=2)"
      ],
      "metadata": {
        "colab": {
          "base_uri": "https://localhost:8080/"
        },
        "id": "ZMSzXfiIfHq8",
        "outputId": "5757ff47-7e59-495f-ef74-709e51570dab"
      },
      "execution_count": 10,
      "outputs": [
        {
          "output_type": "execute_result",
          "data": {
            "text/plain": [
              "16"
            ]
          },
          "metadata": {},
          "execution_count": 10
        }
      ]
    },
    {
      "cell_type": "markdown",
      "source": [
        "*args and **kwargs\n",
        "*args and **kwargs are special Python keywords that are used to pass the variable length of arguments to a function"
      ],
      "metadata": {
        "id": "l8YRBGi9fMBR"
      }
    },
    {
      "cell_type": "code",
      "source": [
        "# *args\n",
        "# allows us to pass a variable number of non-keyword arguments to a function.\n",
        "def multiply(*kwargs):\n",
        "  product = 1\n",
        "\n",
        "  for i in kwargs:\n",
        "    product = product * i\n",
        "\n",
        "  print(kwargs)\n",
        "  return product"
      ],
      "metadata": {
        "id": "lpSaICcQfUu6"
      },
      "execution_count": 12,
      "outputs": []
    },
    {
      "cell_type": "code",
      "source": [
        "multiply(1,2,3,4,5,6,7,8,9,10)"
      ],
      "metadata": {
        "colab": {
          "base_uri": "https://localhost:8080/"
        },
        "id": "dALh1t3EfiSX",
        "outputId": "530e7049-1172-49e7-e326-f2b6540bd569"
      },
      "execution_count": 14,
      "outputs": [
        {
          "output_type": "stream",
          "name": "stdout",
          "text": [
            "(1, 2, 3, 4, 5, 6, 7, 8, 9, 10)\n"
          ]
        },
        {
          "output_type": "execute_result",
          "data": {
            "text/plain": [
              "3628800"
            ]
          },
          "metadata": {},
          "execution_count": 14
        }
      ]
    },
    {
      "cell_type": "code",
      "source": [
        "#  **kwargs\n",
        "# **kwargs allows us to pass any number of keyword arguments.\n",
        "# Keyword arguments mean that they contain a key-value pair, like a Python dictionary.\n",
        "\n",
        "\n",
        "def disply(**salman):\n",
        "\n",
        "  for (key, value) in salman.items():\n",
        "    print(key, '-->', value)"
      ],
      "metadata": {
        "id": "ltDGSB1sfsO4"
      },
      "execution_count": 17,
      "outputs": []
    },
    {
      "cell_type": "code",
      "source": [
        "display(india = 'delhi', srilanka='colombo', nepal='kathmandu')"
      ],
      "metadata": {
        "id": "0TNyA4W_gBdu"
      },
      "execution_count": 18,
      "outputs": []
    },
    {
      "cell_type": "markdown",
      "source": [
        "Points to remember while using *args and **kwargs\n",
        "order of the arguments matter(normal -> *args -> **kwargs)\n",
        "The words “args” and “kwargs” are only a convention, you can use any name of your choice"
      ],
      "metadata": {
        "id": "_fAQltIdgN-4"
      }
    },
    {
      "cell_type": "markdown",
      "source": [
        "How function execute in memory"
      ],
      "metadata": {
        "id": "CORT4w2SgaIw"
      }
    },
    {
      "cell_type": "markdown",
      "source": [
        "without return statement"
      ],
      "metadata": {
        "id": "RFSH0_4agfbp"
      }
    },
    {
      "cell_type": "code",
      "source": [
        "L = [1,2,3]\n",
        "print(L.append(4))\n",
        "print(L)"
      ],
      "metadata": {
        "colab": {
          "base_uri": "https://localhost:8080/"
        },
        "id": "jbAoL9oIgiVk",
        "outputId": "1d06f350-f261-46e2-e5d3-7aca20100cf3"
      },
      "execution_count": 19,
      "outputs": [
        {
          "output_type": "stream",
          "name": "stdout",
          "text": [
            "None\n",
            "[1, 2, 3, 4]\n"
          ]
        }
      ]
    },
    {
      "cell_type": "markdown",
      "source": [
        "variable scope"
      ],
      "metadata": {
        "id": "DXeq60wGgnKb"
      }
    },
    {
      "cell_type": "code",
      "source": [
        "def g(y):\n",
        "    print(x)\n",
        "    print(x+1)\n",
        "x = 5\n",
        "g(x)\n",
        "print(x)"
      ],
      "metadata": {
        "colab": {
          "base_uri": "https://localhost:8080/"
        },
        "id": "zJxUCphtgqkM",
        "outputId": "1f9aded2-f6cc-43f3-f544-39250592fca7"
      },
      "execution_count": 22,
      "outputs": [
        {
          "output_type": "stream",
          "name": "stdout",
          "text": [
            "5\n",
            "6\n",
            "5\n"
          ]
        }
      ]
    },
    {
      "cell_type": "code",
      "source": [
        "def f(y):\n",
        "  x = 1\n",
        "  x  +=1\n",
        "  print(x)\n",
        "x = 5\n",
        "print(x)\n",
        "f(x)"
      ],
      "metadata": {
        "colab": {
          "base_uri": "https://localhost:8080/"
        },
        "id": "OFu3tyrAgyB3",
        "outputId": "3245cc2e-47ae-4540-8b69-88a6c0fc828f"
      },
      "execution_count": 23,
      "outputs": [
        {
          "output_type": "stream",
          "name": "stdout",
          "text": [
            "5\n",
            "2\n"
          ]
        }
      ]
    },
    {
      "cell_type": "code",
      "source": [
        "def h(y):\n",
        "  x = 1\n",
        "  x +=1\n",
        "x = 5\n",
        "h(x)\n",
        "print(x)"
      ],
      "metadata": {
        "colab": {
          "base_uri": "https://localhost:8080/"
        },
        "id": "Q_HD_ZAXhHN2",
        "outputId": "740576fe-87a7-44fd-8fef-1762ee0f9601"
      },
      "execution_count": 25,
      "outputs": [
        {
          "output_type": "stream",
          "name": "stdout",
          "text": [
            "5\n"
          ]
        }
      ]
    },
    {
      "cell_type": "code",
      "source": [
        "def f(x):\n",
        "  x = x+1\n",
        "  print('in f(x): x =', x)\n",
        "  return x\n",
        "\n",
        "x = 3\n",
        "z = f(x)\n",
        "print('in main program scope: z = ', z)\n",
        "print('in main program scope: x=', x)"
      ],
      "metadata": {
        "colab": {
          "base_uri": "https://localhost:8080/"
        },
        "id": "wW0EjAqahMFC",
        "outputId": "41ffde1d-ba31-444b-f1ae-967b9ad7878f"
      },
      "execution_count": 26,
      "outputs": [
        {
          "output_type": "stream",
          "name": "stdout",
          "text": [
            "in f(x): x = 4\n",
            "in main program scope: z =  4\n",
            "in main program scope: x= 3\n"
          ]
        }
      ]
    },
    {
      "cell_type": "markdown",
      "source": [
        "Nested functions"
      ],
      "metadata": {
        "id": "bZagV4UUhnbT"
      }
    },
    {
      "cell_type": "code",
      "source": [
        "def f():\n",
        "  def g():\n",
        "    print('inside function g')\n",
        "    f()\n",
        "  g()\n",
        "  print('inside function f')"
      ],
      "metadata": {
        "id": "QJ8e4lRHhq48"
      },
      "execution_count": 27,
      "outputs": []
    },
    {
      "cell_type": "code",
      "source": [
        "f()"
      ],
      "metadata": {
        "colab": {
          "base_uri": "https://localhost:8080/",
          "height": 1000
        },
        "id": "VbTAlnaPhzD9",
        "outputId": "a746f067-3351-4b2c-bde9-f675f5f5c1f0"
      },
      "execution_count": 28,
      "outputs": [
        {
          "output_type": "stream",
          "name": "stdout",
          "text": [
            "inside function g\n",
            "inside function g\n",
            "inside function g\n",
            "inside function g\n",
            "inside function g\n",
            "inside function g\n",
            "inside function g\n",
            "inside function g\n",
            "inside function g\n",
            "inside function g\n",
            "inside function g\n",
            "inside function g\n",
            "inside function g\n",
            "inside function g\n",
            "inside function g\n",
            "inside function g\n",
            "inside function g\n",
            "inside function g\n",
            "inside function g\n",
            "inside function g\n",
            "inside function g\n",
            "inside function g\n",
            "inside function g\n",
            "inside function g\n",
            "inside function g\n",
            "inside function g\n",
            "inside function g\n",
            "inside function g\n",
            "inside function g\n",
            "inside function g\n",
            "inside function g\n",
            "inside function g\n",
            "inside function g\n",
            "inside function g\n",
            "inside function g\n",
            "inside function g\n",
            "inside function g\n",
            "inside function g\n",
            "inside function g\n",
            "inside function g\n",
            "inside function g\n",
            "inside function g\n",
            "inside function g\n",
            "inside function g\n",
            "inside function g\n",
            "inside function g\n",
            "inside function g\n",
            "inside function g\n",
            "inside function g\n",
            "inside function g\n",
            "inside function g\n",
            "inside function g\n",
            "inside function g\n",
            "inside function g\n",
            "inside function g\n",
            "inside function g\n",
            "inside function g\n",
            "inside function g\n",
            "inside function g\n",
            "inside function g\n",
            "inside function g\n",
            "inside function g\n",
            "inside function g\n",
            "inside function g\n",
            "inside function g\n",
            "inside function g\n",
            "inside function g\n",
            "inside function g\n",
            "inside function g\n",
            "inside function g\n",
            "inside function g\n",
            "inside function g\n",
            "inside function g\n",
            "inside function g\n",
            "inside function g\n",
            "inside function g\n",
            "inside function g\n",
            "inside function g\n",
            "inside function g\n",
            "inside function g\n",
            "inside function g\n",
            "inside function g\n",
            "inside function g\n",
            "inside function g\n",
            "inside function g\n",
            "inside function g\n",
            "inside function g\n",
            "inside function g\n",
            "inside function g\n",
            "inside function g\n",
            "inside function g\n",
            "inside function g\n",
            "inside function g\n",
            "inside function g\n",
            "inside function g\n",
            "inside function g\n",
            "inside function g\n",
            "inside function g\n",
            "inside function g\n",
            "inside function g\n",
            "inside function g\n",
            "inside function g\n",
            "inside function g\n",
            "inside function g\n",
            "inside function g\n",
            "inside function g\n",
            "inside function g\n",
            "inside function g\n",
            "inside function g\n",
            "inside function g\n",
            "inside function g\n",
            "inside function g\n",
            "inside function g\n",
            "inside function g\n",
            "inside function g\n",
            "inside function g\n",
            "inside function g\n",
            "inside function g\n",
            "inside function g\n",
            "inside function g\n",
            "inside function g\n",
            "inside function g\n",
            "inside function g\n",
            "inside function g\n",
            "inside function g\n",
            "inside function g\n",
            "inside function g\n",
            "inside function g\n",
            "inside function g\n",
            "inside function g\n",
            "inside function g\n",
            "inside function g\n",
            "inside function g\n",
            "inside function g\n",
            "inside function g\n",
            "inside function g\n",
            "inside function g\n",
            "inside function g\n",
            "inside function g\n",
            "inside function g\n",
            "inside function g\n",
            "inside function g\n",
            "inside function g\n",
            "inside function g\n",
            "inside function g\n",
            "inside function g\n",
            "inside function g\n",
            "inside function g\n",
            "inside function g\n",
            "inside function g\n",
            "inside function g\n",
            "inside function g\n",
            "inside function g\n",
            "inside function g\n",
            "inside function g\n",
            "inside function g\n",
            "inside function g\n",
            "inside function g\n",
            "inside function g\n",
            "inside function g\n",
            "inside function g\n",
            "inside function g\n",
            "inside function g\n",
            "inside function g\n",
            "inside function g\n",
            "inside function g\n",
            "inside function g\n",
            "inside function g\n",
            "inside function g\n",
            "inside function g\n",
            "inside function g\n",
            "inside function g\n",
            "inside function g\n",
            "inside function g\n",
            "inside function g\n",
            "inside function g\n",
            "inside function g\n",
            "inside function g\n",
            "inside function g\n",
            "inside function g\n",
            "inside function g\n",
            "inside function g\n",
            "inside function g\n",
            "inside function g\n",
            "inside function g\n",
            "inside function g\n",
            "inside function g\n",
            "inside function g\n",
            "inside function g\n",
            "inside function g\n",
            "inside function g\n",
            "inside function g\n",
            "inside function g\n",
            "inside function g\n",
            "inside function g\n",
            "inside function g\n",
            "inside function g\n",
            "inside function g\n",
            "inside function g\n",
            "inside function g\n",
            "inside function g\n",
            "inside function g\n",
            "inside function g\n",
            "inside function g\n",
            "inside function g\n",
            "inside function g\n",
            "inside function g\n",
            "inside function g\n",
            "inside function g\n",
            "inside function g\n",
            "inside function g\n",
            "inside function g\n",
            "inside function g\n",
            "inside function g\n",
            "inside function g\n",
            "inside function g\n",
            "inside function g\n",
            "inside function g\n",
            "inside function g\n",
            "inside function g\n",
            "inside function g\n",
            "inside function g\n",
            "inside function g\n",
            "inside function g\n",
            "inside function g\n",
            "inside function g\n",
            "inside function g\n",
            "inside function g\n",
            "inside function g\n",
            "inside function g\n",
            "inside function g\n",
            "inside function g\n",
            "inside function g\n",
            "inside function g\n",
            "inside function g\n",
            "inside function g\n",
            "inside function g\n",
            "inside function g\n",
            "inside function g\n",
            "inside function g\n",
            "inside function g\n",
            "inside function g\n",
            "inside function g\n",
            "inside function g\n",
            "inside function g\n",
            "inside function g\n",
            "inside function g\n",
            "inside function g\n",
            "inside function g\n",
            "inside function g\n",
            "inside function g\n",
            "inside function g\n",
            "inside function g\n",
            "inside function g\n",
            "inside function g\n",
            "inside function g\n",
            "inside function g\n",
            "inside function g\n",
            "inside function g\n",
            "inside function g\n",
            "inside function g\n",
            "inside function g\n",
            "inside function g\n",
            "inside function g\n",
            "inside function g\n",
            "inside function g\n",
            "inside function g\n",
            "inside function g\n",
            "inside function g\n",
            "inside function g\n",
            "inside function g\n",
            "inside function g\n",
            "inside function g\n",
            "inside function g\n",
            "inside function g\n",
            "inside function g\n",
            "inside function g\n",
            "inside function g\n",
            "inside function g\n",
            "inside function g\n",
            "inside function g\n",
            "inside function g\n",
            "inside function g\n",
            "inside function g\n",
            "inside function g\n",
            "inside function g\n",
            "inside function g\n",
            "inside function g\n",
            "inside function g\n",
            "inside function g\n",
            "inside function g\n",
            "inside function g\n",
            "inside function g\n",
            "inside function g\n",
            "inside function g\n",
            "inside function g\n",
            "inside function g\n",
            "inside function g\n",
            "inside function g\n",
            "inside function g\n",
            "inside function g\n",
            "inside function g\n",
            "inside function g\n",
            "inside function g\n",
            "inside function g\n",
            "inside function g\n",
            "inside function g\n",
            "inside function g\n",
            "inside function g\n",
            "inside function g\n",
            "inside function g\n",
            "inside function g\n",
            "inside function g\n",
            "inside function g\n",
            "inside function g\n",
            "inside function g\n",
            "inside function g\n",
            "inside function g\n",
            "inside function g\n",
            "inside function g\n",
            "inside function g\n",
            "inside function g\n",
            "inside function g\n",
            "inside function g\n",
            "inside function g\n",
            "inside function g\n",
            "inside function g\n",
            "inside function g\n",
            "inside function g\n",
            "inside function g\n",
            "inside function g\n",
            "inside function g\n",
            "inside function g\n",
            "inside function g\n",
            "inside function g\n",
            "inside function g\n",
            "inside function g\n",
            "inside function g\n",
            "inside function g\n",
            "inside function g\n",
            "inside function g\n",
            "inside function g\n",
            "inside function g\n",
            "inside function g\n",
            "inside function g\n",
            "inside function g\n",
            "inside function g\n",
            "inside function g\n",
            "inside function g\n",
            "inside function g\n",
            "inside function g\n",
            "inside function g\n",
            "inside function g\n",
            "inside function g\n",
            "inside function g\n",
            "inside function g\n",
            "inside function g\n",
            "inside function g\n",
            "inside function g\n",
            "inside function g\n",
            "inside function g\n",
            "inside function g\n",
            "inside function g\n",
            "inside function g\n",
            "inside function g\n",
            "inside function g\n",
            "inside function g\n",
            "inside function g\n",
            "inside function g\n",
            "inside function g\n",
            "inside function g\n",
            "inside function g\n",
            "inside function g\n",
            "inside function g\n",
            "inside function g\n",
            "inside function g\n",
            "inside function g\n",
            "inside function g\n",
            "inside function g\n",
            "inside function g\n",
            "inside function g\n",
            "inside function g\n",
            "inside function g\n",
            "inside function g\n",
            "inside function g\n",
            "inside function g\n",
            "inside function g\n",
            "inside function g\n",
            "inside function g\n",
            "inside function g\n",
            "inside function g\n",
            "inside function g\n",
            "inside function g\n",
            "inside function g\n",
            "inside function g\n",
            "inside function g\n",
            "inside function g\n",
            "inside function g\n",
            "inside function g\n",
            "inside function g\n",
            "inside function g\n",
            "inside function g\n",
            "inside function g\n",
            "inside function g\n",
            "inside function g\n",
            "inside function g\n",
            "inside function g\n",
            "inside function g\n",
            "inside function g\n",
            "inside function g\n",
            "inside function g\n",
            "inside function g\n",
            "inside function g\n",
            "inside function g\n",
            "inside function g\n",
            "inside function g\n",
            "inside function g\n",
            "inside function g\n",
            "inside function g\n",
            "inside function g\n",
            "inside function g\n",
            "inside function g\n",
            "inside function g\n",
            "inside function g\n",
            "inside function g\n",
            "inside function g\n",
            "inside function g\n",
            "inside function g\n",
            "inside function g\n",
            "inside function g\n",
            "inside function g\n",
            "inside function g\n",
            "inside function g\n",
            "inside function g\n",
            "inside function g\n",
            "inside function g\n",
            "inside function g\n",
            "inside function g\n",
            "inside function g\n",
            "inside function g\n",
            "inside function g\n",
            "inside function g\n",
            "inside function g\n",
            "inside function g\n",
            "inside function g\n",
            "inside function g\n",
            "inside function g\n",
            "inside function g\n",
            "inside function g\n",
            "inside function g\n",
            "inside function g\n",
            "inside function g\n",
            "inside function g\n",
            "inside function g\n",
            "inside function g\n",
            "inside function g\n",
            "inside function g\n",
            "inside function g\n",
            "inside function g\n",
            "inside function g\n",
            "inside function g\n",
            "inside function g\n",
            "inside function g\n",
            "inside function g\n",
            "inside function g\n",
            "inside function g\n",
            "inside function g\n",
            "inside function g\n",
            "inside function g\n",
            "inside function g\n",
            "inside function g\n",
            "inside function g\n",
            "inside function g\n"
          ]
        },
        {
          "output_type": "error",
          "ename": "RecursionError",
          "evalue": "ignored",
          "traceback": [
            "\u001b[0;31m---------------------------------------------------------------------------\u001b[0m",
            "\u001b[0;31mRecursionError\u001b[0m                            Traceback (most recent call last)",
            "\u001b[0;32m/usr/lib/python3.10/threading.py\u001b[0m in \u001b[0;36m_wait_for_tstate_lock\u001b[0;34m(self, block, timeout)\u001b[0m\n\u001b[1;32m   1115\u001b[0m         \u001b[0;32mtry\u001b[0m\u001b[0;34m:\u001b[0m\u001b[0;34m\u001b[0m\u001b[0;34m\u001b[0m\u001b[0m\n\u001b[0;32m-> 1116\u001b[0;31m             \u001b[0;32mif\u001b[0m \u001b[0mlock\u001b[0m\u001b[0;34m.\u001b[0m\u001b[0macquire\u001b[0m\u001b[0;34m(\u001b[0m\u001b[0mblock\u001b[0m\u001b[0;34m,\u001b[0m \u001b[0mtimeout\u001b[0m\u001b[0;34m)\u001b[0m\u001b[0;34m:\u001b[0m\u001b[0;34m\u001b[0m\u001b[0;34m\u001b[0m\u001b[0m\n\u001b[0m\u001b[1;32m   1117\u001b[0m                 \u001b[0mlock\u001b[0m\u001b[0;34m.\u001b[0m\u001b[0mrelease\u001b[0m\u001b[0;34m(\u001b[0m\u001b[0;34m)\u001b[0m\u001b[0;34m\u001b[0m\u001b[0;34m\u001b[0m\u001b[0m\n",
            "\u001b[0;31mRecursionError\u001b[0m: maximum recursion depth exceeded while calling a Python object",
            "\nDuring handling of the above exception, another exception occurred:\n",
            "\u001b[0;31mRecursionError\u001b[0m                            Traceback (most recent call last)",
            "\u001b[0;32m<ipython-input-28-c43e34e6d405>\u001b[0m in \u001b[0;36m<cell line: 1>\u001b[0;34m()\u001b[0m\n\u001b[0;32m----> 1\u001b[0;31m \u001b[0mf\u001b[0m\u001b[0;34m(\u001b[0m\u001b[0;34m)\u001b[0m\u001b[0;34m\u001b[0m\u001b[0;34m\u001b[0m\u001b[0m\n\u001b[0m",
            "\u001b[0;32m<ipython-input-27-374a68ddd49e>\u001b[0m in \u001b[0;36mf\u001b[0;34m()\u001b[0m\n\u001b[1;32m      3\u001b[0m     \u001b[0mprint\u001b[0m\u001b[0;34m(\u001b[0m\u001b[0;34m'inside function g'\u001b[0m\u001b[0;34m)\u001b[0m\u001b[0;34m\u001b[0m\u001b[0;34m\u001b[0m\u001b[0m\n\u001b[1;32m      4\u001b[0m     \u001b[0mf\u001b[0m\u001b[0;34m(\u001b[0m\u001b[0;34m)\u001b[0m\u001b[0;34m\u001b[0m\u001b[0;34m\u001b[0m\u001b[0m\n\u001b[0;32m----> 5\u001b[0;31m   \u001b[0mg\u001b[0m\u001b[0;34m(\u001b[0m\u001b[0;34m)\u001b[0m\u001b[0;34m\u001b[0m\u001b[0;34m\u001b[0m\u001b[0m\n\u001b[0m\u001b[1;32m      6\u001b[0m   \u001b[0mprint\u001b[0m\u001b[0;34m(\u001b[0m\u001b[0;34m'inside function f'\u001b[0m\u001b[0;34m)\u001b[0m\u001b[0;34m\u001b[0m\u001b[0;34m\u001b[0m\u001b[0m\n",
            "\u001b[0;32m<ipython-input-27-374a68ddd49e>\u001b[0m in \u001b[0;36mg\u001b[0;34m()\u001b[0m\n\u001b[1;32m      2\u001b[0m   \u001b[0;32mdef\u001b[0m \u001b[0mg\u001b[0m\u001b[0;34m(\u001b[0m\u001b[0;34m)\u001b[0m\u001b[0;34m:\u001b[0m\u001b[0;34m\u001b[0m\u001b[0;34m\u001b[0m\u001b[0m\n\u001b[1;32m      3\u001b[0m     \u001b[0mprint\u001b[0m\u001b[0;34m(\u001b[0m\u001b[0;34m'inside function g'\u001b[0m\u001b[0;34m)\u001b[0m\u001b[0;34m\u001b[0m\u001b[0;34m\u001b[0m\u001b[0m\n\u001b[0;32m----> 4\u001b[0;31m     \u001b[0mf\u001b[0m\u001b[0;34m(\u001b[0m\u001b[0;34m)\u001b[0m\u001b[0;34m\u001b[0m\u001b[0;34m\u001b[0m\u001b[0m\n\u001b[0m\u001b[1;32m      5\u001b[0m   \u001b[0mg\u001b[0m\u001b[0;34m(\u001b[0m\u001b[0;34m)\u001b[0m\u001b[0;34m\u001b[0m\u001b[0;34m\u001b[0m\u001b[0m\n\u001b[1;32m      6\u001b[0m   \u001b[0mprint\u001b[0m\u001b[0;34m(\u001b[0m\u001b[0;34m'inside function f'\u001b[0m\u001b[0;34m)\u001b[0m\u001b[0;34m\u001b[0m\u001b[0;34m\u001b[0m\u001b[0m\n",
            "... last 2 frames repeated, from the frame below ...\n",
            "\u001b[0;32m<ipython-input-27-374a68ddd49e>\u001b[0m in \u001b[0;36mf\u001b[0;34m()\u001b[0m\n\u001b[1;32m      3\u001b[0m     \u001b[0mprint\u001b[0m\u001b[0;34m(\u001b[0m\u001b[0;34m'inside function g'\u001b[0m\u001b[0;34m)\u001b[0m\u001b[0;34m\u001b[0m\u001b[0;34m\u001b[0m\u001b[0m\n\u001b[1;32m      4\u001b[0m     \u001b[0mf\u001b[0m\u001b[0;34m(\u001b[0m\u001b[0;34m)\u001b[0m\u001b[0;34m\u001b[0m\u001b[0;34m\u001b[0m\u001b[0m\n\u001b[0;32m----> 5\u001b[0;31m   \u001b[0mg\u001b[0m\u001b[0;34m(\u001b[0m\u001b[0;34m)\u001b[0m\u001b[0;34m\u001b[0m\u001b[0;34m\u001b[0m\u001b[0m\n\u001b[0m\u001b[1;32m      6\u001b[0m   \u001b[0mprint\u001b[0m\u001b[0;34m(\u001b[0m\u001b[0;34m'inside function f'\u001b[0m\u001b[0;34m)\u001b[0m\u001b[0;34m\u001b[0m\u001b[0;34m\u001b[0m\u001b[0m\n",
            "\u001b[0;31mRecursionError\u001b[0m: maximum recursion depth exceeded while calling a Python object"
          ]
        }
      ]
    },
    {
      "cell_type": "code",
      "source": [
        "def g(x):\n",
        "  def h():\n",
        "    x = 'abc'\n",
        "    x = x+1\n",
        "    print('in g(x):x =', x)\n",
        "    h()\n",
        "    return x\n",
        "\n",
        "  x = 3\n",
        "  z = g(x)"
      ],
      "metadata": {
        "id": "gMcvcq9yhzi1"
      },
      "execution_count": 29,
      "outputs": []
    },
    {
      "cell_type": "code",
      "source": [
        "def g(x):\n",
        "  def h(x):\n",
        "    x = x+1\n",
        "    print('in h(x): x=', x)\n",
        "  x = x+ 1\n",
        "  print('in g(x): x =', x)\n",
        "  h(x)\n",
        "  return x\n",
        "\n",
        "x = 3\n",
        "z = g(x)\n",
        "\n",
        "print('in main program scope : x =', x)\n",
        "print('in main program scope : z=', z)"
      ],
      "metadata": {
        "colab": {
          "base_uri": "https://localhost:8080/"
        },
        "id": "dwH078o2iIBg",
        "outputId": "1bb9ce87-16c4-4694-c4e4-78679dbb0bf1"
      },
      "execution_count": 30,
      "outputs": [
        {
          "output_type": "stream",
          "name": "stdout",
          "text": [
            "in g(x): x = 4\n",
            "in h(x): x= 5\n",
            "in main program scope : x = 3\n",
            "in main program scope : z= 4\n"
          ]
        }
      ]
    },
    {
      "cell_type": "markdown",
      "source": [
        "# Functions are first class citizens"
      ],
      "metadata": {
        "id": "E58u7jbGihx9"
      }
    },
    {
      "cell_type": "code",
      "source": [
        "# type and id\n",
        "def square(num):\n",
        "  return num**2\n",
        "\n",
        "type(square)\n",
        "id(square)"
      ],
      "metadata": {
        "colab": {
          "base_uri": "https://localhost:8080/"
        },
        "id": "qYvHoQ0piozD",
        "outputId": "2b6c1694-23d9-4bf5-8bad-5c06790b56b6"
      },
      "execution_count": 31,
      "outputs": [
        {
          "output_type": "execute_result",
          "data": {
            "text/plain": [
              "140175540227808"
            ]
          },
          "metadata": {},
          "execution_count": 31
        }
      ]
    },
    {
      "cell_type": "code",
      "source": [
        "# reassign\n",
        "x = square\n",
        "id(x)\n",
        "x(3)"
      ],
      "metadata": {
        "colab": {
          "base_uri": "https://localhost:8080/"
        },
        "id": "ZyONiTpUiwnV",
        "outputId": "5bf5ea2a-0319-4691-d789-d184237ab648"
      },
      "execution_count": 32,
      "outputs": [
        {
          "output_type": "execute_result",
          "data": {
            "text/plain": [
              "9"
            ]
          },
          "metadata": {},
          "execution_count": 32
        }
      ]
    },
    {
      "cell_type": "code",
      "source": [
        "a = 2\n",
        "b = a\n",
        "b"
      ],
      "metadata": {
        "colab": {
          "base_uri": "https://localhost:8080/"
        },
        "id": "oRXcUjr2i2Fe",
        "outputId": "4c9d311c-915b-41d4-f4ae-58d22da6dd3c"
      },
      "execution_count": 33,
      "outputs": [
        {
          "output_type": "execute_result",
          "data": {
            "text/plain": [
              "2"
            ]
          },
          "metadata": {},
          "execution_count": 33
        }
      ]
    },
    {
      "cell_type": "code",
      "source": [
        "# deleting a function\n",
        "del square"
      ],
      "metadata": {
        "id": "MkrQKClXi4TO"
      },
      "execution_count": 35,
      "outputs": []
    },
    {
      "cell_type": "code",
      "source": [
        "square(x)"
      ],
      "metadata": {
        "colab": {
          "base_uri": "https://localhost:8080/",
          "height": 165
        },
        "id": "rX6B0Na0i77S",
        "outputId": "732a0f63-224d-45f8-d194-7c85acbef6ee"
      },
      "execution_count": 36,
      "outputs": [
        {
          "output_type": "error",
          "ename": "NameError",
          "evalue": "ignored",
          "traceback": [
            "\u001b[0;31m---------------------------------------------------------------------------\u001b[0m",
            "\u001b[0;31mNameError\u001b[0m                                 Traceback (most recent call last)",
            "\u001b[0;32m<ipython-input-36-c555aa13d2a7>\u001b[0m in \u001b[0;36m<cell line: 1>\u001b[0;34m()\u001b[0m\n\u001b[0;32m----> 1\u001b[0;31m \u001b[0msquare\u001b[0m\u001b[0;34m(\u001b[0m\u001b[0mx\u001b[0m\u001b[0;34m)\u001b[0m\u001b[0;34m\u001b[0m\u001b[0;34m\u001b[0m\u001b[0m\n\u001b[0m",
            "\u001b[0;31mNameError\u001b[0m: name 'square' is not defined"
          ]
        }
      ]
    },
    {
      "cell_type": "code",
      "source": [
        "s = {square}\n",
        "s"
      ],
      "metadata": {
        "colab": {
          "base_uri": "https://localhost:8080/",
          "height": 182
        },
        "id": "RrzKFxoLjI7H",
        "outputId": "fa3c6399-8bf2-4bd8-a81a-0a03c59179d2"
      },
      "execution_count": 38,
      "outputs": [
        {
          "output_type": "error",
          "ename": "NameError",
          "evalue": "ignored",
          "traceback": [
            "\u001b[0;31m---------------------------------------------------------------------------\u001b[0m",
            "\u001b[0;31mNameError\u001b[0m                                 Traceback (most recent call last)",
            "\u001b[0;32m<ipython-input-38-755583c84fbf>\u001b[0m in \u001b[0;36m<cell line: 1>\u001b[0;34m()\u001b[0m\n\u001b[0;32m----> 1\u001b[0;31m \u001b[0ms\u001b[0m \u001b[0;34m=\u001b[0m \u001b[0;34m{\u001b[0m\u001b[0msquare\u001b[0m\u001b[0;34m}\u001b[0m\u001b[0;34m\u001b[0m\u001b[0;34m\u001b[0m\u001b[0m\n\u001b[0m\u001b[1;32m      2\u001b[0m \u001b[0ms\u001b[0m\u001b[0;34m\u001b[0m\u001b[0;34m\u001b[0m\u001b[0m\n",
            "\u001b[0;31mNameError\u001b[0m: name 'square' is not defined"
          ]
        }
      ]
    },
    {
      "cell_type": "code",
      "source": [
        "def f():\n",
        "  def x(a,b):\n",
        "    return x\n",
        "\n",
        "val = f()(3,4)\n",
        "print(val)"
      ],
      "metadata": {
        "colab": {
          "base_uri": "https://localhost:8080/",
          "height": 217
        },
        "id": "k9KueLUkjQDA",
        "outputId": "23b7df3b-0e6b-4fed-9b5f-e35e323fb1a7"
      },
      "execution_count": 39,
      "outputs": [
        {
          "output_type": "error",
          "ename": "TypeError",
          "evalue": "ignored",
          "traceback": [
            "\u001b[0;31m---------------------------------------------------------------------------\u001b[0m",
            "\u001b[0;31mTypeError\u001b[0m                                 Traceback (most recent call last)",
            "\u001b[0;32m<ipython-input-39-2ee3572bd676>\u001b[0m in \u001b[0;36m<cell line: 5>\u001b[0;34m()\u001b[0m\n\u001b[1;32m      3\u001b[0m     \u001b[0;32mreturn\u001b[0m \u001b[0mx\u001b[0m\u001b[0;34m\u001b[0m\u001b[0;34m\u001b[0m\u001b[0m\n\u001b[1;32m      4\u001b[0m \u001b[0;34m\u001b[0m\u001b[0m\n\u001b[0;32m----> 5\u001b[0;31m \u001b[0mval\u001b[0m \u001b[0;34m=\u001b[0m \u001b[0mf\u001b[0m\u001b[0;34m(\u001b[0m\u001b[0;34m)\u001b[0m\u001b[0;34m(\u001b[0m\u001b[0;36m3\u001b[0m\u001b[0;34m,\u001b[0m\u001b[0;36m4\u001b[0m\u001b[0;34m)\u001b[0m\u001b[0;34m\u001b[0m\u001b[0;34m\u001b[0m\u001b[0m\n\u001b[0m\u001b[1;32m      6\u001b[0m \u001b[0mprint\u001b[0m\u001b[0;34m(\u001b[0m\u001b[0mval\u001b[0m\u001b[0;34m)\u001b[0m\u001b[0;34m\u001b[0m\u001b[0;34m\u001b[0m\u001b[0m\n",
            "\u001b[0;31mTypeError\u001b[0m: 'NoneType' object is not callable"
          ]
        }
      ]
    },
    {
      "cell_type": "markdown",
      "source": [
        "function as argument"
      ],
      "metadata": {
        "id": "VN2y0UfHjhEW"
      }
    },
    {
      "cell_type": "code",
      "source": [
        "def func_a():\n",
        "  print('inside func_a')\n",
        "\n",
        "def func_b(z):\n",
        "  print('inside func_c')\n",
        "  return z()\n",
        "\n",
        "print(func_b(func(a)))"
      ],
      "metadata": {
        "colab": {
          "base_uri": "https://localhost:8080/",
          "height": 200
        },
        "id": "yCiyd3-bjqQ-",
        "outputId": "f1995adb-c266-4bd9-9f88-bc013e537ed0"
      },
      "execution_count": 42,
      "outputs": [
        {
          "output_type": "error",
          "ename": "NameError",
          "evalue": "ignored",
          "traceback": [
            "\u001b[0;31m---------------------------------------------------------------------------\u001b[0m",
            "\u001b[0;31mNameError\u001b[0m                                 Traceback (most recent call last)",
            "\u001b[0;32m<ipython-input-42-070351485dbe>\u001b[0m in \u001b[0;36m<cell line: 8>\u001b[0;34m()\u001b[0m\n\u001b[1;32m      6\u001b[0m   \u001b[0;32mreturn\u001b[0m \u001b[0mz\u001b[0m\u001b[0;34m(\u001b[0m\u001b[0;34m)\u001b[0m\u001b[0;34m\u001b[0m\u001b[0;34m\u001b[0m\u001b[0m\n\u001b[1;32m      7\u001b[0m \u001b[0;34m\u001b[0m\u001b[0m\n\u001b[0;32m----> 8\u001b[0;31m \u001b[0mprint\u001b[0m\u001b[0;34m(\u001b[0m\u001b[0mfunc_b\u001b[0m\u001b[0;34m(\u001b[0m\u001b[0mfunc\u001b[0m\u001b[0;34m(\u001b[0m\u001b[0ma\u001b[0m\u001b[0;34m)\u001b[0m\u001b[0;34m)\u001b[0m\u001b[0;34m)\u001b[0m\u001b[0;34m\u001b[0m\u001b[0;34m\u001b[0m\u001b[0m\n\u001b[0m",
            "\u001b[0;31mNameError\u001b[0m: name 'func' is not defined"
          ]
        }
      ]
    },
    {
      "cell_type": "code",
      "source": [
        "lambda x:x**2"
      ],
      "metadata": {
        "colab": {
          "base_uri": "https://localhost:8080/"
        },
        "id": "rX47vt8Hj7K0",
        "outputId": "3c1a9e09-afce-4c6c-c349-50336614a0bc"
      },
      "execution_count": 43,
      "outputs": [
        {
          "output_type": "execute_result",
          "data": {
            "text/plain": [
              "<function __main__.<lambda>(x)>"
            ]
          },
          "metadata": {},
          "execution_count": 43
        }
      ]
    },
    {
      "cell_type": "code",
      "source": [
        "a = lambda x,y:x+y\n",
        "a(5,2)"
      ],
      "metadata": {
        "colab": {
          "base_uri": "https://localhost:8080/"
        },
        "id": "QeiA6m8JkKG0",
        "outputId": "29389143-7e7e-41d9-bdc2-5493178cd0b2"
      },
      "execution_count": 45,
      "outputs": [
        {
          "output_type": "execute_result",
          "data": {
            "text/plain": [
              "7"
            ]
          },
          "metadata": {},
          "execution_count": 45
        }
      ]
    },
    {
      "cell_type": "markdown",
      "source": [
        "Diff between lambda vs Normal Function\n",
        "No name\n",
        "lambda has no return value(infact,returns a function)\n",
        "lambda is written in 1 line\n",
        "not reusable\n",
        "Then why use lambda functions?\n",
        "They are used with HOF"
      ],
      "metadata": {
        "id": "BFzR7Xt-kPOy"
      }
    },
    {
      "cell_type": "code",
      "source": [
        "# check if a string has a\n",
        "a = lambda s:'a' in s\n",
        "a = ('hello')"
      ],
      "metadata": {
        "id": "gXP_EiR4kV5K"
      },
      "execution_count": 46,
      "outputs": []
    },
    {
      "cell_type": "code",
      "source": [
        "# odd or even\n",
        "a = lambda x:'even' if x%2 == 0 else 'odd'\n",
        "a(4)"
      ],
      "metadata": {
        "colab": {
          "base_uri": "https://localhost:8080/",
          "height": 36
        },
        "id": "0c9IIzNrkdIC",
        "outputId": "3aea36a9-dba2-48a3-cde3-579e3880bdd6"
      },
      "execution_count": 47,
      "outputs": [
        {
          "output_type": "execute_result",
          "data": {
            "text/plain": [
              "'even'"
            ],
            "application/vnd.google.colaboratory.intrinsic+json": {
              "type": "string"
            }
          },
          "metadata": {},
          "execution_count": 47
        }
      ]
    },
    {
      "cell_type": "code",
      "source": [],
      "metadata": {
        "id": "-IOyNIzgkpjz"
      },
      "execution_count": null,
      "outputs": []
    }
  ]
}