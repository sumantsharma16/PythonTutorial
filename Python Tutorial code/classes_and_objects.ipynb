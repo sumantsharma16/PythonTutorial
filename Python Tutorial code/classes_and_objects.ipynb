{
  "nbformat": 4,
  "nbformat_minor": 0,
  "metadata": {
    "colab": {
      "provenance": []
    },
    "kernelspec": {
      "name": "python3",
      "display_name": "Python 3"
    },
    "language_info": {
      "name": "python"
    }
  },
  "cells": [
    {
      "cell_type": "markdown",
      "source": [
        "# ***classes and objects***\n",
        "\n",
        "A class is a blueprint or a template for creating objects, providing intial values for state (member variables or attributes), and implementation of behaviour(member functions or methods). The user defined objects are created using the class keyword.\n",
        "\n",
        "***Creating a class***\n",
        "\n",
        "let us now create a class using the class keyword."
      ],
      "metadata": {
        "id": "Ag7gMahRFmNs"
      }
    },
    {
      "cell_type": "code",
      "source": [
        "class Details:\n",
        "  name = 'Rohan'\n",
        "  age = '23'"
      ],
      "metadata": {
        "id": "x4w9ZvQJGkI0"
      },
      "execution_count": 1,
      "outputs": []
    },
    {
      "cell_type": "markdown",
      "source": [
        "# Creating an objects\n",
        "\n",
        "object is the instance of the class used to access the properties of the class Now lets create an object of the class."
      ],
      "metadata": {
        "id": "5GK20RabGqFz"
      }
    },
    {
      "cell_type": "code",
      "source": [
        "obj1 = Details()"
      ],
      "metadata": {
        "id": "Q3xnLe3mG7_z"
      },
      "execution_count": 2,
      "outputs": []
    },
    {
      "cell_type": "code",
      "source": [
        "class Details:\n",
        "  name = 'Rohan'\n",
        "  age = '23'\n",
        "\n",
        "obj1 = Details()\n",
        "print(obj1.name)\n",
        "print(obj1.age)"
      ],
      "metadata": {
        "colab": {
          "base_uri": "https://localhost:8080/"
        },
        "id": "ahCsu0gvG-zP",
        "outputId": "010ba721-9ac2-43ba-f60a-297e13fae07e"
      },
      "execution_count": 3,
      "outputs": [
        {
          "output_type": "stream",
          "name": "stdout",
          "text": [
            "Rohan\n",
            "23\n"
          ]
        }
      ]
    },
    {
      "cell_type": "markdown",
      "source": [
        "# **self parameter**\n",
        "\n",
        "The self parameter is a reference to the current instance of the class, and is used to access varibles that belongs to the class.\n",
        "\n",
        "It must be provided as the extra parameter inside the method definition.\n",
        "\n"
      ],
      "metadata": {
        "id": "C-hJPBjnHQq7"
      }
    },
    {
      "cell_type": "code",
      "source": [
        "class Details:\n",
        "  name = 'Rohan'\n",
        "  age = '23'\n",
        "\n",
        "\n",
        "  def desc(self):\n",
        "    print(\"My name is \", self.name, \"and I'm\", self.age, \"years old.\")\n",
        "\n",
        "\n",
        "obj1 = Details()\n",
        "obj1.desc()"
      ],
      "metadata": {
        "colab": {
          "base_uri": "https://localhost:8080/"
        },
        "id": "2tZBjzzPHwwS",
        "outputId": "2fb3887b-f2e1-4b0e-abc0-9032bc6e005c"
      },
      "execution_count": 4,
      "outputs": [
        {
          "output_type": "stream",
          "name": "stdout",
          "text": [
            "My name is  Rohan and I'm 23 years old.\n"
          ]
        }
      ]
    },
    {
      "cell_type": "code",
      "source": [],
      "metadata": {
        "id": "8vu3kWLFIJhQ"
      },
      "execution_count": null,
      "outputs": []
    }
  ]
}