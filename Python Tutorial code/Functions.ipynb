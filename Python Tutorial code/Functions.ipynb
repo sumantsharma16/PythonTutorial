{
  "nbformat": 4,
  "nbformat_minor": 0,
  "metadata": {
    "colab": {
      "provenance": []
    },
    "kernelspec": {
      "name": "python3",
      "display_name": "Python 3"
    },
    "language_info": {
      "name": "python"
    }
  },
  "cells": [
    {
      "cell_type": "markdown",
      "source": [
        "# Python Functions"
      ],
      "metadata": {
        "id": "Qzd-2Q-Jm_Cf"
      }
    },
    {
      "cell_type": "code",
      "source": [
        "A function is a block of code that perform a specific task whenever it is calledl. In bigger programs, where we have large amount of code, it is advisable to create or use existing functions that make the program flow organized and neat.\n",
        "\n",
        "There are two types of functions:\n",
        "\n",
        "1. Built in functions\n",
        "2. User defined functions\n",
        "\n",
        "**Built In functions:**\n",
        "\n",
        "These functions are defined and pre-coded in python. Some examples of buil-in functions are as follows:\n",
        "\n",
        "min(), max(), len(), sum(), type(), range(), dict(), list(), tuple(), set(), print(), etc.\n",
        "\n",
        "\n",
        "**User defined functions:**\n",
        "\n",
        "We can create functions to perform specific tasks as per our needs. Such functions are called user-defined functions.\n",
        "\n",
        "\n",
        "def function_name(parameters):\n",
        "\n",
        "  pass\n",
        "\n",
        "\n",
        "Create a function using the def keyword, followed by a  function name, followed by a pranthesis(()) and a colon(:)\n",
        "\n",
        ". Any parameters and arguments should be placed within the parantheses.\n",
        "\n",
        ". Rule to naming function are similar to that of naming variables.\n",
        "\n",
        ". Any statement and other code within the function should be indented.\n",
        "\n",
        "\n",
        "**Calling a function:**\n",
        "\n",
        "\n",
        "We call a function by the giving the function name, followed by parameters(if any ) in the parantheses.\n",
        "\n",
        "\n",
        "\n",
        "def name(fname, lname):\n",
        "  print(\"Hello,\", fname, lname)\n",
        "\n",
        "\n",
        "name(\"Same\", \"Wilson\")"
      ],
      "metadata": {
        "id": "gJfIUKsnnbRt"
      },
      "execution_count": null,
      "outputs": []
    }
  ]
}