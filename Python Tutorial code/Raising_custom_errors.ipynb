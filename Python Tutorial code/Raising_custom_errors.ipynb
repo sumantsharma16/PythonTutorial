{
  "nbformat": 4,
  "nbformat_minor": 0,
  "metadata": {
    "colab": {
      "provenance": []
    },
    "kernelspec": {
      "name": "python3",
      "display_name": "Python 3"
    },
    "language_info": {
      "name": "python"
    }
  },
  "cells": [
    {
      "cell_type": "markdown",
      "source": [
        "***Raising custom errors***"
      ],
      "metadata": {
        "id": "tuHLjvRmyjiN"
      }
    },
    {
      "cell_type": "markdown",
      "source": [
        "In python we can raise custom errors by using the raise keyword."
      ],
      "metadata": {
        "id": "D-2SBxW_yxSj"
      }
    },
    {
      "cell_type": "markdown",
      "source": [
        "In python we can define custom exception by creating a new class that is derived from the built in Exception class\n",
        "\n"
      ],
      "metadata": {
        "id": "b1VEzSh8y400"
      }
    },
    {
      "cell_type": "code",
      "source": [
        "This is use ful because sometime we might want to do something when a particular exception is raised. For example sending an error report to the admin, calling an api etc."
      ],
      "metadata": {
        "id": "O3u6-AlHzG52"
      },
      "execution_count": null,
      "outputs": []
    }
  ]
}