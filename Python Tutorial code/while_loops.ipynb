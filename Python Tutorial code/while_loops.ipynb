{
  "nbformat": 4,
  "nbformat_minor": 0,
  "metadata": {
    "colab": {
      "provenance": []
    },
    "kernelspec": {
      "name": "python3",
      "display_name": "Python 3"
    },
    "language_info": {
      "name": "python"
    }
  },
  "cells": [
    {
      "cell_type": "markdown",
      "source": [
        "# Python while loop"
      ],
      "metadata": {
        "id": "CLpTQqmRp0sY"
      }
    },
    {
      "cell_type": "markdown",
      "source": [
        "As the name suggests, while loops execute statements while the condition is True. As soon as the condition becomes False, the interperter comes out of the while loop."
      ],
      "metadata": {
        "id": "erA30nrYqCSX"
      }
    },
    {
      "cell_type": "code",
      "source": [
        "count = 5\n",
        "while (count > 0):\n",
        "  print(count)\n",
        "  count = count -1"
      ],
      "metadata": {
        "colab": {
          "base_uri": "https://localhost:8080/"
        },
        "id": "YWZC_iX7qTaP",
        "outputId": "9caf0e22-cd4d-4543-b234-246f67487a85"
      },
      "execution_count": 1,
      "outputs": [
        {
          "output_type": "stream",
          "name": "stdout",
          "text": [
            "5\n",
            "4\n",
            "3\n",
            "2\n",
            "1\n"
          ]
        }
      ]
    },
    {
      "cell_type": "markdown",
      "source": [
        "Here the count variable is set to 5 which decrements after each iteration. Depending upon the while loop condition, we need to either increment or decrements the counter variable or the loop will continue forever.and\n",
        "\n",
        "\n",
        "\n",
        "**Else with While Loop**\n",
        "\n",
        "We can even use the else statement with the while loop. Essentially what the else statement does is that as soon as the while loop condition becomes False, the interpeter comes out of the while loop and the else statement is executed"
      ],
      "metadata": {
        "id": "CPB92cKIqeud"
      }
    },
    {
      "cell_type": "code",
      "source": [
        "x = 5\n",
        "while (x>0):\n",
        "  print(x)\n",
        "  x = x - 1\n",
        "else:\n",
        "  print('counter is 0')"
      ],
      "metadata": {
        "colab": {
          "base_uri": "https://localhost:8080/"
        },
        "id": "is85JJtYrjij",
        "outputId": "b77e35da-1a60-4d07-b7e0-7ed774c26445"
      },
      "execution_count": 2,
      "outputs": [
        {
          "output_type": "stream",
          "name": "stdout",
          "text": [
            "5\n",
            "4\n",
            "3\n",
            "2\n",
            "1\n",
            "counter is 0\n"
          ]
        }
      ]
    },
    {
      "cell_type": "markdown",
      "source": [
        "# Do-While loop in python"
      ],
      "metadata": {
        "id": "8TQNzKFuruKl"
      }
    },
    {
      "cell_type": "markdown",
      "source": [
        "do..while is a loop in which a set of instruction will execute ata least once and then the repetition of loops body will depend on the condition passed at the end of the while loop. It is also known as an exit-controlled Loop.\n",
        "\n",
        "**How to emulate do while loop in python?**\n",
        "\n",
        "To create a do while loop in Python, you need to modify the while loop a bit in order to get similar behavior to a do while loop\n",
        "\n",
        "\n",
        "The most common technique to emulate a do-while loop is python is to use an infinit while loop with a break statement wrapped in an if statement that checks a given condition and breaks the iteration if that condition become true:\n"
      ],
      "metadata": {
        "id": "utG00Cear5IF"
      }
    },
    {
      "cell_type": "code",
      "source": [
        "while True:\n",
        "  number = int(input(\"Enter a positive number:\"))\n",
        "\n",
        "  print(number)\n",
        "  if not number > 0:\n",
        "    break"
      ],
      "metadata": {
        "colab": {
          "base_uri": "https://localhost:8080/"
        },
        "id": "91XQj-UDtPMs",
        "outputId": "4f16a310-5403-42d6-bda8-dde553efc852"
      },
      "execution_count": 3,
      "outputs": [
        {
          "output_type": "stream",
          "name": "stdout",
          "text": [
            "Enter a positive number:56\n",
            "56\n",
            "Enter a positive number:89\n",
            "89\n",
            "Enter a positive number:78\n",
            "78\n",
            "Enter a positive number:-9\n",
            "-9\n"
          ]
        }
      ]
    },
    {
      "cell_type": "code",
      "source": [],
      "metadata": {
        "id": "eKPQLZfFtgbU"
      },
      "execution_count": null,
      "outputs": []
    }
  ]
}