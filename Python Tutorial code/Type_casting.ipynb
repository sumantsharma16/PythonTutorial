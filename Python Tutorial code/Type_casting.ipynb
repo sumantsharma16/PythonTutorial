{
  "nbformat": 4,
  "nbformat_minor": 0,
  "metadata": {
    "colab": {
      "provenance": []
    },
    "kernelspec": {
      "name": "python3",
      "display_name": "Python 3"
    },
    "language_info": {
      "name": "python"
    }
  },
  "cells": [
    {
      "cell_type": "markdown",
      "source": [
        "# Type casting"
      ],
      "metadata": {
        "id": "257NX4viECdW"
      }
    },
    {
      "cell_type": "markdown",
      "source": [
        "The conversion of one data type into the other data type is known as type casting in python or type conversion in python.\n",
        "\n",
        "Python supports a wide variety of function or method like: int(), float(), str(), ord(), hex(), oct(), tuple(), set(), list(), dict() etc. for the type casting in python.\n",
        "\n",
        "**Two Types of Typecasting:**\n",
        "\n",
        "1. Explicit Conversion (Explicit type casting in python)\n",
        "\n",
        "2. Implicit Conversion (Implict type casting in python)\n",
        "\n",
        "**Explicit typecasting:**\n",
        "The conversion of one data type into another data type, done via developer or programmer's intervention or manually as per the requirement is known as explicit type conversion.\n",
        "\n",
        "It can be achieved with the help of Python's built in type conversion function such as int(), float(), hex(), oct(), str(), etc."
      ],
      "metadata": {
        "id": "5tfCMgAAEYoP"
      }
    },
    {
      "cell_type": "code",
      "source": [
        "string = \"25\"\n",
        "number = 5\n",
        "\n",
        "string_number = int(string) # throws an error if the string is not a valid integer\n",
        "\n",
        "sum = number + string_number\n",
        "\n",
        "print(\" The sum of both the numbers is:\", sum)"
      ],
      "metadata": {
        "colab": {
          "base_uri": "https://localhost:8080/"
        },
        "id": "EIgxZbq9GKtS",
        "outputId": "68184f6e-61b1-4e6c-91e7-c5900c9f4ff0"
      },
      "execution_count": 1,
      "outputs": [
        {
          "output_type": "stream",
          "name": "stdout",
          "text": [
            " The sum of both the numbers is: 30\n"
          ]
        }
      ]
    },
    {
      "cell_type": "markdown",
      "source": [
        "**Implicit type casting:**\n",
        "\n",
        "Data types in python do not have the same level i.e ordering of data type is not the same in Python. Some of the data types have higer order and some have lower order. While performing any operation on variables with different data type in python, one of the varibles data types will be changed to the higher data type. According to the level, one data type is converted into other by the python interperter itself (automatically). This is called implicit typecasting in python.\n",
        "\n",
        "Python converts a smaller data type to a higher data type to prevent data loss."
      ],
      "metadata": {
        "id": "5dBkakB5GyDW"
      }
    },
    {
      "cell_type": "code",
      "source": [
        "a = 7\n",
        "print(type(a))"
      ],
      "metadata": {
        "colab": {
          "base_uri": "https://localhost:8080/"
        },
        "id": "eVpvsJWeH9SA",
        "outputId": "50102bb8-7aba-4158-adef-de32473a87e7"
      },
      "execution_count": 2,
      "outputs": [
        {
          "output_type": "stream",
          "name": "stdout",
          "text": [
            "<class 'int'>\n"
          ]
        }
      ]
    },
    {
      "cell_type": "code",
      "source": [
        "b =2.0\n",
        "print(type(b))"
      ],
      "metadata": {
        "colab": {
          "base_uri": "https://localhost:8080/"
        },
        "id": "oCG4S9uSIA5D",
        "outputId": "34967f09-27ee-417d-823b-6b424a194b29"
      },
      "execution_count": 3,
      "outputs": [
        {
          "output_type": "stream",
          "name": "stdout",
          "text": [
            "<class 'float'>\n"
          ]
        }
      ]
    },
    {
      "cell_type": "code",
      "source": [
        "c = a+b\n",
        "print(c)\n",
        "print(type(c))"
      ],
      "metadata": {
        "colab": {
          "base_uri": "https://localhost:8080/"
        },
        "id": "kf6fR1o2IFPK",
        "outputId": "371804f0-99a0-49f2-a6fc-be8036d54386"
      },
      "execution_count": 5,
      "outputs": [
        {
          "output_type": "stream",
          "name": "stdout",
          "text": [
            "9.0\n",
            "<class 'float'>\n"
          ]
        }
      ]
    },
    {
      "cell_type": "code",
      "source": [],
      "metadata": {
        "id": "s7m7NDpIIMbp"
      },
      "execution_count": null,
      "outputs": []
    }
  ]
}