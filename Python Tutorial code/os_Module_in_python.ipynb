{
  "nbformat": 4,
  "nbformat_minor": 0,
  "metadata": {
    "colab": {
      "provenance": []
    },
    "kernelspec": {
      "name": "python3",
      "display_name": "Python 3"
    },
    "language_info": {
      "name": "python"
    }
  },
  "cells": [
    {
      "cell_type": "markdown",
      "source": [
        "# ***os Module in python***\n",
        "\n",
        "The os module in Python is a built in library that provides functions for interacting with the operating system. It allows you to perfom a wide variety of tasks, such as reading and writing files, interaction with the file system and running system commands.\n",
        "\n",
        "Here are some common tasks you can perform with the os module:\n",
        "\n",
        "Reading and writing files The os module provides functions for opening reading and writing files. For example, to open a file for reading you can use the open function:"
      ],
      "metadata": {
        "id": "OAl0VvZix6bB"
      }
    },
    {
      "cell_type": "code",
      "source": [
        "import os\n",
        "\n",
        "f = os.open(\"myfile.txt\", os.O_RDONLY)\n",
        "\n",
        "contents = os.read(f, 1024)"
      ],
      "metadata": {
        "colab": {
          "base_uri": "https://localhost:8080/",
          "height": 235
        },
        "id": "tQGgkI9wzAlk",
        "outputId": "509bbaac-55df-4c7c-d475-ed3b870371c9"
      },
      "execution_count": 1,
      "outputs": [
        {
          "output_type": "error",
          "ename": "FileNotFoundError",
          "evalue": "ignored",
          "traceback": [
            "\u001b[0;31m---------------------------------------------------------------------------\u001b[0m",
            "\u001b[0;31mFileNotFoundError\u001b[0m                         Traceback (most recent call last)",
            "\u001b[0;32m<ipython-input-1-f362675c6d1f>\u001b[0m in \u001b[0;36m<cell line: 3>\u001b[0;34m()\u001b[0m\n\u001b[1;32m      1\u001b[0m \u001b[0;32mimport\u001b[0m \u001b[0mos\u001b[0m\u001b[0;34m\u001b[0m\u001b[0;34m\u001b[0m\u001b[0m\n\u001b[1;32m      2\u001b[0m \u001b[0;34m\u001b[0m\u001b[0m\n\u001b[0;32m----> 3\u001b[0;31m \u001b[0mf\u001b[0m \u001b[0;34m=\u001b[0m \u001b[0mos\u001b[0m\u001b[0;34m.\u001b[0m\u001b[0mopen\u001b[0m\u001b[0;34m(\u001b[0m\u001b[0;34m\"myfile.txt\"\u001b[0m\u001b[0;34m,\u001b[0m \u001b[0mos\u001b[0m\u001b[0;34m.\u001b[0m\u001b[0mO_RDONLY\u001b[0m\u001b[0;34m)\u001b[0m\u001b[0;34m\u001b[0m\u001b[0;34m\u001b[0m\u001b[0m\n\u001b[0m\u001b[1;32m      4\u001b[0m \u001b[0;34m\u001b[0m\u001b[0m\n\u001b[1;32m      5\u001b[0m \u001b[0mcontents\u001b[0m \u001b[0;34m=\u001b[0m \u001b[0mos\u001b[0m\u001b[0;34m.\u001b[0m\u001b[0mread\u001b[0m\u001b[0;34m(\u001b[0m\u001b[0mf\u001b[0m\u001b[0;34m,\u001b[0m \u001b[0;36m1024\u001b[0m\u001b[0;34m)\u001b[0m\u001b[0;34m\u001b[0m\u001b[0;34m\u001b[0m\u001b[0m\n",
            "\u001b[0;31mFileNotFoundError\u001b[0m: [Errno 2] No such file or directory: 'myfile.txt'"
          ]
        }
      ]
    },
    {
      "cell_type": "markdown",
      "source": [
        "To open a file for writing you can use the os.O_WRONLY flag:"
      ],
      "metadata": {
        "id": "HDSbTA49zOCZ"
      }
    },
    {
      "cell_type": "code",
      "source": [
        "import os\n",
        "\n",
        "f = os.open(\"myfile.txt\", as.O_WRONLY)\n",
        "\n",
        "os.write(f, b\"Hello, world!\")\n",
        "\n",
        "os.close(f)"
      ],
      "metadata": {
        "id": "n9tF6kVUzear"
      },
      "execution_count": null,
      "outputs": []
    },
    {
      "cell_type": "markdown",
      "source": [
        "**Interacting with the file system**\n",
        "\n",
        "The os module also provides functions for interacting with the file system. For example you can use the os.listdir function to get a list of the files in a directory:"
      ],
      "metadata": {
        "id": "VQv-xSeMzsM6"
      }
    },
    {
      "cell_type": "code",
      "source": [
        "imort os\n",
        "\n",
        "files = os.listdir(\".\")\n",
        "print(files)"
      ],
      "metadata": {
        "id": "kWF8Mg040EZV"
      },
      "execution_count": null,
      "outputs": []
    },
    {
      "cell_type": "markdown",
      "source": [
        "You can also use the os.mkdir function to create a new directory:"
      ],
      "metadata": {
        "id": "Fv1YyO-60Jyx"
      }
    },
    {
      "cell_type": "code",
      "source": [
        "import os\n",
        "os.mkdir(\"newdir\")"
      ],
      "metadata": {
        "id": "PV7KLsi70XSz"
      },
      "execution_count": 2,
      "outputs": []
    },
    {
      "cell_type": "markdown",
      "source": [
        "**Running system commands**\n",
        "\n",
        "The os module provide for running system commands for example you can use the os.system function to run a command and get the output:"
      ],
      "metadata": {
        "id": "xfofc9Z70aY0"
      }
    },
    {
      "cell_type": "code",
      "source": [
        "import os\n",
        "\n",
        "output = os.system(\"ls\")\n",
        "print(output)"
      ],
      "metadata": {
        "id": "iyteMhgy0r8Z"
      },
      "execution_count": null,
      "outputs": []
    },
    {
      "cell_type": "markdown",
      "source": [
        "use the os.popen function to run a command and get the output as a file like object:"
      ],
      "metadata": {
        "id": "pt6HQZTY04af"
      }
    },
    {
      "cell_type": "code",
      "source": [
        "import os \n",
        "\n",
        "f = os.popen(\"ls\")\n",
        "\n",
        "output = f.read()\n",
        "print(output)\n",
        "\n",
        "f.close()"
      ],
      "metadata": {
        "colab": {
          "base_uri": "https://localhost:8080/"
        },
        "id": "t2jJc0aP1FOx",
        "outputId": "eb4915ea-2a27-425d-e76c-c31b758ca990"
      },
      "execution_count": 3,
      "outputs": [
        {
          "output_type": "stream",
          "name": "stdout",
          "text": [
            "newdir\n",
            "sample_data\n",
            "\n"
          ]
        }
      ]
    },
    {
      "cell_type": "code",
      "source": [],
      "metadata": {
        "id": "wsNcirEt1Nwk"
      },
      "execution_count": null,
      "outputs": []
    }
  ]
}