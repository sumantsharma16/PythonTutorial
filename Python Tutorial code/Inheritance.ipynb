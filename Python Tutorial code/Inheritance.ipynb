{
  "nbformat": 4,
  "nbformat_minor": 0,
  "metadata": {
    "colab": {
      "provenance": []
    },
    "kernelspec": {
      "name": "python3",
      "display_name": "Python 3"
    },
    "language_info": {
      "name": "python"
    }
  },
  "cells": [
    {
      "cell_type": "markdown",
      "source": [
        "# Inheritance in python\n",
        "\n",
        "When a class derives from another class. The child class will inherit all the public and protected properties and methods from the parent class. In addition, it can have its own properties and methods, this is called as inheritance."
      ],
      "metadata": {
        "id": "_9I_2f8PV5he"
      }
    },
    {
      "cell_type": "code",
      "source": [
        "# class BaseClass:\n",
        "#   Body of base class\n",
        "# class DerivedClass(BaseClass):\n",
        "#   Body of derived class"
      ],
      "metadata": {
        "id": "OawGdalk1yNC"
      },
      "execution_count": 2,
      "outputs": []
    },
    {
      "cell_type": "markdown",
      "source": [
        "Derived class inherits features from the base class where new features can be added to it. This results in re-usability of code.\n",
        "\n",
        "**Type of inheritence:**\n",
        "\n",
        "1. Single inheritance\n",
        "2. Multiple inheritance\n",
        "3. Multilevel inheritance\n",
        "4. Hierachical inheritance\n",
        "5. Hybrid Inheritance\n",
        "\n",
        "\n",
        "\n",
        "\n"
      ],
      "metadata": {
        "id": "sZEvdnjx15Nd"
      }
    },
    {
      "cell_type": "markdown",
      "source": [
        "**Single Inheritance:**\n",
        "\n",
        "Single inheritance enables a derived class to inherit properties from a single parent class, thus enablig code reusability and the addition of new features to existing code."
      ],
      "metadata": {
        "id": "kBcJ0k9A2jDf"
      }
    },
    {
      "cell_type": "code",
      "source": [
        "# Example:\n",
        "class Parent:\n",
        "  def func1(self):\n",
        "    print(\"This function is in parent class.\")\n",
        "\n",
        "class Child(Parent):\n",
        "  def func2(self):\n",
        "    print(\"This function is in child class\")\n",
        "\n",
        "object = Child()\n",
        "object.func1()\n",
        "object.func2()"
      ],
      "metadata": {
        "colab": {
          "base_uri": "https://localhost:8080/"
        },
        "id": "RRDwzlG025kD",
        "outputId": "fd6b4163-f6f2-4b8c-c33f-98a967ba2c75"
      },
      "execution_count": 3,
      "outputs": [
        {
          "output_type": "stream",
          "name": "stdout",
          "text": [
            "This function is in parent class.\n",
            "This function is in child class\n"
          ]
        }
      ]
    },
    {
      "cell_type": "markdown",
      "source": [
        "**Multipe Inheritance:**\n",
        "\n",
        "When a class can be derived from more than one base class this type of inheritance is called multiple inheritance. In multiple inheritances, as the features of the base classes are inherited into the derived class."
      ],
      "metadata": {
        "id": "fw73HkWt3XPr"
      }
    },
    {
      "cell_type": "code",
      "source": [
        "class Mother:\n",
        "  mothername = \"\"\n",
        "\n",
        "  def mother(self):\n",
        "    print(self.mothername)\n",
        "\n",
        "class Father:\n",
        "  fathername: \"\"\n",
        "  \n",
        "  def father(self):\n",
        "    print(self.fathername)\n",
        "\n",
        "\n",
        "\n",
        "\n",
        "class Son(Mother, Father):\n",
        "  def parents(self):\n",
        "    print(\"Father name is :\", self.fathername)\n",
        "    print(\"Mother :\", self.mothername)\n",
        "\n",
        "s1 = Son()\n",
        "s1.fathername = \"Mommy\"\n",
        "s1.mothername = \"Daddy\"\n",
        "s1.parents()"
      ],
      "metadata": {
        "colab": {
          "base_uri": "https://localhost:8080/"
        },
        "id": "2IPmXYJC31tP",
        "outputId": "f3fc4d37-41a2-46b9-df07-b33e189232f2"
      },
      "execution_count": 4,
      "outputs": [
        {
          "output_type": "stream",
          "name": "stdout",
          "text": [
            "Father name is : Mommy\n",
            "Mother : Daddy\n"
          ]
        }
      ]
    },
    {
      "cell_type": "markdown",
      "source": [
        "**Multilevel Inheritance:**\n",
        "\n",
        "In Multilevel inheritance, features of the base class and the derived class are further inherited into the new derived class. This is similar to a relationship represnting a child and a grandfather."
      ],
      "metadata": {
        "id": "_FcIiuUN4qJ7"
      }
    },
    {
      "cell_type": "code",
      "source": [
        "class Grandfather:\n",
        " \n",
        "    def __init__(self, grandfathername):\n",
        "        self.grandfathername = grandfathername\n",
        " \n",
        " \n",
        "class Father(Grandfather):\n",
        "    def __init__(self, fathername, grandfathername):\n",
        "        self.fathername = fathername\n",
        "        Grandfather.__init__(self, grandfathername)\n",
        "class Son(Father):\n",
        "    def __init__(self, sonname, fathername, grandfathername):\n",
        "        self.sonname = sonname\n",
        "        Father.__init__(self, fathername, grandfathername)\n",
        " \n",
        "    def print_name(self):\n",
        "        print('Grandfather name :', self.grandfathername)\n",
        "        print(\"Father name :\", self.fathername)\n",
        "        print(\"Son name :\", self.sonname)\n",
        "s1 = Son('Prince', 'Rampal', 'Lal mani')\n",
        "print(s1.grandfathername)\n",
        "s1.print_name()"
      ],
      "metadata": {
        "colab": {
          "base_uri": "https://localhost:8080/"
        },
        "id": "SW8fYNjE5Pbd",
        "outputId": "53339a75-c6c9-4cb6-b012-8c01880043c0"
      },
      "execution_count": 6,
      "outputs": [
        {
          "output_type": "stream",
          "name": "stdout",
          "text": [
            "Lal mani\n",
            "Grandfather name : Lal mani\n",
            "Father name : Rampal\n",
            "Son name : Prince\n"
          ]
        }
      ]
    },
    {
      "cell_type": "markdown",
      "source": [
        "**Hirachical Inheritance:**\n",
        "\n",
        "When more than one derived class are created from a single base this type of inheritance is called hierarchial inheritance. In this program, we have a parent(base) class and two child(derived) classes."
      ],
      "metadata": {
        "id": "hlkVF5LH60Md"
      }
    },
    {
      "cell_type": "markdown",
      "source": [
        "**Hybrid inheritance**\n",
        "\n",
        "Inheritance consisting of multiple types of inheritance is called hybrid inheritance."
      ],
      "metadata": {
        "id": "4SgQcKlo7eG1"
      }
    },
    {
      "cell_type": "code",
      "source": [],
      "metadata": {
        "id": "v62fqtFk7q8A"
      },
      "execution_count": 7,
      "outputs": []
    }
  ]
}