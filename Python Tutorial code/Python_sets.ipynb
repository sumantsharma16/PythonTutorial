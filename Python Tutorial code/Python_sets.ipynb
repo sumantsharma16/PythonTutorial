{
  "nbformat": 4,
  "nbformat_minor": 0,
  "metadata": {
    "colab": {
      "provenance": []
    },
    "kernelspec": {
      "name": "python3",
      "display_name": "Python 3"
    },
    "language_info": {
      "name": "python"
    }
  },
  "cells": [
    {
      "cell_type": "markdown",
      "source": [
        "# Python Sets\n",
        "Sets are unordered collecion of data items. They store multiple items in a single variable.Set items are separated by commas and enclosed with in curly brackets{}. Sets are unchangeable, meaning you cannot change items of the set once created. Sets dont contain duplicate items."
      ],
      "metadata": {
        "id": "4qaDErOpkh32"
      }
    },
    {
      "cell_type": "code",
      "source": [
        "info = {\"Carla\", 19,  False, 5.9, 10}\n",
        "print(info)"
      ],
      "metadata": {
        "colab": {
          "base_uri": "https://localhost:8080/"
        },
        "id": "fIQaINtWlFsA",
        "outputId": "a11d404b-3417-4082-d9b3-52235af93050"
      },
      "execution_count": 1,
      "outputs": [
        {
          "output_type": "stream",
          "name": "stdout",
          "text": [
            "{False, 'Carla', 19, 5.9, 10}\n"
          ]
        }
      ]
    },
    {
      "cell_type": "markdown",
      "source": [
        "\n",
        "Here we see that the items of set occur in random order and hence they cannot be accessed using index number. Also sets do not allow duplicate ValuesView\n",
        "\n",
        "\n",
        "**Accessing set items**\n",
        "\n",
        "***Using a For loop***\n",
        "\n",
        "You can access items of set using a for loop."
      ],
      "metadata": {
        "id": "IQ4fwW09lM3j"
      }
    },
    {
      "cell_type": "code",
      "source": [
        "info = {\"Carla\", 19, False, 5.9}\n",
        "for item in info:\n",
        "  print(item)"
      ],
      "metadata": {
        "colab": {
          "base_uri": "https://localhost:8080/"
        },
        "id": "ySvqsdKUlzYQ",
        "outputId": "0685f895-bdf5-4747-c9f4-6716bff2f70e"
      },
      "execution_count": 2,
      "outputs": [
        {
          "output_type": "stream",
          "name": "stdout",
          "text": [
            "False\n",
            "Carla\n",
            "19\n",
            "5.9\n"
          ]
        }
      ]
    },
    {
      "cell_type": "code",
      "source": [],
      "metadata": {
        "id": "y_RwrR0Bl9kL"
      },
      "execution_count": null,
      "outputs": []
    }
  ]
}