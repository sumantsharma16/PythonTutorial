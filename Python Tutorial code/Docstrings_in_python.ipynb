{
  "nbformat": 4,
  "nbformat_minor": 0,
  "metadata": {
    "colab": {
      "provenance": []
    },
    "kernelspec": {
      "name": "python3",
      "display_name": "Python 3"
    },
    "language_info": {
      "name": "python"
    }
  },
  "cells": [
    {
      "cell_type": "markdown",
      "source": [
        "# Doctstrings in python\n",
        "\n",
        "Pyton docstrings are the string literals that appear right after the defination of function, method, class, or module."
      ],
      "metadata": {
        "id": "kNS6AF73d4gx"
      }
    },
    {
      "cell_type": "code",
      "source": [
        "def square(n):\n",
        "  '''Takes in a number n, returns the square of n'''\n",
        "  print(n**2)\n",
        "square(5)"
      ],
      "metadata": {
        "colab": {
          "base_uri": "https://localhost:8080/"
        },
        "id": "JyfmBRGteXhS",
        "outputId": "660ccde7-c3a1-44db-874f-3b3f1e268262"
      },
      "execution_count": 1,
      "outputs": [
        {
          "output_type": "stream",
          "name": "stdout",
          "text": [
            "25\n"
          ]
        }
      ]
    },
    {
      "cell_type": "markdown",
      "source": [
        "Here,\n",
        "'''Takes in a number n, returns the square of n''' is a doctstring which will not appear in output"
      ],
      "metadata": {
        "id": "Yk5IWiibemoP"
      }
    },
    {
      "cell_type": "code",
      "source": [
        "def add(num1, num2):\n",
        "    \"\"\"\n",
        "    Add up two integer numbers.\n",
        "    This function simply wraps the ``+`` operator, and does not\n",
        "    do anything interesting, except for illustrating what\n",
        "    the docstring of a very simple function looks like.\n",
        "    Parameters\n",
        "    ----------\n",
        "    num1 : int\n",
        "        First number to add.\n",
        "    num2 : int\n",
        "        Second number to add.\n",
        "    Returns\n",
        "    -------\n",
        "    int\n",
        "        The sum of ``num1`` and ``num2``.\n",
        "    See Also\n",
        "    --------\n",
        "    subtract : Subtract one integer from another.\n",
        "    Examples\n",
        "    --------\n",
        "    >>> add(2, 2)\n",
        "    4\n",
        "    >>> add(25, 0)\n",
        "    25\n",
        "    >>> add(10, -10)\n",
        "    0\n",
        "    \"\"\"\n",
        "    return num1 + num2"
      ],
      "metadata": {
        "id": "SHoTvFyuey1g"
      },
      "execution_count": 3,
      "outputs": []
    },
    {
      "cell_type": "markdown",
      "source": [
        "# Python Comments vs Docstrings"
      ],
      "metadata": {
        "id": "BZunOMGRfawH"
      }
    },
    {
      "cell_type": "markdown",
      "source": [
        "**Python comments**\n",
        "\n",
        "Comments are description that help programmers better undestand the intent and functionality of the program. They are completely ignored by the Python interpreter.\n",
        "\n",
        "**Python docstring**\n",
        "\n",
        "As mentioned above, Python docstrings are strings used right after the definition of a function, method , class, or module. They are used to document our code.\n",
        "\n",
        "We can access these docstring using the doc attributes.\n",
        "\n",
        "\n",
        "**Python doc attribute**\n",
        "\n",
        "When ever string literals are present just after the definition of a function module, class or method, they are associated with the object as the doc attribute. We can later use this attribute to retrive this docstring."
      ],
      "metadata": {
        "id": "TGgXrRQyfrVF"
      }
    },
    {
      "cell_type": "code",
      "source": [
        "def square(n):\n",
        "  '''Takes in a number n, returns the square of n'''\n",
        "\n",
        "  return n**2\n",
        "\n",
        "print(square.__doc__)"
      ],
      "metadata": {
        "colab": {
          "base_uri": "https://localhost:8080/"
        },
        "id": "QBiPImwPg6d6",
        "outputId": "995cd9c0-2493-472d-821d-1b8ef061d44d"
      },
      "execution_count": 4,
      "outputs": [
        {
          "output_type": "stream",
          "name": "stdout",
          "text": [
            "Takes in a number n, returns the square of n\n"
          ]
        }
      ]
    },
    {
      "cell_type": "code",
      "source": [],
      "metadata": {
        "id": "3Scwq6pwhLdD"
      },
      "execution_count": null,
      "outputs": []
    }
  ]
}