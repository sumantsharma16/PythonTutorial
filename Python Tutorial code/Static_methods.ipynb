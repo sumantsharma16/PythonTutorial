{
  "nbformat": 4,
  "nbformat_minor": 0,
  "metadata": {
    "colab": {
      "provenance": []
    },
    "kernelspec": {
      "name": "python3",
      "display_name": "Python 3"
    },
    "language_info": {
      "name": "python"
    }
  },
  "cells": [
    {
      "cell_type": "markdown",
      "source": [
        "Static method in python are methods that belogg to class rather than an instance of the class. They are defined using the @staticmethod decorator and donot have access to the instance of the class (i.e. self). They are called on the class itself, not on an instance of the class. Static methods are often used to create utility functions that don't need access to instance data."
      ],
      "metadata": {
        "id": "vVFmZlpVKwyW"
      }
    },
    {
      "cell_type": "code",
      "source": [
        "class Math:\n",
        "  @staticmethod\n",
        "  def add(a, b):\n",
        "    return a + b\n",
        "\n",
        "result = Math.add(1,2)\n",
        "print(result)"
      ],
      "metadata": {
        "colab": {
          "base_uri": "https://localhost:8080/"
        },
        "id": "O6iHWWy4Lxq2",
        "outputId": "505fced6-81aa-490f-8336-0daae6a3396f"
      },
      "execution_count": 1,
      "outputs": [
        {
          "output_type": "stream",
          "name": "stdout",
          "text": [
            "3\n"
          ]
        }
      ]
    },
    {
      "cell_type": "markdown",
      "source": [
        "In this example the add method is a static method of the Math class. It takes two parameters a and b and return their sum. The method can be called on the class itself, without the need to create an instance of the class."
      ],
      "metadata": {
        "id": "9H9MzxBmL9Kw"
      }
    }
  ]
}