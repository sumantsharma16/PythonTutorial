{
  "nbformat": 4,
  "nbformat_minor": 0,
  "metadata": {
    "colab": {
      "provenance": []
    },
    "kernelspec": {
      "name": "python3",
      "display_name": "Python 3"
    },
    "language_info": {
      "name": "python"
    }
  },
  "cells": [
    {
      "cell_type": "markdown",
      "source": [
        "# Short Hand if else "
      ],
      "metadata": {
        "id": "s-vF2sPJeK9q"
      }
    },
    {
      "cell_type": "markdown",
      "source": [
        "If...Else in one line\n",
        "\n",
        "There is alsw a shorthand syntax for the if-else statement that can be used when the condition being tested is simple and the code blocks to  be executed and short."
      ],
      "metadata": {
        "id": "Oiqf2MsKeeg6"
      }
    },
    {
      "cell_type": "code",
      "source": [
        "a = 2\n",
        "b = 330\n",
        "\n",
        "print(\"A\") if a>b else print(\"B\")"
      ],
      "metadata": {
        "colab": {
          "base_uri": "https://localhost:8080/"
        },
        "id": "iaBatGaEe5-_",
        "outputId": "395d561b-eadc-4729-b4da-a62035bbd9b6"
      },
      "execution_count": 1,
      "outputs": [
        {
          "output_type": "stream",
          "name": "stdout",
          "text": [
            "B\n"
          ]
        }
      ]
    },
    {
      "cell_type": "code",
      "source": [
        "a = 330\n",
        "b = 330\n",
        "\n",
        "print(\"A\") if a > b else print(\"=\") if a == b else print(\"B\")"
      ],
      "metadata": {
        "colab": {
          "base_uri": "https://localhost:8080/"
        },
        "id": "DJWOzj2WfDMB",
        "outputId": "8f23ccc3-e7cb-4d1f-cb68-3609420ff5fb"
      },
      "execution_count": 7,
      "outputs": [
        {
          "output_type": "stream",
          "name": "stdout",
          "text": [
            "=\n"
          ]
        }
      ]
    },
    {
      "cell_type": "markdown",
      "source": [
        "result = value_if_true if condition else\n",
        "value_if_false"
      ],
      "metadata": {
        "id": "PaVt5OR3ff8u"
      }
    },
    {
      "cell_type": "markdown",
      "source": [
        "if conditon:\n",
        "\n",
        "  result = value_if_true\n",
        "\n",
        "else:\n",
        "  \n",
        "  result = value_if_false"
      ],
      "metadata": {
        "id": "k0XQYMv4fw3O"
      }
    },
    {
      "cell_type": "markdown",
      "source": [
        "The shorthand syntax can be a conveninent way to write simple if-else statements, especially when you want to assign a value to a variable based on a condition\n",
        "\n",
        "However, it is not suitable for more comples situtation where you need to execute multiple statements or perform more complex logic. In those cases, its best to use the full if-else syntax."
      ],
      "metadata": {
        "id": "P_nmKavjgBok"
      }
    }
  ]
}