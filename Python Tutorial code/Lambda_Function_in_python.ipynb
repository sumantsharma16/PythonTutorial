{
  "nbformat": 4,
  "nbformat_minor": 0,
  "metadata": {
    "colab": {
      "provenance": []
    },
    "kernelspec": {
      "name": "python3",
      "display_name": "Python 3"
    },
    "language_info": {
      "name": "python"
    }
  },
  "cells": [
    {
      "cell_type": "markdown",
      "source": [
        "# ***Lambda functions in python***\n",
        "\n",
        "In python a lambda function is a small anonymous function without a name. It is defined using the lambda keyword and has the following syntax.\n",
        "\n",
        "**lambda arguments: expression**\n",
        "\n",
        "Lambda functions are often used in situations where a small function is required for a short period of time. They are commonly use as arguments to higer order function such as map filter and reduce."
      ],
      "metadata": {
        "id": "DCiN4kX-Cj7E"
      }
    },
    {
      "cell_type": "code",
      "source": [
        "def double(x):\n",
        "  return x*2\n",
        "\n",
        "# Lambda function to double the input\n",
        "\n",
        "x: x * 2"
      ],
      "metadata": {
        "id": "_FKGJXAHDkgU"
      },
      "execution_count": null,
      "outputs": []
    },
    {
      "cell_type": "markdown",
      "source": [
        "The above lamda function has the same functionality as the double funciton defined earilier. However , the lambda funciton is anonymous as it does not have a name.\n",
        "\n",
        "Lambda functions can have multiple arguments just like regular functions. "
      ],
      "metadata": {
        "id": "YcrYWF-aDyou"
      }
    },
    {
      "cell_type": "code",
      "source": [
        "def multiply(x, y):\n",
        "  return x * y\n",
        "\n",
        "# Lambda function to calculate the product of two numbers\n",
        "\n",
        "lambda x, y: x * y"
      ],
      "metadata": {
        "id": "tiEeroJ6EKbs"
      },
      "execution_count": null,
      "outputs": []
    },
    {
      "cell_type": "markdown",
      "source": [
        "Lambda function can also include multiple statements, but they are limited to a single expression"
      ],
      "metadata": {
        "id": "kiFOzO5VEcBy"
      }
    },
    {
      "cell_type": "code",
      "source": [
        "lambda x, y: print(f'{x}* {y} = {x * y}')"
      ],
      "metadata": {
        "id": "WCUo2kDTEmoc"
      },
      "execution_count": null,
      "outputs": []
    }
  ]
}