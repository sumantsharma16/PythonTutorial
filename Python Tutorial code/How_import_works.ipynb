{
  "nbformat": 4,
  "nbformat_minor": 0,
  "metadata": {
    "colab": {
      "provenance": []
    },
    "kernelspec": {
      "name": "python3",
      "display_name": "Python 3"
    },
    "language_info": {
      "name": "python"
    }
  },
  "cells": [
    {
      "cell_type": "markdown",
      "source": [
        "# How importing in python works\n",
        "\n",
        "Importing in python is the process of loading code from Python module into current script. This allows you to use the functions and variables defined in the module in your current script as well as any additional modules that the imported module may depend on.\n",
        "\n",
        "To import a module in Python you use the import statement followed by the name of the module"
      ],
      "metadata": {
        "id": "m7AR6HyflU_u"
      }
    },
    {
      "cell_type": "code",
      "source": [
        "import math"
      ],
      "metadata": {
        "id": "n6GQSenlmFBy"
      },
      "execution_count": 1,
      "outputs": []
    },
    {
      "cell_type": "markdown",
      "source": [
        "Once a module is imported you can use any of the functions and variable defined in the module by using the dot notation. For example to use the sqrt function from the math module "
      ],
      "metadata": {
        "id": "RN9oNv7amF77"
      }
    },
    {
      "cell_type": "code",
      "source": [
        "import math\n",
        "result = math.sqrt(9)\n",
        "print(result)"
      ],
      "metadata": {
        "colab": {
          "base_uri": "https://localhost:8080/"
        },
        "id": "73GmF-K1mYBt",
        "outputId": "38714150-44a7-41f7-b559-ed55dd3ddc3c"
      },
      "execution_count": 2,
      "outputs": [
        {
          "output_type": "stream",
          "name": "stdout",
          "text": [
            "3.0\n"
          ]
        }
      ]
    },
    {
      "cell_type": "markdown",
      "source": [
        "**from keyword**\n",
        "\n",
        "Your can alse import specific functions or variablws from a module using the form keyword. For example to import only the sqrt function from the math module, you would write:"
      ],
      "metadata": {
        "id": "jG3uPN8dmfrd"
      }
    },
    {
      "cell_type": "code",
      "source": [
        "from math import sqrt\n",
        "\n",
        "result =sqrt(23)\n",
        "print(result)"
      ],
      "metadata": {
        "colab": {
          "base_uri": "https://localhost:8080/"
        },
        "id": "UyEATDQ6m2wu",
        "outputId": "54038d48-872c-4907-aab3-6953378b22fb"
      },
      "execution_count": 4,
      "outputs": [
        {
          "output_type": "stream",
          "name": "stdout",
          "text": [
            "4.795831523312719\n"
          ]
        }
      ]
    },
    {
      "cell_type": "markdown",
      "source": [
        "Your can alse import multiple functions or variables at once by seprating them with a comma"
      ],
      "metadata": {
        "id": "HqJe5BPum-qW"
      }
    },
    {
      "cell_type": "code",
      "source": [
        "from math import sqrt, pi\n",
        "\n",
        "result =sqrt(23)\n",
        "print(result)\n",
        "\n",
        "print(pi)\n"
      ],
      "metadata": {
        "colab": {
          "base_uri": "https://localhost:8080/"
        },
        "id": "DwLCBan3nNkY",
        "outputId": "8b74e0d8-a606-4b3e-be4e-86c63cc997a8"
      },
      "execution_count": 5,
      "outputs": [
        {
          "output_type": "stream",
          "name": "stdout",
          "text": [
            "4.795831523312719\n",
            "3.141592653589793\n"
          ]
        }
      ]
    },
    {
      "cell_type": "markdown",
      "source": [
        "**importing everything**\n",
        "\n",
        "\n",
        "It is alse possible to import all functions and variables from a modules using the *wild card. However this is not generally recommanded as it can lead to confusion and make it harder to understand where specific functions and variable are coming from "
      ],
      "metadata": {
        "id": "Zg-SiWo-nU_Z"
      }
    },
    {
      "cell_type": "code",
      "source": [
        "from math import*\n",
        "\n",
        "result = sqrt(4)\n",
        "print(result)\n",
        "print(pi)"
      ],
      "metadata": {
        "colab": {
          "base_uri": "https://localhost:8080/"
        },
        "id": "-jcgm08Bn3RT",
        "outputId": "b64fda18-f773-4b6f-e3a8-b99666149a4e"
      },
      "execution_count": 6,
      "outputs": [
        {
          "output_type": "stream",
          "name": "stdout",
          "text": [
            "2.0\n",
            "3.141592653589793\n"
          ]
        }
      ]
    },
    {
      "cell_type": "markdown",
      "source": [
        "**The \"as\" keyword**"
      ],
      "metadata": {
        "id": "BBqJuQrMoBvN"
      }
    },
    {
      "cell_type": "code",
      "source": [
        "import math as m\n",
        "result = m.sqrt(9)\n",
        "print(result)"
      ],
      "metadata": {
        "colab": {
          "base_uri": "https://localhost:8080/"
        },
        "id": "WXnVe8broQW0",
        "outputId": "6f0c7b2a-0963-4d32-b657-8aa6ece4deac"
      },
      "execution_count": 10,
      "outputs": [
        {
          "output_type": "stream",
          "name": "stdout",
          "text": [
            "3.0\n"
          ]
        }
      ]
    },
    {
      "cell_type": "markdown",
      "source": [
        "**The 'dir' function**\n",
        "\n",
        "Python has a built in function called dir that can use to view the names of all functions and variables defined in a module. This can be helpful for exploring and understand the content of new module"
      ],
      "metadata": {
        "id": "RfGtDoIzoX1R"
      }
    },
    {
      "cell_type": "code",
      "source": [
        "import math\n",
        "\n",
        "print(dir(math))"
      ],
      "metadata": {
        "colab": {
          "base_uri": "https://localhost:8080/"
        },
        "id": "Qcb92wrwo9Cl",
        "outputId": "5d5fac98-8137-4435-ea25-898f482e7182"
      },
      "execution_count": 11,
      "outputs": [
        {
          "output_type": "stream",
          "name": "stdout",
          "text": [
            "['__doc__', '__loader__', '__name__', '__package__', '__spec__', 'acos', 'acosh', 'asin', 'asinh', 'atan', 'atan2', 'atanh', 'ceil', 'comb', 'copysign', 'cos', 'cosh', 'degrees', 'dist', 'e', 'erf', 'erfc', 'exp', 'expm1', 'fabs', 'factorial', 'floor', 'fmod', 'frexp', 'fsum', 'gamma', 'gcd', 'hypot', 'inf', 'isclose', 'isfinite', 'isinf', 'isnan', 'isqrt', 'lcm', 'ldexp', 'lgamma', 'log', 'log10', 'log1p', 'log2', 'modf', 'nan', 'nextafter', 'perm', 'pi', 'pow', 'prod', 'radians', 'remainder', 'sin', 'sinh', 'sqrt', 'tan', 'tanh', 'tau', 'trunc', 'ulp']\n"
          ]
        }
      ]
    },
    {
      "cell_type": "code",
      "source": [],
      "metadata": {
        "id": "TRzq5dD-o_WS"
      },
      "execution_count": null,
      "outputs": []
    },
    {
      "cell_type": "code",
      "source": [],
      "metadata": {
        "id": "nhP4moi_pDvL"
      },
      "execution_count": null,
      "outputs": []
    }
  ]
}