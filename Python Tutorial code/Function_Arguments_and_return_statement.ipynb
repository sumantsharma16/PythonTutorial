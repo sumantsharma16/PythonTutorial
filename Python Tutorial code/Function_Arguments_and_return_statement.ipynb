{
  "nbformat": 4,
  "nbformat_minor": 0,
  "metadata": {
    "colab": {
      "provenance": []
    },
    "kernelspec": {
      "name": "python3",
      "display_name": "Python 3"
    },
    "language_info": {
      "name": "python"
    }
  },
  "cells": [
    {
      "cell_type": "markdown",
      "source": [
        "# Function Arguments and return statements"
      ],
      "metadata": {
        "id": "s7ec5th4rC8S"
      }
    },
    {
      "cell_type": "markdown",
      "source": [
        "There are four types of arguments that we can provide in a function:\n",
        "\n",
        ".Default Arguments\n",
        "\n",
        ". Keyword Arguments\n",
        "\n",
        ". Variable length Arguments\n",
        "\n",
        ". Required Arguments\n",
        "\n",
        "Default Arguments:\n",
        "\n",
        "We can provide a default value while creating a function. This way the function assumes a default value even if a value is not provided in the function call for that argument.\n",
        "\n",
        "\n",
        "Example:\n",
        "\n",
        "def name(fname, mname = \"Jhon\", lname=\"Whatson\"):\n",
        "  print(\"Hello\", fname, mname, lname)\n",
        "\n",
        "name(\"Amy\")"
      ],
      "metadata": {
        "id": "dDCT84QNrOr4"
      }
    },
    {
      "cell_type": "code",
      "source": [
        "def name(fname, mname = \"Jhon\", lname=\"Whatson\"):\n",
        "  print(\"Hello\", fname, mname, lname)\n",
        "\n",
        "name(\"Amy\")"
      ],
      "metadata": {
        "colab": {
          "base_uri": "https://localhost:8080/"
        },
        "id": "CFEmmIBrsPly",
        "outputId": "f6a60d5f-d25c-40c6-8a51-9abeaa69b2c0"
      },
      "execution_count": 3,
      "outputs": [
        {
          "output_type": "stream",
          "name": "stdout",
          "text": [
            "Hello Amy Jhon Whatson\n"
          ]
        }
      ]
    },
    {
      "cell_type": "markdown",
      "source": [
        "\n",
        "Keyword arguments:\n",
        "\n",
        "we can provide arguments with key = value, this way the interpreter recognizes the arguments by the parameter name. Hence, the order which the arguments are passed does not matter."
      ],
      "metadata": {
        "id": "Rq9XgfgNsR9v"
      }
    },
    {
      "cell_type": "code",
      "source": [
        "def name(fname, mname, lname):\n",
        "  print(\"Hello\", fname, mname, lname)\n",
        "\n",
        "name(mname = \"Peter\", lname=\"Wesker\", fname=\"jade\")"
      ],
      "metadata": {
        "colab": {
          "base_uri": "https://localhost:8080/"
        },
        "id": "UIQbWzMosZDX",
        "outputId": "b3f185f7-8487-4042-d51a-91023b5d9a09"
      },
      "execution_count": 4,
      "outputs": [
        {
          "output_type": "stream",
          "name": "stdout",
          "text": [
            "Hello jade Peter Wesker\n"
          ]
        }
      ]
    },
    {
      "cell_type": "markdown",
      "source": [
        "**Required arguments:**\n",
        "\n",
        "In case we don't pass the arguments with a key = value syntax, then it is necessary to pass the arguments in the correct positional order and the number of arguments passed should match with actual function definition.\n",
        "\n",
        "\n",
        "Example 1. When number of arguments passed does not match to the actual function definition."
      ],
      "metadata": {
        "id": "pmLs3eBRtJCh"
      }
    },
    {
      "cell_type": "code",
      "source": [
        "def name (fname, mname, lname):\n",
        "  print(\"Hello,\", fname, mname, lname)\n",
        "\n",
        "name(\"Peter\", \"Quill\")"
      ],
      "metadata": {
        "colab": {
          "base_uri": "https://localhost:8080/",
          "height": 200
        },
        "id": "ljuiMbBWt7gq",
        "outputId": "acfd2bad-40ad-4c3f-e275-72f93277e44f"
      },
      "execution_count": 7,
      "outputs": [
        {
          "output_type": "error",
          "ename": "TypeError",
          "evalue": "ignored",
          "traceback": [
            "\u001b[0;31m---------------------------------------------------------------------------\u001b[0m",
            "\u001b[0;31mTypeError\u001b[0m                                 Traceback (most recent call last)",
            "\u001b[0;32m<ipython-input-7-8b9592e6969a>\u001b[0m in \u001b[0;36m<cell line: 4>\u001b[0;34m()\u001b[0m\n\u001b[1;32m      2\u001b[0m   \u001b[0mprint\u001b[0m\u001b[0;34m(\u001b[0m\u001b[0;34m\"Hello,\"\u001b[0m\u001b[0;34m,\u001b[0m \u001b[0mfname\u001b[0m\u001b[0;34m,\u001b[0m \u001b[0mmname\u001b[0m\u001b[0;34m,\u001b[0m \u001b[0mlname\u001b[0m\u001b[0;34m)\u001b[0m\u001b[0;34m\u001b[0m\u001b[0;34m\u001b[0m\u001b[0m\n\u001b[1;32m      3\u001b[0m \u001b[0;34m\u001b[0m\u001b[0m\n\u001b[0;32m----> 4\u001b[0;31m \u001b[0mname\u001b[0m\u001b[0;34m(\u001b[0m\u001b[0;34m\"Peter\"\u001b[0m\u001b[0;34m,\u001b[0m \u001b[0;34m\"Quill\"\u001b[0m\u001b[0;34m)\u001b[0m\u001b[0;34m\u001b[0m\u001b[0;34m\u001b[0m\u001b[0m\n\u001b[0m",
            "\u001b[0;31mTypeError\u001b[0m: name() missing 1 required positional argument: 'lname'"
          ]
        }
      ]
    },
    {
      "cell_type": "markdown",
      "source": [
        "Example 2. when number of arguments passed matches to the actual function definition"
      ],
      "metadata": {
        "id": "gZYTu5ZluJ2e"
      }
    },
    {
      "cell_type": "code",
      "source": [
        "def name (fname, mname, lname):\n",
        "  print(\"Hello,\", fname, mname, lname)\n",
        "\n",
        "name(\"Peter\", \"Quill\", \"Ego\")"
      ],
      "metadata": {
        "colab": {
          "base_uri": "https://localhost:8080/"
        },
        "id": "Gi67AMRhudbN",
        "outputId": "4d10a5fc-b329-4059-a344-9195c860c1e8"
      },
      "execution_count": 8,
      "outputs": [
        {
          "output_type": "stream",
          "name": "stdout",
          "text": [
            "Hello, Peter Quill Ego\n"
          ]
        }
      ]
    },
    {
      "cell_type": "markdown",
      "source": [
        "**Variable length arguments:**\n",
        "\n",
        "Sometimes we may need to pass more arguments than those defined in the actual function. This can be done using variable length arguments.\n",
        "\n",
        "There are two ways to achive this:\n",
        "\n",
        "**Arbitrary Arguments:**\n",
        "\n",
        "While creating a function, pass a * before the parameter name while defining the function. The function accesses the arguments by processing them in the  form of tuple."
      ],
      "metadata": {
        "id": "n9Xn1RbTujqo"
      }
    },
    {
      "cell_type": "code",
      "source": [
        "def name(*name):\n",
        "  print(\"Hello , \", name[0], name[1], name[2])\n",
        "\n",
        "\n",
        "name(\"James\", \"Buchanan\", \"Barnes\")"
      ],
      "metadata": {
        "colab": {
          "base_uri": "https://localhost:8080/"
        },
        "id": "tKWB0zQJvW32",
        "outputId": "7d6453ba-36b3-4eb8-f8ba-05a2cd9f5420"
      },
      "execution_count": 10,
      "outputs": [
        {
          "output_type": "stream",
          "name": "stdout",
          "text": [
            "Hello ,  James Buchanan Barnes\n"
          ]
        }
      ]
    },
    {
      "cell_type": "markdown",
      "source": [
        "**Keyword Arbitrary Arguments:**\n",
        "\n",
        "While creating a function, pass a*before the parameter name while defining the function. The function accesses the arguments by processing them in the form of dictionary."
      ],
      "metadata": {
        "id": "byQlbal9vlrE"
      }
    },
    {
      "cell_type": "code",
      "source": [
        "def name(**name):\n",
        "  print(\"Hello, \", name[\"fname\"], name[\"mname\"], name[\"lname\"])\n",
        "\n",
        "\n",
        "name(mname = \"Buchanan\", lname=\"Barnes\", fname=\"James\")"
      ],
      "metadata": {
        "colab": {
          "base_uri": "https://localhost:8080/"
        },
        "id": "6ZDAGdxewDxw",
        "outputId": "095092ad-5a50-4d8e-cb37-676ad1d51e58"
      },
      "execution_count": 11,
      "outputs": [
        {
          "output_type": "stream",
          "name": "stdout",
          "text": [
            "Hello,  James Buchanan Barnes\n"
          ]
        }
      ]
    },
    {
      "cell_type": "markdown",
      "source": [
        "**return Statements**\n",
        "\n",
        "The return statement is used to return the value of the expression back to the calling function."
      ],
      "metadata": {
        "id": "vfVSNpJewgXb"
      }
    },
    {
      "cell_type": "code",
      "source": [
        "def name(fname, mname, lname):\n",
        "    return \"Hello, \" + fname + \" \" + mname + \" \" + lname\n",
        "print(name(\"James\", \"Buchanan\", \"Barnes\"))"
      ],
      "metadata": {
        "colab": {
          "base_uri": "https://localhost:8080/"
        },
        "id": "T0ggZTthw5Rt",
        "outputId": "fa971f9e-2cc6-4399-aecb-8081e092d085"
      },
      "execution_count": 14,
      "outputs": [
        {
          "output_type": "stream",
          "name": "stdout",
          "text": [
            "Hello, James Buchanan Barnes\n"
          ]
        }
      ]
    },
    {
      "cell_type": "code",
      "source": [],
      "metadata": {
        "id": "jTMt3xJaxfse"
      },
      "execution_count": null,
      "outputs": []
    }
  ]
}