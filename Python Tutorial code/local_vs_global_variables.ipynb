{
  "nbformat": 4,
  "nbformat_minor": 0,
  "metadata": {
    "colab": {
      "provenance": []
    },
    "kernelspec": {
      "name": "python3",
      "display_name": "Python 3"
    },
    "language_info": {
      "name": "python"
    }
  },
  "cells": [
    {
      "cell_type": "markdown",
      "source": [
        "# Local and global variable"
      ],
      "metadata": {
        "id": "fmaXhprd1Y7C"
      }
    },
    {
      "cell_type": "markdown",
      "source": [
        "Before we dive into difference between local and global variables, lets first recall what is a variable in python.\n",
        "\n",
        "A variable is a named location in memory that store a value. In Python we can assign values to variables using the assignement operator =. For example"
      ],
      "metadata": {
        "id": "CVcvx5Gk1xuN"
      }
    },
    {
      "cell_type": "code",
      "source": [
        "x = 5\n",
        "a = \"Hello, World!\""
      ],
      "metadata": {
        "id": "Vhn-_yMI2Ryg"
      },
      "execution_count": 6,
      "outputs": []
    },
    {
      "cell_type": "markdown",
      "source": [
        "Now, lets talk about local and global variables.\n",
        "\n",
        "A local variable is a variable that is defined within a function and is only accessible within that function. It is created when the function is called and is destroyed when  the  function returns. \n",
        "\n",
        "On the other hand, a global variable is a variable that is defined outside of a function and is accessible from within any function in your code."
      ],
      "metadata": {
        "id": "O_tzmhOf2W2i"
      }
    },
    {
      "cell_type": "code",
      "source": [
        "x = 10 # global variable\n",
        "\n",
        "def my_function():\n",
        "  y = 5 # local variable\n",
        "\n",
        "  print(y)\n",
        "\n",
        "my_function()\n",
        "print(x)\n",
        "print(y)"
      ],
      "metadata": {
        "colab": {
          "base_uri": "https://localhost:8080/"
        },
        "id": "KGJRioRT3LAr",
        "outputId": "c6f25cc6-d6c4-40fe-e0c0-26751b6925d4"
      },
      "execution_count": 7,
      "outputs": [
        {
          "output_type": "stream",
          "name": "stdout",
          "text": [
            "5\n",
            "10\n",
            "Hello, World!\n"
          ]
        }
      ]
    },
    {
      "cell_type": "markdown",
      "source": [
        "# **The global keyword**\n",
        "\n",
        "Now , what if we want to modify a global variable from within a function? This is where the global keyword come In\n",
        "\n",
        "The global keyword is used to declare that a variable is a global variable and should be accessed from the global scope. "
      ],
      "metadata": {
        "id": "BHNE-EBk3gd2"
      }
    },
    {
      "cell_type": "code",
      "source": [
        "x = 10\n",
        "\n",
        "def my_function():\n",
        "  global x\n",
        "  x = 5\n",
        "  y = 5\n",
        "\n",
        "my_function()\n",
        "print(x)\n",
        "print(y)"
      ],
      "metadata": {
        "colab": {
          "base_uri": "https://localhost:8080/"
        },
        "id": "wMXgNGJF4PfL",
        "outputId": "88ced8c7-9a76-419b-b3c9-0edf96d6a453"
      },
      "execution_count": 8,
      "outputs": [
        {
          "output_type": "stream",
          "name": "stdout",
          "text": [
            "5\n",
            "Hello, World!\n"
          ]
        }
      ]
    },
    {
      "cell_type": "code",
      "source": [],
      "metadata": {
        "id": "LJAkjhSB4dPh"
      },
      "execution_count": null,
      "outputs": []
    }
  ]
}