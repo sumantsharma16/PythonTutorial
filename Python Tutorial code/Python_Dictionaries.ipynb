{
  "nbformat": 4,
  "nbformat_minor": 0,
  "metadata": {
    "colab": {
      "provenance": []
    },
    "kernelspec": {
      "name": "python3",
      "display_name": "Python 3"
    },
    "language_info": {
      "name": "python"
    }
  },
  "cells": [
    {
      "cell_type": "markdown",
      "source": [
        "# Python Dictionary\n",
        "\n",
        "Dictionary are ordered collection of data items. They store multiple items in a single variable. Dictionary items are key-value pairs that are separated by commas and enclosed with in curly bracket{}."
      ],
      "metadata": {
        "id": "9JPKq6Rmmuvu"
      }
    },
    {
      "cell_type": "code",
      "source": [
        "info = {'name':'Karan', \"age\":29, 'eligibilty':True}\n",
        "print(info)"
      ],
      "metadata": {
        "colab": {
          "base_uri": "https://localhost:8080/"
        },
        "id": "S5K-2UDznSbV",
        "outputId": "6e7fe203-013e-4493-d373-1ceddcac5ac6"
      },
      "execution_count": 1,
      "outputs": [
        {
          "output_type": "stream",
          "name": "stdout",
          "text": [
            "{'name': 'Karan', 'age': 29, 'eligibilty': True}\n"
          ]
        }
      ]
    },
    {
      "cell_type": "markdown",
      "source": [
        "**Accessing Dictionary items:**\n",
        "\n",
        "\n",
        "**I. Accessing single values:**\n",
        "\n",
        "Values in a dictionary can be accessed using keys. We can access dicitonary values by mentioning keys either in square brackers or by using get method."
      ],
      "metadata": {
        "id": "fwjCnW-Nnfpk"
      }
    },
    {
      "cell_type": "code",
      "source": [
        "info = {'name':'Karan', \"age\":29, 'eligibilty':True}\n",
        "print(info.get('name'))\n",
        "print(info['age'])"
      ],
      "metadata": {
        "colab": {
          "base_uri": "https://localhost:8080/"
        },
        "id": "WpuRKdeSoGmE",
        "outputId": "1f1b5b1f-97e5-453f-fc32-a4f2067b735f"
      },
      "execution_count": 3,
      "outputs": [
        {
          "output_type": "stream",
          "name": "stdout",
          "text": [
            "Karan\n",
            "29\n"
          ]
        }
      ]
    },
    {
      "cell_type": "markdown",
      "source": [
        "**II. Accessing multiple values:**\n",
        "\n",
        "We can print all the values in the dictionary using values() method."
      ],
      "metadata": {
        "id": "7OuhQ_HYoNIR"
      }
    },
    {
      "cell_type": "code",
      "source": [
        "info = {'name':'Karan', \"age\":29, 'eligibilty':True}\n",
        "print(info.values())"
      ],
      "metadata": {
        "colab": {
          "base_uri": "https://localhost:8080/"
        },
        "id": "R67CSsIpomGq",
        "outputId": "67890b52-748b-49bb-ce55-9532ca28a1f6"
      },
      "execution_count": 5,
      "outputs": [
        {
          "output_type": "stream",
          "name": "stdout",
          "text": [
            "dict_values(['Karan', 29, True])\n"
          ]
        }
      ]
    },
    {
      "cell_type": "markdown",
      "source": [
        "***III. Accessing keys:**\n",
        "\n",
        "We can print all the keys in the dictionary using key() method."
      ],
      "metadata": {
        "id": "ntgxHYjyooQh"
      }
    },
    {
      "cell_type": "code",
      "source": [
        "info = {'name':'Karan', \"age\":29, 'eligibilty':True}\n",
        "print(info.keys())"
      ],
      "metadata": {
        "colab": {
          "base_uri": "https://localhost:8080/"
        },
        "id": "dQXc3dXPo2Au",
        "outputId": "1b557429-c684-4f8e-fa60-0db11212055a"
      },
      "execution_count": 6,
      "outputs": [
        {
          "output_type": "stream",
          "name": "stdout",
          "text": [
            "dict_keys(['name', 'age', 'eligibilty'])\n"
          ]
        }
      ]
    },
    {
      "cell_type": "markdown",
      "source": [
        "**IV. Accessing key value pairs:**\n",
        "\n",
        "We can print all the key-value pairs in the dictionary using items() method."
      ],
      "metadata": {
        "id": "p_yMkU6Oo403"
      }
    },
    {
      "cell_type": "code",
      "source": [
        "info = {'name':'Karan', \"age\":29, 'eligibilty':True}\n",
        "print(info.items())"
      ],
      "metadata": {
        "colab": {
          "base_uri": "https://localhost:8080/"
        },
        "id": "FUphFYVtpJAH",
        "outputId": "d48891e7-65be-4c53-9184-eb8b1933800c"
      },
      "execution_count": 7,
      "outputs": [
        {
          "output_type": "stream",
          "name": "stdout",
          "text": [
            "dict_items([('name', 'Karan'), ('age', 29), ('eligibilty', True)])\n"
          ]
        }
      ]
    },
    {
      "cell_type": "code",
      "source": [],
      "metadata": {
        "id": "SQ4HJqkxpLWJ"
      },
      "execution_count": null,
      "outputs": []
    }
  ]
}