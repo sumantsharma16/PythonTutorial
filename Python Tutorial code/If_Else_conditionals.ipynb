{
  "nbformat": 4,
  "nbformat_minor": 0,
  "metadata": {
    "colab": {
      "provenance": []
    },
    "kernelspec": {
      "name": "python3",
      "display_name": "Python 3"
    },
    "language_info": {
      "name": "python"
    }
  },
  "cells": [
    {
      "cell_type": "markdown",
      "source": [
        "# if-else Statements"
      ],
      "metadata": {
        "id": "7mYnl1X7dnrl"
      }
    },
    {
      "cell_type": "markdown",
      "source": [
        "Sometimes the programmer needs to check the evaluation of certain expression(s), whether the expression(s) evaluate to True or False. If the expression evaluates to False, then the program exection follows a different path than it would have if the expression had evaluated to True.\n",
        "\n",
        "Based on this, the conditional statements are further classified into following types:\n",
        "\n",
        ". if\n",
        "\n",
        ". if-else\n",
        "\n",
        ". if-else-elif\n",
        "\n",
        ". nested if-else-elif\n",
        "\n",
        "\n",
        "\n",
        "An if.......else statement evaluates like this:\n",
        "\n",
        "**if the expression evaluates True:**\n",
        "\n",
        "Execute the block of code inside if statement. After execution return to the code out of the if ....else block.\n",
        "\n",
        "**if the expression evalates False:**\n",
        "\n",
        "Execute the block of code inside else statement. After executation return to the code out of the if.....else block.\n"
      ],
      "metadata": {
        "id": "Q_0mqT4dd-C_"
      }
    },
    {
      "cell_type": "code",
      "source": [
        "applePrice = 210\n",
        "\n",
        "budget = 211\n",
        "\n",
        "\n",
        "if (applePrice <= budget):\n",
        "  print(\"Alexa, add 1 kg Apples to the cart\")\n",
        "\n",
        "else:\n",
        "  print(\"Alexa, do not add Apple to the cart\")"
      ],
      "metadata": {
        "colab": {
          "base_uri": "https://localhost:8080/"
        },
        "id": "N1pjazQff2Lu",
        "outputId": "d2b02ec8-abb2-438d-f08a-021f50dae317"
      },
      "execution_count": 2,
      "outputs": [
        {
          "output_type": "stream",
          "name": "stdout",
          "text": [
            "Alexa, add 1 kg Apples to the cart\n"
          ]
        }
      ]
    },
    {
      "cell_type": "markdown",
      "source": [
        "# elif Statements"
      ],
      "metadata": {
        "id": "wP2Ir3G5gNhK"
      }
    },
    {
      "cell_type": "markdown",
      "source": [
        "Some times, the programmer may want to evaluate more than one condition, this can be done using an elif statement.\n",
        "\n",
        "**Working of an elif statement**\n",
        "\n",
        "Execute the block of code inside if statement if the initial expression evaluatae to True. After executation return to the code out of the if block.\n",
        "\n",
        "\n",
        "Execute the block of code inside the second elif statement if the expression inside it evaluate True. After executaion return to the code out of the if block.\n",
        "\n",
        "\n",
        "\n",
        "Execute the block of code inside the nth elif statement if the expression inside it evaluates True. After executation return to the code out of the if block.\n",
        "\n",
        "\n",
        "Execute the block of code inside else statement if none of the expression evaluates to Ture. After executaion return to the code of the if block"
      ],
      "metadata": {
        "id": "2ZfuI9Klgdg6"
      }
    },
    {
      "cell_type": "code",
      "source": [
        "num = 0\n",
        "if (num < 0):\n",
        "  print(\"Number is negative.\")\n",
        "elif (num == 0):\n",
        "  print(\"Number is Zero\")\n",
        "else:\n",
        "  print(\"Number is positive\")"
      ],
      "metadata": {
        "colab": {
          "base_uri": "https://localhost:8080/"
        },
        "id": "fwFFXPDDh-MK",
        "outputId": "12d1c008-8b8a-4c61-8d26-0315276c0c25"
      },
      "execution_count": 5,
      "outputs": [
        {
          "output_type": "stream",
          "name": "stdout",
          "text": [
            "Number is Zero\n"
          ]
        }
      ]
    },
    {
      "cell_type": "markdown",
      "source": [
        "# Nested if statements"
      ],
      "metadata": {
        "id": "hTlmmpG1iNgw"
      }
    },
    {
      "cell_type": "markdown",
      "source": [
        "We can use if , if-else, elif statements inside other if statements as well"
      ],
      "metadata": {
        "id": "WzOdTgc1ie99"
      }
    },
    {
      "cell_type": "code",
      "source": [
        "num = 0.5\n",
        "if (num < 0):\n",
        "  print(\"Number is negative\")\n",
        "\n",
        "elif (num> 0):\n",
        "  if (num <=10):\n",
        "    print('Number is between 1-10')\n",
        "  elif (num>10 and num <=20):\n",
        "    print(\"Number is between 11-20\")\n",
        "\n",
        "  else:\n",
        "    print(\"Number is greater than 20\")\n",
        "\n",
        "else:\n",
        "  print(\"Number is zero\")"
      ],
      "metadata": {
        "colab": {
          "base_uri": "https://localhost:8080/"
        },
        "id": "V0kTR8mYio-q",
        "outputId": "e90ad008-6817-4e18-9cf1-bb93e45b1b95"
      },
      "execution_count": 9,
      "outputs": [
        {
          "output_type": "stream",
          "name": "stdout",
          "text": [
            "Number is between 1-10\n"
          ]
        }
      ]
    },
    {
      "cell_type": "code",
      "source": [],
      "metadata": {
        "id": "AVBsNx_1jSP4"
      },
      "execution_count": null,
      "outputs": []
    }
  ]
}