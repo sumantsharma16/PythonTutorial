{
  "nbformat": 4,
  "nbformat_minor": 0,
  "metadata": {
    "colab": {
      "provenance": []
    },
    "kernelspec": {
      "name": "python3",
      "display_name": "Python 3"
    },
    "language_info": {
      "name": "python"
    }
  },
  "cells": [
    {
      "cell_type": "markdown",
      "source": [
        "# ***Intro to oops i.e Object oriented programming***\n",
        "\n",
        "\n",
        "In programming language mainly there are two approches that are used to write program or code.\n",
        "\n",
        ". 1) Procedural Programming\n",
        "\n",
        ". 2) Object Oriented Programming\n",
        "\n",
        "\n",
        "The procedure we are following till now is the procedural programming approch. So in this we will learn the oop. The basic idea of oop in python is to use classes and objects to represent real world concepts and entities.\n",
        "\n",
        "A class is a blue print or template for creating objects. It defines the properties and methods that an object of that class will have. Properties are the data or state of an object, and methods are the actions or behaviors that an object can perform.\n",
        "\n",
        "An object is an instance of a class, and it contains its own data and methods. For example, you could create a class called 'Person' that has properties such as name and age , and methods such as speak() and walk(). Each instance of the person class would be a unique object with its name and age, but they would all have the same methods to speak and walk.\n",
        "\n",
        "\n",
        "One of the key feature of oop in python is encapulation, which means that the internal state of an object is hidden and can only be accessed or modified through the object's methods. This helps to protect the objects data and prevent it from being modified in unexpected ways.\n",
        "\n",
        "Another key feature of OOP in Python is inheritance, which allows new classes to be created that inherit the properties and methods of an existing class. This allows for code reuse and makes it easy to create new classes that have similar functionality to existing classes.\n",
        "\n",
        "Polymorphism is also supported in Python, which means that objects of different classes can be treated as if they were objects of a common class. This allows for greater flexibility in code and makes it easier to write code that can work with multiple types of objects.\n",
        "\n",
        "In summary, OOP in Python allows developers to model real-world concepts and entities using classes and objects, encapsulate data, reuse code through inheritance, and write more flexible code through polymorphism.\n"
      ],
      "metadata": {
        "id": "BgB-BqAPBZtR"
      }
    },
    {
      "cell_type": "code",
      "source": [],
      "metadata": {
        "id": "R0lxqCYRFIV7"
      },
      "execution_count": null,
      "outputs": []
    }
  ]
}