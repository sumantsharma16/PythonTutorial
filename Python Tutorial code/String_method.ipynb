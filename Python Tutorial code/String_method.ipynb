{
  "nbformat": 4,
  "nbformat_minor": 0,
  "metadata": {
    "colab": {
      "provenance": []
    },
    "kernelspec": {
      "name": "python3",
      "display_name": "Python 3"
    },
    "language_info": {
      "name": "python"
    }
  },
  "cells": [
    {
      "cell_type": "markdown",
      "source": [
        "# String methods"
      ],
      "metadata": {
        "id": "5NartcmlQbu0"
      }
    },
    {
      "cell_type": "markdown",
      "source": [
        "\n",
        "\n",
        "<!-- String method -->\n",
        "\n"
      ],
      "metadata": {
        "id": "47AXQDSUQJd4"
      }
    },
    {
      "cell_type": "markdown",
      "source": [
        "Python provides a set of built in methods that we can use to alter and modify the strings.\n",
        "\n",
        "**upper()**\n",
        "\n",
        "The upper() method converts a string to upper case"
      ],
      "metadata": {
        "id": "dUc4QyC0Pq9x"
      }
    },
    {
      "cell_type": "code",
      "source": [
        "str1 = 'ABcedDGdddSD G'\n",
        "print(str1.upper())"
      ],
      "metadata": {
        "colab": {
          "base_uri": "https://localhost:8080/"
        },
        "id": "RTdR4IqDQIJm",
        "outputId": "97c15a1d-e3fc-4fe0-d0a9-dea48896b4e9"
      },
      "execution_count": 1,
      "outputs": [
        {
          "output_type": "stream",
          "name": "stdout",
          "text": [
            "ABCEDDGDDDSD G\n"
          ]
        }
      ]
    },
    {
      "cell_type": "markdown",
      "source": [
        "**lower()**\n",
        "\n",
        "\n",
        "The lower() method converts a string to lower case\n",
        "\n"
      ],
      "metadata": {
        "id": "-eDycBJWQnS0"
      }
    },
    {
      "cell_type": "code",
      "source": [
        "print(str1.lower())"
      ],
      "metadata": {
        "colab": {
          "base_uri": "https://localhost:8080/"
        },
        "id": "69PgDj-wQ9kL",
        "outputId": "358ea365-8bcb-4f3d-b5c6-465fe45867cb"
      },
      "execution_count": 2,
      "outputs": [
        {
          "output_type": "stream",
          "name": "stdout",
          "text": [
            "abceddgdddsd g\n"
          ]
        }
      ]
    },
    {
      "cell_type": "markdown",
      "source": [
        "**strip()**\n",
        "\n",
        "The strip() method removes any white spaces before and after the string"
      ],
      "metadata": {
        "id": "4jaICDteRAaP"
      }
    },
    {
      "cell_type": "code",
      "source": [
        "str2 = \" Silver Spoon \"\n",
        "print(str2.strip)"
      ],
      "metadata": {
        "colab": {
          "base_uri": "https://localhost:8080/"
        },
        "id": "6PdycLxkRQD8",
        "outputId": "8d4882d2-ffc1-4cd2-b2ed-c2fca2eee973"
      },
      "execution_count": 4,
      "outputs": [
        {
          "output_type": "stream",
          "name": "stdout",
          "text": [
            "<built-in method strip of str object at 0x7fd4b2623770>\n"
          ]
        }
      ]
    },
    {
      "cell_type": "markdown",
      "source": [
        "**rstrip()**\n",
        "\n",
        "rstrip() method removes any tailing characters"
      ],
      "metadata": {
        "id": "SJ8tDMmCRWyE"
      }
    },
    {
      "cell_type": "code",
      "source": [
        "str3 = \"Hello !!!\"\n",
        "\n",
        "print(str3.rstrip(\"!\"))"
      ],
      "metadata": {
        "colab": {
          "base_uri": "https://localhost:8080/"
        },
        "id": "urzJKt03RnXW",
        "outputId": "69f49f1c-aeb9-4abe-cefc-9ef73db55b83"
      },
      "execution_count": 5,
      "outputs": [
        {
          "output_type": "stream",
          "name": "stdout",
          "text": [
            "Hello \n"
          ]
        }
      ]
    },
    {
      "cell_type": "markdown",
      "source": [
        "**replace():**\n",
        "\n",
        "The replace() method replaces all occurances of a string with another."
      ],
      "metadata": {
        "id": "lmUQKpW2RvEi"
      }
    },
    {
      "cell_type": "code",
      "source": [
        "str2 = 'Silver Spoon'\n",
        "print(str2.replace('Sp', 'M'))"
      ],
      "metadata": {
        "colab": {
          "base_uri": "https://localhost:8080/"
        },
        "id": "rWohcMaUSHX5",
        "outputId": "2fccf8b1-6961-4821-f852-6daf6d82ee7e"
      },
      "execution_count": 6,
      "outputs": [
        {
          "output_type": "stream",
          "name": "stdout",
          "text": [
            "Silver Moon\n"
          ]
        }
      ]
    },
    {
      "cell_type": "markdown",
      "source": [
        "**split():**\n",
        "\n",
        "The split() method splits the given string at the specified instance and returns the seprated strings as list items."
      ],
      "metadata": {
        "id": "QsCfRXq9SQzN"
      }
    },
    {
      "cell_type": "code",
      "source": [
        "str2 = \"Silver Spoon\"\n",
        "\n",
        "print(str2.split(\" \"))"
      ],
      "metadata": {
        "colab": {
          "base_uri": "https://localhost:8080/"
        },
        "id": "EoBW6gSFSU4S",
        "outputId": "5d664835-ecd0-4381-fc55-d1070ec04456"
      },
      "execution_count": 8,
      "outputs": [
        {
          "output_type": "stream",
          "name": "stdout",
          "text": [
            "['Silver', 'Spoon']\n"
          ]
        }
      ]
    },
    {
      "cell_type": "markdown",
      "source": [
        "**capitalize():**\n",
        "\n",
        "The capitalize() method turns only the first character of the string to uppercase and the rest other characters of the string are turned to lowercase. The string has no effect if the first character is already uppercase.\n",
        "\n"
      ],
      "metadata": {
        "id": "moMqNoz2S8bj"
      }
    },
    {
      "cell_type": "code",
      "source": [
        "str1 = 'hello'\n",
        "capStr1 = str1.capitalize()\n",
        "\n",
        "print(capStr1)\n",
        "str2 = 'hello WorlD'\n",
        "\n",
        "capstr2 = str2.capitalize()\n",
        "print(capstr2)"
      ],
      "metadata": {
        "colab": {
          "base_uri": "https://localhost:8080/"
        },
        "id": "lGc60UClTfXp",
        "outputId": "b718646b-0f76-4cff-8117-6ec7b2551140"
      },
      "execution_count": 10,
      "outputs": [
        {
          "output_type": "stream",
          "name": "stdout",
          "text": [
            "Hello\n",
            "Hello world\n"
          ]
        }
      ]
    },
    {
      "cell_type": "markdown",
      "source": [
        "**center():**\n",
        "\n",
        "The center method align the string to the center as per the parameters given by the user.\n"
      ],
      "metadata": {
        "id": "AfoUbmDvTzfw"
      }
    },
    {
      "cell_type": "code",
      "source": [
        "str1 = \"Welcome to the Console!!!\"\n",
        "print(str1.center(50))"
      ],
      "metadata": {
        "colab": {
          "base_uri": "https://localhost:8080/"
        },
        "id": "LdWVQtz9UJO6",
        "outputId": "b53acd84-22a7-479b-b500-43f5de1568b1"
      },
      "execution_count": 13,
      "outputs": [
        {
          "output_type": "stream",
          "name": "stdout",
          "text": [
            "            Welcome to the Console!!!             \n"
          ]
        }
      ]
    },
    {
      "cell_type": "markdown",
      "source": [
        "It can also provide padding character. It will fill the rest of the fill character provided by the user."
      ],
      "metadata": {
        "id": "miL6GiwqUQRe"
      }
    },
    {
      "cell_type": "code",
      "source": [
        "print(str1.center(50, \".\"))"
      ],
      "metadata": {
        "colab": {
          "base_uri": "https://localhost:8080/"
        },
        "id": "pbSzmuJEUiJu",
        "outputId": "dad56456-3390-4290-ab59-b14c9018957e"
      },
      "execution_count": 14,
      "outputs": [
        {
          "output_type": "stream",
          "name": "stdout",
          "text": [
            "............Welcome to the Console!!!.............\n"
          ]
        }
      ]
    },
    {
      "cell_type": "markdown",
      "source": [
        "**count():**\n",
        "\n",
        "The count() method returns the number of times the given value has occured within the given string.\n"
      ],
      "metadata": {
        "id": "hocDH6ftUnyt"
      }
    },
    {
      "cell_type": "code",
      "source": [
        "str2 = \"Abkfihguigh hfhhfas asasasa\"\n",
        "\n",
        "countstr = str2.count(\"a\")\n",
        "print(countstr)"
      ],
      "metadata": {
        "colab": {
          "base_uri": "https://localhost:8080/"
        },
        "id": "EmJ0nFVjU5hx",
        "outputId": "4ef750fb-0481-4385-db4b-52bd7134e2d3"
      },
      "execution_count": 15,
      "outputs": [
        {
          "output_type": "stream",
          "name": "stdout",
          "text": [
            "5\n"
          ]
        }
      ]
    },
    {
      "cell_type": "markdown",
      "source": [
        "**endswith()**\n",
        "\n",
        "The endwith() method checks if the string ends with a given value. If yes then return Ture, else return False"
      ],
      "metadata": {
        "id": "3w9gS0vmVDPt"
      }
    },
    {
      "cell_type": "code",
      "source": [
        "str1 = \"Welcome to the console!!!\"\n",
        "\n",
        "print(str1.endswith(\"!!\"))"
      ],
      "metadata": {
        "colab": {
          "base_uri": "https://localhost:8080/"
        },
        "id": "chpEuiKeVSw6",
        "outputId": "5e17aa98-95da-4bd9-859e-1945a741edf2"
      },
      "execution_count": 17,
      "outputs": [
        {
          "output_type": "stream",
          "name": "stdout",
          "text": [
            "True\n"
          ]
        }
      ]
    },
    {
      "cell_type": "markdown",
      "source": [
        "We can even also check for a value in between the string by providing start and end index positions"
      ],
      "metadata": {
        "id": "EEszCSA2VcLs"
      }
    },
    {
      "cell_type": "code",
      "source": [
        "str1 = \"Welcome to the console!!!\"\n",
        "print(str1.endswith(\"to\", 4,10))"
      ],
      "metadata": {
        "colab": {
          "base_uri": "https://localhost:8080/"
        },
        "id": "6ZT3O77PVuQR",
        "outputId": "d5a7fe3c-1a57-4f41-a4c4-a8864f7895f9"
      },
      "execution_count": 18,
      "outputs": [
        {
          "output_type": "stream",
          "name": "stdout",
          "text": [
            "True\n"
          ]
        }
      ]
    },
    {
      "cell_type": "markdown",
      "source": [
        "**find()**\n",
        "\n",
        "The find() method search for the first occurace of the given value and return the index where is present. If given value is absent from the string then return -1"
      ],
      "metadata": {
        "id": "c9Rm7jV8V39Q"
      }
    },
    {
      "cell_type": "code",
      "source": [
        "str1 = \"He's name is Dan . He is a honest man\"\n",
        "print(str1.find(\"is\"))"
      ],
      "metadata": {
        "colab": {
          "base_uri": "https://localhost:8080/"
        },
        "id": "KtHz9W_SWWhz",
        "outputId": "17a0dc17-9486-4fe1-895c-8ca012c52dc9"
      },
      "execution_count": 19,
      "outputs": [
        {
          "output_type": "stream",
          "name": "stdout",
          "text": [
            "10\n"
          ]
        }
      ]
    },
    {
      "cell_type": "markdown",
      "source": [
        "As we can see, this method is somewhat similar to the index() method. The major difference being that index() raising an exception if value is absent whereas find() does not."
      ],
      "metadata": {
        "id": "akilOa4xWjbe"
      }
    },
    {
      "cell_type": "code",
      "source": [
        "str1 = \"He's name is Dan . He is a honest man\"\n",
        "\n",
        "print(str1.find(\"Daniel\"))"
      ],
      "metadata": {
        "colab": {
          "base_uri": "https://localhost:8080/"
        },
        "id": "MFS-_BtzW4hu",
        "outputId": "6c7f2749-edec-4f21-de6b-bf7b60e314e6"
      },
      "execution_count": 20,
      "outputs": [
        {
          "output_type": "stream",
          "name": "stdout",
          "text": [
            "-1\n"
          ]
        }
      ]
    },
    {
      "cell_type": "markdown",
      "source": [
        "**index()**:\n",
        "\n",
        "The index() method search for the first occurance of the given value and returns the index where it is present. If given value is absent from the string then raise an exception."
      ],
      "metadata": {
        "id": "VTc1sTYwXCjX"
      }
    },
    {
      "cell_type": "code",
      "source": [
        "print(str1.index(\"Dan\"))"
      ],
      "metadata": {
        "colab": {
          "base_uri": "https://localhost:8080/"
        },
        "id": "JFejOi32XP9Z",
        "outputId": "44e61099-dbff-471e-8573-35404c757978"
      },
      "execution_count": 22,
      "outputs": [
        {
          "output_type": "stream",
          "name": "stdout",
          "text": [
            "13\n"
          ]
        }
      ]
    },
    {
      "cell_type": "markdown",
      "source": [
        "As we can see, this method is some what similar to find() method. The major diference being that index() raises an exception if value is absent whereas find() dosenot."
      ],
      "metadata": {
        "id": "lXZKI4Q3XqG-"
      }
    },
    {
      "cell_type": "code",
      "source": [
        "print(str1.index(\"Daniel\"))"
      ],
      "metadata": {
        "colab": {
          "base_uri": "https://localhost:8080/",
          "height": 165
        },
        "id": "qiKpgXJqYAp0",
        "outputId": "bd58108f-2752-4656-fd7c-6353db7b3509"
      },
      "execution_count": 23,
      "outputs": [
        {
          "output_type": "error",
          "ename": "ValueError",
          "evalue": "ignored",
          "traceback": [
            "\u001b[0;31m---------------------------------------------------------------------------\u001b[0m",
            "\u001b[0;31mValueError\u001b[0m                                Traceback (most recent call last)",
            "\u001b[0;32m<ipython-input-23-15c8adde5d30>\u001b[0m in \u001b[0;36m<cell line: 1>\u001b[0;34m()\u001b[0m\n\u001b[0;32m----> 1\u001b[0;31m \u001b[0mprint\u001b[0m\u001b[0;34m(\u001b[0m\u001b[0mstr1\u001b[0m\u001b[0;34m.\u001b[0m\u001b[0mindex\u001b[0m\u001b[0;34m(\u001b[0m\u001b[0;34m\"Daniel\"\u001b[0m\u001b[0;34m)\u001b[0m\u001b[0;34m)\u001b[0m\u001b[0;34m\u001b[0m\u001b[0;34m\u001b[0m\u001b[0m\n\u001b[0m",
            "\u001b[0;31mValueError\u001b[0m: substring not found"
          ]
        }
      ]
    },
    {
      "cell_type": "markdown",
      "source": [
        "**isalnum():**\n",
        "\n",
        "The isalnum() method return True only if the entire string only consists of A-Z, a-z, 0-9. If any other characters or punctuations are present, then it return False"
      ],
      "metadata": {
        "id": "5sk5_3dFYECN"
      }
    },
    {
      "cell_type": "code",
      "source": [
        "str1 = 'WelcomeToTheConsole'\n",
        "print(str1.isalnum())"
      ],
      "metadata": {
        "colab": {
          "base_uri": "https://localhost:8080/"
        },
        "id": "qkl2dEnyYLr9",
        "outputId": "94c23ab4-c1da-4f69-a85d-3d0baf841db5"
      },
      "execution_count": 25,
      "outputs": [
        {
          "output_type": "stream",
          "name": "stdout",
          "text": [
            "True\n"
          ]
        }
      ]
    },
    {
      "cell_type": "markdown",
      "source": [
        "**isalpha()**\n",
        "\n",
        "The isalnum() method returns True only if the entire string only consists of A-Z, a-z. If any other characters or punctuations or number(0-9) are present, then it return False."
      ],
      "metadata": {
        "id": "DZ9IUrwVYlYo"
      }
    },
    {
      "cell_type": "code",
      "source": [
        "str1 = \"Welcome\"\n",
        "print(str1.isalpha())"
      ],
      "metadata": {
        "colab": {
          "base_uri": "https://localhost:8080/"
        },
        "id": "UFavkRVtZBAC",
        "outputId": "515e3eca-da1e-43e6-be09-4503131d20aa"
      },
      "execution_count": 26,
      "outputs": [
        {
          "output_type": "stream",
          "name": "stdout",
          "text": [
            "True\n"
          ]
        }
      ]
    },
    {
      "cell_type": "markdown",
      "source": [
        "**islower()**\n",
        "\n",
        "The islower() method returns True if all the characters in the string are lower , else it return False"
      ],
      "metadata": {
        "id": "YtF4iFh1ZGrV"
      }
    },
    {
      "cell_type": "code",
      "source": [
        "str1 = \"hello world\"\n",
        "print(str1.islower())"
      ],
      "metadata": {
        "colab": {
          "base_uri": "https://localhost:8080/"
        },
        "id": "41wNQCFPZXfc",
        "outputId": "80f6ecb2-cbde-42f8-9a9b-4630758930a0"
      },
      "execution_count": 27,
      "outputs": [
        {
          "output_type": "stream",
          "name": "stdout",
          "text": [
            "True\n"
          ]
        }
      ]
    },
    {
      "cell_type": "markdown",
      "source": [
        "**isprintable()**\n",
        "\n",
        "\n",
        "The isprintable() method return True if all values within the given string are printable if not then return False"
      ],
      "metadata": {
        "id": "hywoKlwfZcYs"
      }
    },
    {
      "cell_type": "code",
      "source": [
        "str1 = 'We wish you a merry christmass'\n",
        "print(str1.isprintable())"
      ],
      "metadata": {
        "colab": {
          "base_uri": "https://localhost:8080/"
        },
        "id": "ifVg87V4ZyWE",
        "outputId": "29e0a5fb-24ce-4e20-e738-33db613ea720"
      },
      "execution_count": 28,
      "outputs": [
        {
          "output_type": "stream",
          "name": "stdout",
          "text": [
            "True\n"
          ]
        }
      ]
    },
    {
      "cell_type": "markdown",
      "source": [
        "**isspace()**\n",
        "\n",
        "The isspace() method returns True only and only if the string contains white spaces, else return False"
      ],
      "metadata": {
        "id": "ce219eBlZ6vY"
      }
    },
    {
      "cell_type": "code",
      "source": [
        "str1 = \"        \" # using spacebar\n",
        "\n",
        "str2 = \"        \"# using Tab\n",
        "\n",
        "print(str1.isspace())\n",
        "print(str2.isspace())"
      ],
      "metadata": {
        "colab": {
          "base_uri": "https://localhost:8080/"
        },
        "id": "NErqEpS8aMrf",
        "outputId": "d31e92ac-c434-4358-dbba-6cc19d77ff84"
      },
      "execution_count": 29,
      "outputs": [
        {
          "output_type": "stream",
          "name": "stdout",
          "text": [
            "True\n",
            "True\n"
          ]
        }
      ]
    },
    {
      "cell_type": "markdown",
      "source": [
        "**istitle()**\n",
        "\n",
        "The istitle() return True only if the first letter of each word of the string is capitalized else it return False."
      ],
      "metadata": {
        "id": "FRUbfx6Bamfr"
      }
    },
    {
      "cell_type": "code",
      "source": [
        "str1 = \"World Health Organization\"\n",
        "print(str1.istitle())"
      ],
      "metadata": {
        "colab": {
          "base_uri": "https://localhost:8080/"
        },
        "id": "kA1jWaKhbC8D",
        "outputId": "e9f1490e-03df-44f9-bbd8-6aa0627e2ea5"
      },
      "execution_count": 33,
      "outputs": [
        {
          "output_type": "stream",
          "name": "stdout",
          "text": [
            "True\n"
          ]
        }
      ]
    },
    {
      "cell_type": "markdown",
      "source": [
        "**isupper()**\n",
        "\n",
        "The isupper() method returns True if all the characters in the string are upper case, else it return False."
      ],
      "metadata": {
        "id": "geUNujP8bMx4"
      }
    },
    {
      "cell_type": "code",
      "source": [
        "str1 = \"WORLD HEALTH ORGANIZATION\"\n",
        "print(str1.isupper())"
      ],
      "metadata": {
        "colab": {
          "base_uri": "https://localhost:8080/"
        },
        "id": "wiSfCTxubkYc",
        "outputId": "93858f90-6877-46f2-d6c7-96175beedf29"
      },
      "execution_count": 34,
      "outputs": [
        {
          "output_type": "stream",
          "name": "stdout",
          "text": [
            "True\n"
          ]
        }
      ]
    },
    {
      "cell_type": "markdown",
      "source": [
        "**startswith()**\n",
        "\n",
        "The startswith() method checks if the string starts with a given value. If yes then return True, else return False."
      ],
      "metadata": {
        "id": "Rvd-4iftbsIU"
      }
    },
    {
      "cell_type": "code",
      "source": [
        "str1 = \"Python is a Interpreted Language\"\n",
        "print(str1.startswith(\"Python\"))"
      ],
      "metadata": {
        "colab": {
          "base_uri": "https://localhost:8080/"
        },
        "id": "0AZDOXkqcEdI",
        "outputId": "556b9674-b707-4d6a-8fbf-c934271262b5"
      },
      "execution_count": 35,
      "outputs": [
        {
          "output_type": "stream",
          "name": "stdout",
          "text": [
            "True\n"
          ]
        }
      ]
    },
    {
      "cell_type": "markdown",
      "source": [
        "**swapcase():**\n",
        "\n",
        "The swapcase() method changes the character casing of the string. Upper case are converted to lower case and lower case to upper case."
      ],
      "metadata": {
        "id": "uIS1_q5McPN9"
      }
    },
    {
      "cell_type": "code",
      "source": [
        "str1 = \"Python is a Interpreted Language\"\n",
        "print(str1.swapcase())"
      ],
      "metadata": {
        "colab": {
          "base_uri": "https://localhost:8080/"
        },
        "id": "3ow6XbORcoOZ",
        "outputId": "243148ef-f068-4d34-bb6b-c4300a50e1c7"
      },
      "execution_count": 37,
      "outputs": [
        {
          "output_type": "stream",
          "name": "stdout",
          "text": [
            "pYTHON IS A iNTERPRETED lANGUAGE\n"
          ]
        }
      ]
    },
    {
      "cell_type": "markdown",
      "source": [
        "**title()**\n",
        "\n",
        "The title() method capitalized each letter of the word within the string"
      ],
      "metadata": {
        "id": "KwQxFjUHczZh"
      }
    },
    {
      "cell_type": "code",
      "source": [
        "str1 = \"He's name is Dan. Dan is an honest man\"\n",
        "print(str1.title())"
      ],
      "metadata": {
        "colab": {
          "base_uri": "https://localhost:8080/"
        },
        "id": "n7LDWsj3dCL6",
        "outputId": "0c3b215b-8431-412c-9479-7e81b673b6a9"
      },
      "execution_count": 38,
      "outputs": [
        {
          "output_type": "stream",
          "name": "stdout",
          "text": [
            "He'S Name Is Dan. Dan Is An Honest Man\n"
          ]
        }
      ]
    },
    {
      "cell_type": "code",
      "source": [],
      "metadata": {
        "id": "78S0cj70dK5T"
      },
      "execution_count": null,
      "outputs": []
    }
  ]
}