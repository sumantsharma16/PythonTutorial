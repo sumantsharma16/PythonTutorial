{
  "nbformat": 4,
  "nbformat_minor": 0,
  "metadata": {
    "colab": {
      "provenance": []
    },
    "kernelspec": {
      "name": "python3",
      "display_name": "Python 3"
    },
    "language_info": {
      "name": "python"
    }
  },
  "cells": [
    {
      "cell_type": "markdown",
      "source": [
        "# Python Sets"
      ],
      "metadata": {
        "id": "lIDo7SNrZrSk"
      }
    },
    {
      "cell_type": "markdown",
      "source": [
        "Sets are unordered collection of data items. They store multiple items in a single variable. Set items are separated by commas and enclosed within curly bracket {}. Sets are unchangeable, meaning you cannot change items of the set once created. Sets do not contain duplicate items."
      ],
      "metadata": {
        "id": "8TK3uRMPaOb5"
      }
    },
    {
      "cell_type": "code",
      "source": [
        "info = {\"Cala\", 19, False, 5.9, 19}\n",
        "print(info)"
      ],
      "metadata": {
        "colab": {
          "base_uri": "https://localhost:8080/"
        },
        "id": "IhYpCDsLarkg",
        "outputId": "94c02724-c89f-44c6-abcf-cc0e447d3fa0"
      },
      "execution_count": 1,
      "outputs": [
        {
          "output_type": "stream",
          "name": "stdout",
          "text": [
            "{False, 'Cala', 19, 5.9}\n"
          ]
        }
      ]
    },
    {
      "cell_type": "markdown",
      "source": [
        "Here we see that the items of set occur in random order and hence they cannot be accessed using index numbers. Also sets do not allow duplicate values."
      ],
      "metadata": {
        "id": "khJI9M1day-S"
      }
    },
    {
      "cell_type": "markdown",
      "source": [
        "# Accessing set items:"
      ],
      "metadata": {
        "id": "CtAOv_72bGSp"
      }
    },
    {
      "cell_type": "markdown",
      "source": [
        "Using a For loop"
      ],
      "metadata": {
        "id": "Kzl0HhaTbKE5"
      }
    },
    {
      "cell_type": "markdown",
      "source": [
        "You can access items of set using for mloop."
      ],
      "metadata": {
        "id": "DDOcRfuSbO6Y"
      }
    },
    {
      "cell_type": "code",
      "source": [
        "info = { \"Carla\", 19, False, 5.9, 34}\n",
        "for item in info:\n",
        "  print(item)"
      ],
      "metadata": {
        "colab": {
          "base_uri": "https://localhost:8080/"
        },
        "id": "RX5ptutabVD5",
        "outputId": "e8b47865-202a-46e5-a64a-3ab03b276f0b"
      },
      "execution_count": 3,
      "outputs": [
        {
          "output_type": "stream",
          "name": "stdout",
          "text": [
            "False\n",
            "34\n",
            "19\n",
            "5.9\n",
            "Carla\n"
          ]
        }
      ]
    },
    {
      "cell_type": "code",
      "source": [],
      "metadata": {
        "id": "Juh3vt3dbeKY"
      },
      "execution_count": null,
      "outputs": []
    }
  ]
}