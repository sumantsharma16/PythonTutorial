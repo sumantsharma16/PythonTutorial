{
  "nbformat": 4,
  "nbformat_minor": 0,
  "metadata": {
    "colab": {
      "provenance": []
    },
    "kernelspec": {
      "name": "python3",
      "display_name": "Python 3"
    },
    "language_info": {
      "name": "python"
    }
  },
  "cells": [
    {
      "cell_type": "markdown",
      "source": [
        "# **Exception Handling**\n",
        "\n",
        "Exception handling is the process of responding to unwanted or unexpected events when a computer program runs. Exception handling deals with these events to avoid the program or system crashing and without this process, execptions would disrupt the normal operation of a program."
      ],
      "metadata": {
        "id": "eDrE_Pw_uZyM"
      }
    },
    {
      "cell_type": "markdown",
      "source": [
        "# ***Exception in Python***\n",
        "\n",
        "Python has many buil in exceptions that are raised when your program encounters an error\n",
        "\n",
        "When these exceptions occur, the python interpreter stops the current process and passes it to the calling process untill it is handled. If not handled, the program will crash.\n",
        "\n"
      ],
      "metadata": {
        "id": "vDo3sAFXvAne"
      }
    },
    {
      "cell_type": "markdown",
      "source": [
        "**Python try....except**\n",
        "\n",
        "try....except blocks are used in python to handle errors and exceptions. The code in try block runs when there is no error. If the try block catches the error, then the except block is executed."
      ],
      "metadata": {
        "id": "r3PMLgBMvh5Z"
      }
    }
  ]
}