{
  "nbformat": 4,
  "nbformat_minor": 0,
  "metadata": {
    "colab": {
      "provenance": []
    },
    "kernelspec": {
      "name": "python3",
      "display_name": "Python 3"
    },
    "language_info": {
      "name": "python"
    }
  },
  "cells": [
    {
      "cell_type": "markdown",
      "source": [
        "# f strings"
      ],
      "metadata": {
        "id": "qFi-xVKUSsA7"
      }
    },
    {
      "cell_type": "markdown",
      "source": [
        "String formatting can be done in python using the format method"
      ],
      "metadata": {
        "id": "_LgTrDPXVwf4"
      }
    },
    {
      "cell_type": "code",
      "source": [
        "txt = \"For only{price:.2f} dollars!\"\n",
        "print(txt.format(price = 49))"
      ],
      "metadata": {
        "colab": {
          "base_uri": "https://localhost:8080/"
        },
        "id": "cbf0cm8JV7Cy",
        "outputId": "18d9c31f-2630-4760-f1a0-8ce46faca795"
      },
      "execution_count": 1,
      "outputs": [
        {
          "output_type": "stream",
          "name": "stdout",
          "text": [
            "For only49.00 dollars!\n"
          ]
        }
      ]
    },
    {
      "cell_type": "markdown",
      "source": [
        "# f-string in python\n",
        "\n",
        "It is a new string formatting mechanism introduction by the PEP 498. It is also known as Literal String Interplotation or more commonly as F-strings(f character preceding the string literal). The primary focus of this mechanism is to make the interpolation easier.\n",
        "\n",
        "\n",
        "When we prefix the string with the letter 'f' the string becomes the f-string itself. The f-string can be formatted in much same as the str.format() method. The f-string offers a convenient way to embed Python expression inside string literals for formatting"
      ],
      "metadata": {
        "id": "fZ_SBCk5WKFp"
      }
    },
    {
      "cell_type": "code",
      "source": [
        "val = 'Greeks'\n",
        "print(f\"{val} for{val} is a portal for {val}.\")\n",
        "name = 'Tushar'\n",
        "age = 32\n",
        "print(f\"Hello, My name is {name} and I'm {age}years old.\")"
      ],
      "metadata": {
        "colab": {
          "base_uri": "https://localhost:8080/"
        },
        "id": "USpy0VB9YH0g",
        "outputId": "12b4f523-43bc-45a1-ad28-171c71d7557b"
      },
      "execution_count": 2,
      "outputs": [
        {
          "output_type": "stream",
          "name": "stdout",
          "text": [
            "Greeks forGreeks is a portal for Greeks.\n",
            "Hello, My name is Tushar and I'm 32years old.\n"
          ]
        }
      ]
    },
    {
      "cell_type": "markdown",
      "source": [
        "In the above code, we have used the f-string to format the string. It evaluates at runtime; we can putall valid Python expression in them.\n",
        "\n",
        "we can use it in a single statement as well."
      ],
      "metadata": {
        "id": "0YUmISjUc-5K"
      }
    },
    {
      "cell_type": "code",
      "source": [
        "print(f\"{2 * 30}\")"
      ],
      "metadata": {
        "colab": {
          "base_uri": "https://localhost:8080/"
        },
        "id": "VrY2uhnadZRD",
        "outputId": "1d006353-bd5c-4d7c-e0e5-c547a9d1caa7"
      },
      "execution_count": 4,
      "outputs": [
        {
          "output_type": "stream",
          "name": "stdout",
          "text": [
            "60\n"
          ]
        }
      ]
    },
    {
      "cell_type": "code",
      "source": [],
      "metadata": {
        "id": "GjU0qSgTdfD5"
      },
      "execution_count": null,
      "outputs": []
    }
  ]
}