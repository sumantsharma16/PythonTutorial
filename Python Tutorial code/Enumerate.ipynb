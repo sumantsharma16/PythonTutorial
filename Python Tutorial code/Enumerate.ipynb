{
  "nbformat": 4,
  "nbformat_minor": 0,
  "metadata": {
    "colab": {
      "provenance": []
    },
    "kernelspec": {
      "name": "python3",
      "display_name": "Python 3"
    },
    "language_info": {
      "name": "python"
    }
  },
  "cells": [
    {
      "cell_type": "markdown",
      "source": [
        "# Enumerate function in python\n",
        "\n",
        "The enumerate function is a built in function in python that allow you to loop over a sequnce and get the index and value of each element in the sequence at the same time. Here a basic example of how it works:\n"
      ],
      "metadata": {
        "id": "cFtVtfovhAY4"
      }
    },
    {
      "cell_type": "code",
      "source": [
        "fruits = ['apple', 'bannana', 'mango']\n",
        "for index, fruit in enumerate(fruits):\n",
        "  print(index, fruit)"
      ],
      "metadata": {
        "colab": {
          "base_uri": "https://localhost:8080/"
        },
        "id": "3RF72MmdhrY8",
        "outputId": "87f38072-bb86-4276-e6ad-21405ded9956"
      },
      "execution_count": 2,
      "outputs": [
        {
          "output_type": "stream",
          "name": "stdout",
          "text": [
            "0 apple\n",
            "1 bannana\n",
            "2 mango\n"
          ]
        }
      ]
    },
    {
      "cell_type": "markdown",
      "source": [
        "As you can see, the enumerate function returns a tuple containig index and value of each element in the sequnce. You can use for loop to unpack these tuples and assign them to variable, as shown in the example above"
      ],
      "metadata": {
        "id": "Gh96-2X8h5Go"
      }
    },
    {
      "cell_type": "markdown",
      "source": [
        "Changing the start index"
      ],
      "metadata": {
        "id": "XujJ_2IbiPml"
      }
    },
    {
      "cell_type": "markdown",
      "source": [
        "By default the enumerate function starts the index at 0, but you can specify a different starting index by passing it as an argument to the enumerate function:"
      ],
      "metadata": {
        "id": "tD2lmTHwiSnY"
      }
    },
    {
      "cell_type": "code",
      "source": [
        "fruits = ['apple', 'bannana', 'mango']\n",
        "for index, fruit in enumerate(fruits):\n",
        "  print(f'{index+1}: {fruit}')"
      ],
      "metadata": {
        "colab": {
          "base_uri": "https://localhost:8080/"
        },
        "id": "aZ4UXJysilix",
        "outputId": "31ad2761-eacf-42f1-9145-b15b6bcf0be9"
      },
      "execution_count": 4,
      "outputs": [
        {
          "output_type": "stream",
          "name": "stdout",
          "text": [
            "1: apple\n",
            "2: bannana\n",
            "3: mango\n"
          ]
        }
      ]
    },
    {
      "cell_type": "code",
      "source": [
        "colors = ('red', 'green','blue')\n",
        "for index, color in enumerate(colors):\n",
        "  print(index, color)"
      ],
      "metadata": {
        "colab": {
          "base_uri": "https://localhost:8080/"
        },
        "id": "ESn3Za11iveN",
        "outputId": "06244247-1827-4728-9e79-da0ba551f5b7"
      },
      "execution_count": 5,
      "outputs": [
        {
          "output_type": "stream",
          "name": "stdout",
          "text": [
            "0 red\n",
            "1 green\n",
            "2 blue\n"
          ]
        }
      ]
    },
    {
      "cell_type": "code",
      "source": [
        "s = 'hello'\n",
        "for index, c in enumerate(s):\n",
        "  print(index, s)"
      ],
      "metadata": {
        "colab": {
          "base_uri": "https://localhost:8080/"
        },
        "id": "97IPM2EojN51",
        "outputId": "3448437d-00e2-4970-d902-176501aa2ad8"
      },
      "execution_count": 7,
      "outputs": [
        {
          "output_type": "stream",
          "name": "stdout",
          "text": [
            "0 hello\n",
            "1 hello\n",
            "2 hello\n",
            "3 hello\n",
            "4 hello\n"
          ]
        }
      ]
    },
    {
      "cell_type": "code",
      "source": [],
      "metadata": {
        "id": "_MKRy924jUxe"
      },
      "execution_count": null,
      "outputs": []
    }
  ]
}