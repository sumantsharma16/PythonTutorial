{
  "nbformat": 4,
  "nbformat_minor": 0,
  "metadata": {
    "colab": {
      "provenance": []
    },
    "kernelspec": {
      "name": "python3",
      "display_name": "Python 3"
    },
    "language_info": {
      "name": "python"
    }
  },
  "cells": [
    {
      "cell_type": "markdown",
      "source": [
        "# Python Tuples\n",
        "\n",
        "Tuples are ordered collection of data items. They store multiple items in a single variable. Tuple items are separated by comman and enclosed within round brackets () . Tuples are unchangeable meaning we can not alter them after creation."
      ],
      "metadata": {
        "id": "nVpXg_lQImvu"
      }
    },
    {
      "cell_type": "code",
      "source": [
        "tuple1 = (1,2,3,4,5,6,6)\n",
        "tuple2 = (\"'Red\", \"Green\", \"Blue\")\n",
        "\n",
        "print(tuple1)\n",
        "print(tuple2)"
      ],
      "metadata": {
        "colab": {
          "base_uri": "https://localhost:8080/"
        },
        "id": "v8DO_CPYJ0uJ",
        "outputId": "dacea6e5-60f2-4a58-adaf-cf558e639bc5"
      },
      "execution_count": 1,
      "outputs": [
        {
          "output_type": "stream",
          "name": "stdout",
          "text": [
            "(1, 2, 3, 4, 5, 6, 6)\n",
            "(\"'Red\", 'Green', 'Blue')\n"
          ]
        }
      ]
    },
    {
      "cell_type": "code",
      "source": [
        "details = (\"Abhigeet\", 18, \"DKGHVNAdfTT\", 9.8)"
      ],
      "metadata": {
        "id": "qH5f3NJXKBjS"
      },
      "execution_count": 2,
      "outputs": []
    },
    {
      "cell_type": "code",
      "source": [
        "print(details)"
      ],
      "metadata": {
        "colab": {
          "base_uri": "https://localhost:8080/"
        },
        "id": "_MFoK4u8KK3N",
        "outputId": "26a1e697-74e9-4e90-e5c6-bf70893d6a3e"
      },
      "execution_count": 3,
      "outputs": [
        {
          "output_type": "stream",
          "name": "stdout",
          "text": [
            "('Abhigeet', 18, 'DKGHVNAdfTT', 9.8)\n"
          ]
        }
      ]
    },
    {
      "cell_type": "markdown",
      "source": [
        "Accessing tuple items:"
      ],
      "metadata": {
        "id": "4siksKzhKNqv"
      }
    },
    {
      "cell_type": "markdown",
      "source": [
        "I. Positive Indexing\n",
        "\n",
        "As we have seen that tuple items have index, as such we can access items using these indexes."
      ],
      "metadata": {
        "id": "JEb29-mWKWoC"
      }
    },
    {
      "cell_type": "code",
      "source": [
        "country = (\"Spain\" , \"Italy\", \"India\")"
      ],
      "metadata": {
        "id": "WXmfHHUCKn9f"
      },
      "execution_count": 4,
      "outputs": []
    },
    {
      "cell_type": "code",
      "source": [
        "print(country[0])\n",
        "print(country[1])\n",
        "print(country[2])"
      ],
      "metadata": {
        "id": "mWDzIXyoKv7r"
      },
      "execution_count": 4,
      "outputs": []
    },
    {
      "cell_type": "markdown",
      "source": [
        "II. Negative Indexing\n",
        "\n",
        "Similar to positive indexing, negative indexing is also used to access items, but from the end of the tuple. The last item has index[-1], second last item has indes[-2], third last item has index [-3] and so on."
      ],
      "metadata": {
        "id": "DVTX93xfK18Q"
      }
    },
    {
      "cell_type": "code",
      "source": [
        "country = (\"Spain\", \"Italy\", \"India\", \"England\", \"Germany\")\n",
        "\n",
        "print(country[-1])\n",
        "print(country[len(country) -1])\n",
        "print(country[-3])\n",
        "print(country[-4])"
      ],
      "metadata": {
        "colab": {
          "base_uri": "https://localhost:8080/"
        },
        "id": "pZ7DIoXCLUfn",
        "outputId": "1f64fe9f-4ebd-4836-8071-a90f20f94f4a"
      },
      "execution_count": 5,
      "outputs": [
        {
          "output_type": "stream",
          "name": "stdout",
          "text": [
            "Germany\n",
            "Germany\n",
            "India\n",
            "Italy\n"
          ]
        }
      ]
    },
    {
      "cell_type": "markdown",
      "source": [
        "III. Check for item:\n",
        "\n",
        "We can check if a given item is present in the tuple. This is done using the in keyword."
      ],
      "metadata": {
        "id": "zxVqRBhILrwH"
      }
    },
    {
      "cell_type": "code",
      "source": [
        "country = (\"Spain\", \"Italy\", \"India\", \"England\", \"Germany\")\n",
        "\n",
        "if \"Germany\" in country:\n",
        "  print(\"Germany is present\")\n",
        "\n",
        "else:\n",
        "  print(\"Germany is absent\")"
      ],
      "metadata": {
        "colab": {
          "base_uri": "https://localhost:8080/"
        },
        "id": "3r9XOgaOMAr4",
        "outputId": "12cd7573-76de-45e4-be32-8e5811127730"
      },
      "execution_count": 6,
      "outputs": [
        {
          "output_type": "stream",
          "name": "stdout",
          "text": [
            "Germany is present\n"
          ]
        }
      ]
    },
    {
      "cell_type": "code",
      "source": [
        "country = (\"Spain\", \"Italy\", \"India\", \"England\", \"Germany\")\n",
        "\n",
        "\n",
        "if \"Russia\" in country:\n",
        "  print(\"Russia is present\")\n",
        "else:\n",
        "  print(\"Russia is absent\")"
      ],
      "metadata": {
        "colab": {
          "base_uri": "https://localhost:8080/"
        },
        "id": "39g28rX_MN7t",
        "outputId": "a4f90030-4481-4f20-9410-0072992c680c"
      },
      "execution_count": 8,
      "outputs": [
        {
          "output_type": "stream",
          "name": "stdout",
          "text": [
            "Russia is absent\n"
          ]
        }
      ]
    },
    {
      "cell_type": "markdown",
      "source": [
        "IV. Range of Index:\n",
        "\n",
        "You can print a range of tuple items by specifying where do you want to start, where do you want to end and if you want to skip elements in between the range."
      ],
      "metadata": {
        "id": "ukKperLsMcCC"
      }
    },
    {
      "cell_type": "code",
      "source": [
        "# Tuple[start : end : jumpIndex]"
      ],
      "metadata": {
        "id": "1bRFoyRuM7HO"
      },
      "execution_count": 10,
      "outputs": []
    },
    {
      "cell_type": "markdown",
      "source": [
        "Note: jump index is optional.We will see this in given examples."
      ],
      "metadata": {
        "id": "mJMEWRMqNCmb"
      }
    },
    {
      "cell_type": "markdown",
      "source": [
        "Printing elements within a particular range."
      ],
      "metadata": {
        "id": "hrL47zehNOh4"
      }
    },
    {
      "cell_type": "code",
      "source": [
        "animals = (\"cat\", \"dog\", \"bat\", \"mouse\", \"pig\", \"horse\", \"donker\", \"goat\", \"cow\")\n",
        "\n",
        "print(animals[3:7])\n",
        "print(animals[-7:-2])"
      ],
      "metadata": {
        "colab": {
          "base_uri": "https://localhost:8080/"
        },
        "id": "WZVGIMKGNV3d",
        "outputId": "d08c48a5-0b49-4cb4-ff2b-7664803f35aa"
      },
      "execution_count": 13,
      "outputs": [
        {
          "output_type": "stream",
          "name": "stdout",
          "text": [
            "('mouse', 'pig', 'horse', 'donker')\n",
            "('bat', 'mouse', 'pig', 'horse', 'donker')\n"
          ]
        }
      ]
    },
    {
      "cell_type": "markdown",
      "source": [
        "Here, we provide index of the element from where we want to start and the index of the element till which we want to print the values. Note: The element of the end index provided will not be included."
      ],
      "metadata": {
        "id": "N1NXR3YhNofn"
      }
    },
    {
      "cell_type": "code",
      "source": [
        "animals = (\"cat\", \"dog\", \"bat\", \"mouse\", \"pig\", \"horse\", \"donker\", \"goat\", \"cow\")\n",
        "\n",
        "print(animals[3:])\n",
        "print(animals[-7:])"
      ],
      "metadata": {
        "colab": {
          "base_uri": "https://localhost:8080/"
        },
        "id": "EW39Yn1cOIip",
        "outputId": "88fba8ca-c4bd-4d7d-fd20-984fa50bf2e6"
      },
      "execution_count": 14,
      "outputs": [
        {
          "output_type": "stream",
          "name": "stdout",
          "text": [
            "('mouse', 'pig', 'horse', 'donker', 'goat', 'cow')\n",
            "('bat', 'mouse', 'pig', 'horse', 'donker', 'goat', 'cow')\n"
          ]
        }
      ]
    },
    {
      "cell_type": "markdown",
      "source": [
        "when no end index is provided the interperter prints all the values till the end."
      ],
      "metadata": {
        "id": "0cF4XUPrORV0"
      }
    },
    {
      "cell_type": "code",
      "source": [
        "animals = (\"cat\", \"dog\", \"bat\", \"mouse\", \"pig\", \"horse\", \"donker\", \"goat\", \"cow\")\n",
        "\n",
        "print(animals[:7])\n",
        "print(animals[:-4])"
      ],
      "metadata": {
        "colab": {
          "base_uri": "https://localhost:8080/"
        },
        "id": "qHZMd3zxObWP",
        "outputId": "a15609c8-9ff6-4de6-d6c4-939274f3029e"
      },
      "execution_count": 16,
      "outputs": [
        {
          "output_type": "stream",
          "name": "stdout",
          "text": [
            "('cat', 'dog', 'bat', 'mouse', 'pig', 'horse', 'donker')\n",
            "('cat', 'dog', 'bat', 'mouse', 'pig')\n"
          ]
        }
      ]
    },
    {
      "cell_type": "code",
      "source": [
        "animals = (\"cat\", \"dog\", \"bat\", \"mouse\", \"pig\", \"horse\", \"donker\", \"goat\", \"cow\")\n",
        "\n",
        "print(animals[::7])\n",
        "print(animals[-8:-1:2])"
      ],
      "metadata": {
        "colab": {
          "base_uri": "https://localhost:8080/"
        },
        "id": "rOh4tFBZOeKI",
        "outputId": "91152326-50ff-4767-91b5-2bd69a415234"
      },
      "execution_count": 17,
      "outputs": [
        {
          "output_type": "stream",
          "name": "stdout",
          "text": [
            "('cat', 'goat')\n",
            "('dog', 'mouse', 'horse', 'goat')\n"
          ]
        }
      ]
    },
    {
      "cell_type": "markdown",
      "source": [
        "Here we have not provide start and end index which means all the values will be consider. But as we have provided a jump index of 2 only alternate values will be printed."
      ],
      "metadata": {
        "id": "4RqsWq1IOtpn"
      }
    },
    {
      "cell_type": "markdown",
      "source": [
        "**Example: printing every 3rd consecutive within given range**"
      ],
      "metadata": {
        "id": "SQ-i5nlRPOtz"
      }
    },
    {
      "cell_type": "code",
      "source": [
        "animals = (\"cat\", \"dog\", \"bat\", \"mouse\", \"pig\", \"horse\", \"donker\", \"goat\", \"cow\")\n",
        "\n",
        "print(animals[1:8:3])\n"
      ],
      "metadata": {
        "colab": {
          "base_uri": "https://localhost:8080/"
        },
        "id": "26fHPMPcPYNg",
        "outputId": "56292467-4f8a-47f2-f1e0-ce9a94d63e33"
      },
      "execution_count": 18,
      "outputs": [
        {
          "output_type": "stream",
          "name": "stdout",
          "text": [
            "('dog', 'pig', 'goat')\n"
          ]
        }
      ]
    },
    {
      "cell_type": "markdown",
      "source": [
        "Here jump index is 3 . Hence it prints every 3rd element within given index."
      ],
      "metadata": {
        "id": "sLhzYB36PffX"
      }
    }
  ]
}