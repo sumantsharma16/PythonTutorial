{
  "nbformat": 4,
  "nbformat_minor": 0,
  "metadata": {
    "colab": {
      "provenance": []
    },
    "kernelspec": {
      "name": "python3",
      "display_name": "Python 3"
    },
    "language_info": {
      "name": "python"
    }
  },
  "cells": [
    {
      "cell_type": "markdown",
      "source": [
        "# Recursion in python"
      ],
      "metadata": {
        "id": "DIui9WoWi4GI"
      }
    },
    {
      "cell_type": "markdown",
      "source": [
        "Recursion is the process of defining something in terms of itself.\n",
        "\n",
        "**Python Recursive function**\n",
        "th\n",
        "In python we know that a function can call other functions. It is even possible for the function to call itself. These types of construct are termed as recursive fuctions."
      ],
      "metadata": {
        "id": "i4_DbyJ7jAmM"
      }
    },
    {
      "cell_type": "code",
      "source": [
        "def factorial(num):\n",
        "  if (num == 1 or num ==0):\n",
        "    return 1\n",
        "  else:\n",
        "    return (num*factorial(num-1))\n",
        "\n",
        "num = 7\n",
        "print(\"Number :\", num)\n",
        "print(\"Factorial :\", factorial(num))"
      ],
      "metadata": {
        "colab": {
          "base_uri": "https://localhost:8080/"
        },
        "id": "_tUtGRbEjpCQ",
        "outputId": "eede790e-7947-4b3f-d7b6-3dbf194c6db1"
      },
      "execution_count": 3,
      "outputs": [
        {
          "output_type": "stream",
          "name": "stdout",
          "text": [
            "Number : 7\n",
            "Factorial : 5040\n"
          ]
        }
      ]
    },
    {
      "cell_type": "code",
      "source": [],
      "metadata": {
        "id": "cXqmqnIgj5AC"
      },
      "execution_count": null,
      "outputs": []
    }
  ]
}