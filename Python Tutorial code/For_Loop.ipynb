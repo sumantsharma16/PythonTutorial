{
  "nbformat": 4,
  "nbformat_minor": 0,
  "metadata": {
    "colab": {
      "provenance": []
    },
    "kernelspec": {
      "name": "python3",
      "display_name": "Python 3"
    },
    "language_info": {
      "name": "python"
    }
  },
  "cells": [
    {
      "cell_type": "markdown",
      "source": [
        "# Introduction to loop"
      ],
      "metadata": {
        "id": "9vbI2ZPMnGxa"
      }
    },
    {
      "cell_type": "markdown",
      "source": [
        "Some times a programmer wants to execute a group of statements a certain number of times. This can be done using loops. Based on this loop are further classified into following main types:\n",
        "\n",
        ". for loop\n",
        "\n",
        ". while loop\n",
        "\n",
        "\n",
        "**The for Loop**\n",
        "\n",
        "for loops can iterate over a sequence of iterable objects in python. Iterating over a sequence is nothing but iterating over strings, lists, tuples, sets and dictionaries."
      ],
      "metadata": {
        "id": "aUhv9tFKnRtZ"
      }
    },
    {
      "cell_type": "code",
      "source": [
        "name = 'Sumant'\n",
        "for i in name:\n",
        "  print(i, end=\", \")"
      ],
      "metadata": {
        "colab": {
          "base_uri": "https://localhost:8080/"
        },
        "id": "hNRbwCTcoMQ8",
        "outputId": "57767ead-7052-4da7-9810-6a29b79a4195"
      },
      "execution_count": 1,
      "outputs": [
        {
          "output_type": "stream",
          "name": "stdout",
          "text": [
            "S, u, m, a, n, t, "
          ]
        }
      ]
    },
    {
      "cell_type": "code",
      "source": [
        "colors = ['Red', 'Blue', 'Green', 'Yellow']\n",
        "for x in colors:\n",
        "  print(x)"
      ],
      "metadata": {
        "colab": {
          "base_uri": "https://localhost:8080/"
        },
        "id": "Ps0Wcn-poXnY",
        "outputId": "28b6dabf-77b6-436f-f4f5-9b2ed0944b61"
      },
      "execution_count": 2,
      "outputs": [
        {
          "output_type": "stream",
          "name": "stdout",
          "text": [
            "Red\n",
            "Blue\n",
            "Green\n",
            "Yellow\n"
          ]
        }
      ]
    },
    {
      "cell_type": "markdown",
      "source": [
        "**range()**\n",
        "\n",
        "What if we do not want to iterate over a sequence ? What if we want to use for loop for specific number of times?\n",
        "\n",
        "Here we can use the range() function."
      ],
      "metadata": {
        "id": "Bpk6VjxqoiQS"
      }
    },
    {
      "cell_type": "code",
      "source": [
        "for k in range(5):\n",
        "  print(k)"
      ],
      "metadata": {
        "colab": {
          "base_uri": "https://localhost:8080/"
        },
        "id": "cjXwia9ApERZ",
        "outputId": "5935fe56-a4f9-450b-8ed2-08c082f8629b"
      },
      "execution_count": 3,
      "outputs": [
        {
          "output_type": "stream",
          "name": "stdout",
          "text": [
            "0\n",
            "1\n",
            "2\n",
            "3\n",
            "4\n"
          ]
        }
      ]
    },
    {
      "cell_type": "markdown",
      "source": [
        "Here, we can see that the loop starts from 0 by default and increments at each iteration.\n",
        "\n",
        "But we can also loop over a specific range."
      ],
      "metadata": {
        "id": "RKtzYpErpHTY"
      }
    },
    {
      "cell_type": "code",
      "source": [
        "for k in range (4,9):\n",
        "  print(k)"
      ],
      "metadata": {
        "colab": {
          "base_uri": "https://localhost:8080/"
        },
        "id": "T4o0g9CJpbH9",
        "outputId": "51487160-cbda-47c2-c42c-1473ad9ae993"
      },
      "execution_count": 4,
      "outputs": [
        {
          "output_type": "stream",
          "name": "stdout",
          "text": [
            "4\n",
            "5\n",
            "6\n",
            "7\n",
            "8\n"
          ]
        }
      ]
    },
    {
      "cell_type": "code",
      "source": [],
      "metadata": {
        "id": "sPGhGmZhpfmL"
      },
      "execution_count": null,
      "outputs": []
    }
  ]
}