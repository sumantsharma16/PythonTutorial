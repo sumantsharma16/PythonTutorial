{
  "nbformat": 4,
  "nbformat_minor": 0,
  "metadata": {
    "colab": {
      "provenance": []
    },
    "kernelspec": {
      "name": "python3",
      "display_name": "Python 3"
    },
    "language_info": {
      "name": "python"
    }
  },
  "cells": [
    {
      "cell_type": "markdown",
      "source": [
        "# Break Statement"
      ],
      "metadata": {
        "id": "CWSkvBrYuMUT"
      }
    },
    {
      "cell_type": "markdown",
      "source": [
        "The break statement enables a program to skip over a part of the code. A break statement terminates the very loop it lies within."
      ],
      "metadata": {
        "id": "fpuNJrSAuTW9"
      }
    },
    {
      "cell_type": "code",
      "source": [
        "for i in range(1,102,1):\n",
        "  print(i , end=\" \")\n",
        "  if(i==50):\n",
        "    break\n",
        "  else:\n",
        "    print('Mississipi')\n",
        "print(\"thank you\")"
      ],
      "metadata": {
        "colab": {
          "base_uri": "https://localhost:8080/"
        },
        "id": "_PALC04rulYt",
        "outputId": "849b8cdb-1963-43e4-c234-e6497aab0bf9"
      },
      "execution_count": 1,
      "outputs": [
        {
          "output_type": "stream",
          "name": "stdout",
          "text": [
            "1 Mississipi\n",
            "2 Mississipi\n",
            "3 Mississipi\n",
            "4 Mississipi\n",
            "5 Mississipi\n",
            "6 Mississipi\n",
            "7 Mississipi\n",
            "8 Mississipi\n",
            "9 Mississipi\n",
            "10 Mississipi\n",
            "11 Mississipi\n",
            "12 Mississipi\n",
            "13 Mississipi\n",
            "14 Mississipi\n",
            "15 Mississipi\n",
            "16 Mississipi\n",
            "17 Mississipi\n",
            "18 Mississipi\n",
            "19 Mississipi\n",
            "20 Mississipi\n",
            "21 Mississipi\n",
            "22 Mississipi\n",
            "23 Mississipi\n",
            "24 Mississipi\n",
            "25 Mississipi\n",
            "26 Mississipi\n",
            "27 Mississipi\n",
            "28 Mississipi\n",
            "29 Mississipi\n",
            "30 Mississipi\n",
            "31 Mississipi\n",
            "32 Mississipi\n",
            "33 Mississipi\n",
            "34 Mississipi\n",
            "35 Mississipi\n",
            "36 Mississipi\n",
            "37 Mississipi\n",
            "38 Mississipi\n",
            "39 Mississipi\n",
            "40 Mississipi\n",
            "41 Mississipi\n",
            "42 Mississipi\n",
            "43 Mississipi\n",
            "44 Mississipi\n",
            "45 Mississipi\n",
            "46 Mississipi\n",
            "47 Mississipi\n",
            "48 Mississipi\n",
            "49 Mississipi\n",
            "50 thank you\n"
          ]
        }
      ]
    },
    {
      "cell_type": "markdown",
      "source": [
        "# Continue Statement"
      ],
      "metadata": {
        "id": "DGFZgWyfu2yo"
      }
    },
    {
      "cell_type": "markdown",
      "source": [
        "The Continue statement skips the rest of the loop statements and causes the next iteration to occur."
      ],
      "metadata": {
        "id": "CbBhvZ4bvFpC"
      }
    },
    {
      "cell_type": "code",
      "source": [
        "for i in [2,3,4,5,6,0]:\n",
        "  if (i%2!=0):\n",
        "    continue\n",
        "\n",
        "  print(i)"
      ],
      "metadata": {
        "colab": {
          "base_uri": "https://localhost:8080/"
        },
        "id": "udiMa3VovQSl",
        "outputId": "8c56fd1a-4774-4cf7-c3f0-4de4375e7158"
      },
      "execution_count": 2,
      "outputs": [
        {
          "output_type": "stream",
          "name": "stdout",
          "text": [
            "2\n",
            "4\n",
            "6\n",
            "0\n"
          ]
        }
      ]
    },
    {
      "cell_type": "code",
      "source": [],
      "metadata": {
        "id": "CPpkuu5avbM8"
      },
      "execution_count": null,
      "outputs": []
    },
    {
      "cell_type": "code",
      "source": [],
      "metadata": {
        "id": "P_q43V2uvdgf"
      },
      "execution_count": null,
      "outputs": []
    }
  ]
}