{
  "nbformat": 4,
  "nbformat_minor": 0,
  "metadata": {
    "colab": {
      "provenance": []
    },
    "kernelspec": {
      "name": "python3",
      "display_name": "Python 3"
    },
    "language_info": {
      "name": "python"
    }
  },
  "cells": [
    {
      "cell_type": "markdown",
      "source": [
        "# Operation on Tuples"
      ],
      "metadata": {
        "id": "M9I02SnrQP6E"
      }
    },
    {
      "cell_type": "markdown",
      "source": [
        "# Manipulating Tuples"
      ],
      "metadata": {
        "id": "4HH-b2XRQgS3"
      }
    },
    {
      "cell_type": "markdown",
      "source": [
        "Tuples are immutable, hence if you want to add, remove or change tuple items, then first you must convert the tuple to a list. Then perform operation on that list and convert it back to tuple"
      ],
      "metadata": {
        "id": "bZRtidx2Qp77"
      }
    },
    {
      "cell_type": "code",
      "source": [
        "countries = (\"Spain\", \"Italy\", \"India\", \"England\", \"Germany\")\n",
        "\n",
        "temp = list(countries)\n",
        "temp.append(\"Russia\")\n",
        "temp.pop(3)\n",
        "temp.pop(3)\n",
        "temp[2] = \"Fineland\"\n",
        "countries = tuple(temp)\n",
        "print(countries)"
      ],
      "metadata": {
        "colab": {
          "base_uri": "https://localhost:8080/"
        },
        "id": "0_36RLmhRClg",
        "outputId": "bb8a4938-c741-4745-9d95-3c0bcc135b20"
      },
      "execution_count": 1,
      "outputs": [
        {
          "output_type": "stream",
          "name": "stdout",
          "text": [
            "('Spain', 'Italy', 'Fineland', 'Russia')\n"
          ]
        }
      ]
    },
    {
      "cell_type": "markdown",
      "source": [
        "Thus, we convert the tuple to a list, manipulate items of the list using list method, then convert list back to tuple.count\n",
        "\n",
        "However, we can directly concatenate two tuples without converting them to list."
      ],
      "metadata": {
        "id": "-bFXCuq-Rki6"
      }
    },
    {
      "cell_type": "code",
      "source": [
        "countries = (\"Pakistan\", \"Afganistan\", \"Bangledesh\", \"Shri lanka\")\n",
        "countries2 = (\"Vietnam\", \"India\", \"China\")\n",
        "\n",
        "soutEastAsia = countries + countries2\n",
        "print(soutEastAsia)"
      ],
      "metadata": {
        "colab": {
          "base_uri": "https://localhost:8080/"
        },
        "id": "_NQVCKhZR8nq",
        "outputId": "1e6b9a17-0aae-45a5-b675-3d37a9d55ea9"
      },
      "execution_count": 2,
      "outputs": [
        {
          "output_type": "stream",
          "name": "stdout",
          "text": [
            "('Pakistan', 'Afganistan', 'Bangledesh', 'Shri lanka', 'Vietnam', 'India', 'China')\n"
          ]
        }
      ]
    },
    {
      "cell_type": "markdown",
      "source": [
        "# Tuple Methods"
      ],
      "metadata": {
        "id": "0M8xw8mNSbU3"
      }
    },
    {
      "cell_type": "markdown",
      "source": [
        "from types import MethodDescriptorType\n",
        "As tuple is immutable type of collection of elements it have limited built in method. They are explaind below:\n",
        "\n",
        "**count()** MethodDescriptorType\n",
        "\n",
        "The count() method of tuple returns the number of times the given element appears in the tuple."
      ],
      "metadata": {
        "id": "Ls8k0_OhS3bs"
      }
    },
    {
      "cell_type": "code",
      "source": [
        "# tuple.count(element)"
      ],
      "metadata": {
        "id": "rgam8qcATUZM"
      },
      "execution_count": 3,
      "outputs": []
    },
    {
      "cell_type": "code",
      "source": [
        "Tuple1 = ( 0,1,2,3,4,5,5,5,3,2,1)\n",
        "res  = Tuple1.count(3)\n",
        "\n",
        "print('Count of 3 in Tuple1 is:', res)"
      ],
      "metadata": {
        "colab": {
          "base_uri": "https://localhost:8080/"
        },
        "id": "ikI2f4H2TXDL",
        "outputId": "ec03579b-8eda-4b7e-dce5-9c44da958b58"
      },
      "execution_count": 5,
      "outputs": [
        {
          "output_type": "stream",
          "name": "stdout",
          "text": [
            "Count of 3 in Tuple1 is: 2\n"
          ]
        }
      ]
    },
    {
      "cell_type": "markdown",
      "source": [
        "# index() method"
      ],
      "metadata": {
        "id": "51nAdjo9TwnW"
      }
    },
    {
      "cell_type": "markdown",
      "source": [
        "The index() method return the first occurrence of the given element from the tuple."
      ],
      "metadata": {
        "id": "aaFIVZCpUAN9"
      }
    },
    {
      "cell_type": "code",
      "source": [
        "# tuple.index(element, start, end)"
      ],
      "metadata": {
        "id": "iia6VSI-UXYL"
      },
      "execution_count": 6,
      "outputs": []
    },
    {
      "cell_type": "markdown",
      "source": [
        "Note: This method raises a ValueError if the element is not found in the tuple."
      ],
      "metadata": {
        "id": "2E8SD1hPUcFU"
      }
    },
    {
      "cell_type": "code",
      "source": [
        "Tuple = (0,2,1,31,2,3,45,6,7,8,2,31,1)\n",
        "res = Tuple.index(3)"
      ],
      "metadata": {
        "id": "l43aSjnLUqBO"
      },
      "execution_count": 7,
      "outputs": []
    },
    {
      "cell_type": "code",
      "source": [
        "print('first occurance of 3 is', res)"
      ],
      "metadata": {
        "colab": {
          "base_uri": "https://localhost:8080/"
        },
        "id": "EacNCRzrU549",
        "outputId": "c1647ae9-5e7d-49e5-bfcd-47bf8155372f"
      },
      "execution_count": 8,
      "outputs": [
        {
          "output_type": "stream",
          "name": "stdout",
          "text": [
            "first occurance of 3 is 5\n"
          ]
        }
      ]
    },
    {
      "cell_type": "code",
      "source": [],
      "metadata": {
        "id": "3wFazvI7U9iP"
      },
      "execution_count": null,
      "outputs": []
    }
  ]
}