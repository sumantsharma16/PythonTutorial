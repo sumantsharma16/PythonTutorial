{
  "nbformat": 4,
  "nbformat_minor": 0,
  "metadata": {
    "colab": {
      "provenance": []
    },
    "kernelspec": {
      "name": "python3",
      "display_name": "Python 3"
    },
    "language_info": {
      "name": "python"
    }
  },
  "cells": [
    {
      "cell_type": "markdown",
      "source": [
        " **Variables and data types**"
      ],
      "metadata": {
        "id": "HKWkJSUm9gmq"
      }
    },
    {
      "cell_type": "markdown",
      "source": [
        "Variable is like container that holds data. Very similar to how our container in kintchen hold sugar, salt etc. Creating a varible like creating a placeholder in memory and assigning it some value. In Python its an easy as writing."
      ],
      "metadata": {
        "id": "W1_R-Mh-90TY"
      }
    },
    {
      "cell_type": "code",
      "source": [
        "a = 1\n",
        "b= True\n",
        "c = \"Sumant\"\n",
        "d = None"
      ],
      "metadata": {
        "id": "mo3bf-0H-dT0"
      },
      "execution_count": null,
      "outputs": []
    },
    {
      "cell_type": "markdown",
      "source": [
        "These are four varibles of different data types"
      ],
      "metadata": {
        "id": "bu5a6jIC-kre"
      }
    },
    {
      "cell_type": "markdown",
      "source": [
        "What are a Data Type ?"
      ],
      "metadata": {
        "id": "VKQLGbSG-szE"
      }
    },
    {
      "cell_type": "markdown",
      "source": [
        "Data type specifices the type of value a variable holds. This is required in programming to do various operations without causing an error. In pyhon, we can print the type of any operator using type function."
      ],
      "metadata": {
        "id": "LJb4MKxJ_MwH"
      }
    },
    {
      "cell_type": "code",
      "source": [
        "a = 1\n",
        "print(type(a))"
      ],
      "metadata": {
        "colab": {
          "base_uri": "https://localhost:8080/"
        },
        "id": "Q8l4Wu7f_oji",
        "outputId": "bc5b72ed-5bb1-470a-f894-32973a3ce1d2"
      },
      "execution_count": 2,
      "outputs": [
        {
          "output_type": "stream",
          "name": "stdout",
          "text": [
            "<class 'int'>\n"
          ]
        }
      ]
    },
    {
      "cell_type": "code",
      "source": [
        "b = \"1\"\n",
        "print(type(b))"
      ],
      "metadata": {
        "colab": {
          "base_uri": "https://localhost:8080/"
        },
        "id": "Cvwg7kDY_qlq",
        "outputId": "1197d031-e68e-44d6-985f-dc69aa1f5f4d"
      },
      "execution_count": 3,
      "outputs": [
        {
          "output_type": "stream",
          "name": "stdout",
          "text": [
            "<class 'str'>\n"
          ]
        }
      ]
    },
    {
      "cell_type": "markdown",
      "source": [
        "By default, python provides the following built in data types:\n",
        "\n",
        "1. **Numeric data: int, float, complex**\n",
        "\n",
        ". int: 3, -8, 0\n",
        "\n",
        ". float: 7.245,-8.0, 0.000000002\n",
        "\n",
        ". complex:8 + 2i"
      ],
      "metadata": {
        "id": "_Z6PCot-_t1x"
      }
    },
    {
      "cell_type": "markdown",
      "source": [
        "**2. Text data:str**\n",
        "\n",
        "str: \"Hello world!\" Python Programming\n",
        "\n",
        "**3. Boolean data:**\n",
        "\n",
        "Boolean data consist of values True or False\n",
        "\n",
        "**4. Sequenced data: list, tuple**\n",
        "\n",
        "*list*: A list is an ordered collection of data with elements seprated by a comma and enclosed within square bracket. List are mutable and can be modified after creation.\n",
        "\n"
      ],
      "metadata": {
        "id": "NJ43r0gHAOL3"
      }
    },
    {
      "cell_type": "code",
      "source": [
        "#Example:\n",
        "\n",
        "list1 = [8, 4.5, [-4,5], [ 'apple', 'banana']]\n",
        "print(list1)"
      ],
      "metadata": {
        "colab": {
          "base_uri": "https://localhost:8080/"
        },
        "id": "cUxMBPlKBdSG",
        "outputId": "999c5c07-2a91-458e-bc69-47cddf39e1f0"
      },
      "execution_count": 5,
      "outputs": [
        {
          "output_type": "stream",
          "name": "stdout",
          "text": [
            "[8, 4.5, [-4, 5], ['apple', 'banana']]\n"
          ]
        }
      ]
    },
    {
      "cell_type": "markdown",
      "source": [
        "**Tuple**: A tuple is an ordered collection of data with elements seprated by a comma and enclosed within parantheses. Tuples are immutable and not be modified after creation."
      ],
      "metadata": {
        "id": "Y-zW2vs9BeSc"
      }
    },
    {
      "cell_type": "code",
      "source": [
        "tupel1 = (('parrat','sparrow'), ('lion', 'tiger'))\n",
        "print(tupel1)"
      ],
      "metadata": {
        "colab": {
          "base_uri": "https://localhost:8080/"
        },
        "id": "ZGKwOM7tB_V2",
        "outputId": "574f0468-6e18-4774-e737-e8b799f00a46"
      },
      "execution_count": 7,
      "outputs": [
        {
          "output_type": "stream",
          "name": "stdout",
          "text": [
            "(('parrat', 'sparrow'), ('lion', 'tiger'))\n"
          ]
        }
      ]
    },
    {
      "cell_type": "markdown",
      "source": [
        "**5. Mapped data:dict**\n",
        "\n",
        "\n",
        "**dict:** A dictionary is an unordered collection of data containing a key:value pair. The key: value pairs are enclosed with in curly bracket"
      ],
      "metadata": {
        "id": "hAy08T1gCLRe"
      }
    },
    {
      "cell_type": "code",
      "source": [
        "dict1 = {'name':'Sumant', 'age':27, 'canvote':True}"
      ],
      "metadata": {
        "id": "wYs0YqPmCorn"
      },
      "execution_count": 8,
      "outputs": []
    },
    {
      "cell_type": "code",
      "source": [],
      "metadata": {
        "id": "-FZJtkVmC58G"
      },
      "execution_count": null,
      "outputs": []
    }
  ]
}