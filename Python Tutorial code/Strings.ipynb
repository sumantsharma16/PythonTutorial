{
  "nbformat": 4,
  "nbformat_minor": 0,
  "metadata": {
    "colab": {
      "provenance": []
    },
    "kernelspec": {
      "name": "python3",
      "display_name": "Python 3"
    },
    "language_info": {
      "name": "python"
    }
  },
  "cells": [
    {
      "cell_type": "markdown",
      "source": [
        "# Strings"
      ],
      "metadata": {
        "id": "zmfcR4-eKLNo"
      }
    },
    {
      "cell_type": "markdown",
      "source": [
        "**What are strings?**\n",
        "\n",
        "In python, any thing that enclose between single or double quotation marks is considered a string. A string is essentially a sequnce or array of textual data. String are used when working with Unicode characters."
      ],
      "metadata": {
        "id": "Q7m0MheFKTzt"
      }
    },
    {
      "cell_type": "code",
      "source": [
        "name = \"Sumant\"\n",
        "print(\"Hello,\" + name)"
      ],
      "metadata": {
        "colab": {
          "base_uri": "https://localhost:8080/"
        },
        "id": "qtnQIRwuKuZT",
        "outputId": "70649935-a51e-441c-904b-6ddd9340905c"
      },
      "execution_count": 1,
      "outputs": [
        {
          "output_type": "stream",
          "name": "stdout",
          "text": [
            "Hello,Sumant\n"
          ]
        }
      ]
    },
    {
      "cell_type": "markdown",
      "source": [
        "**Note**: It does not matter whether you enclose your strings in single or double quotes, the output remains the same.\n",
        "\n",
        "Sometime, the user might need to put quotation marks in between the string. Example, consider the sentence : He said, \"I want to eat an apple\". We will definitely use single quotes for out convenience"
      ],
      "metadata": {
        "id": "QgyvZBayKz9V"
      }
    },
    {
      "cell_type": "code",
      "source": [
        "print('He said, \" I want to eat an apple\" .')"
      ],
      "metadata": {
        "colab": {
          "base_uri": "https://localhost:8080/"
        },
        "id": "p4A7EaE6LcPg",
        "outputId": "65fd70b7-de57-41bc-ebdb-2261f3c264da"
      },
      "execution_count": 3,
      "outputs": [
        {
          "output_type": "stream",
          "name": "stdout",
          "text": [
            "He said, \" I want to eat an apple\" .\n"
          ]
        }
      ]
    },
    {
      "cell_type": "markdown",
      "source": [
        "Multiline Strings"
      ],
      "metadata": {
        "id": "DrLtPavLLo-_"
      }
    },
    {
      "cell_type": "markdown",
      "source": [
        "If our strings has multiple lines, we can create them like this:"
      ],
      "metadata": {
        "id": "dMWdRPHcLsoD"
      }
    },
    {
      "cell_type": "code",
      "source": [
        "a = \"\"\" dskjiot \n",
        " aj j \n",
        "  a  df   fdsfjai a sdf s dfsdfa  dtjier  hsjghiu \n",
        "  sdgfh sh shgiuh s shgj hsh sg hgshfh sh gsh\n",
        "  fghush hgu etu  egeyt  tr gsh .\"\"\"\n",
        "\n",
        "print(a)"
      ],
      "metadata": {
        "colab": {
          "base_uri": "https://localhost:8080/"
        },
        "id": "TUFfyOjHL2rd",
        "outputId": "1fdf0182-a1c8-4034-c188-1586723abe81"
      },
      "execution_count": 4,
      "outputs": [
        {
          "output_type": "stream",
          "name": "stdout",
          "text": [
            " dskjiot \n",
            " aj j \n",
            "  a  df   fdsfjai a sdf s dfsdfa  dtjier  hsjghiu \n",
            "  sdgfh sh shgiuh s shgj hsh sg hgshfh sh gsh\n",
            "  fghush hgu etu  egeyt  tr gsh .\n"
          ]
        }
      ]
    },
    {
      "cell_type": "markdown",
      "source": [
        "Accessing characters of a string"
      ],
      "metadata": {
        "id": "e3zTzk_uMGkj"
      }
    },
    {
      "cell_type": "markdown",
      "source": [
        "In python string is like an array of characters. We can access parts of string by using its index which starts from 0.\n",
        "Square brackets can be used to access elements of the string."
      ],
      "metadata": {
        "id": "eWkZH_AVMOIj"
      }
    },
    {
      "cell_type": "code",
      "source": [
        "print(name[0])\n",
        "print(name[2])"
      ],
      "metadata": {
        "colab": {
          "base_uri": "https://localhost:8080/"
        },
        "id": "KeiVcyX2Mgha",
        "outputId": "99500bbb-7367-44cc-878c-1dd88c345cce"
      },
      "execution_count": 5,
      "outputs": [
        {
          "output_type": "stream",
          "name": "stdout",
          "text": [
            "S\n",
            "m\n"
          ]
        }
      ]
    },
    {
      "cell_type": "markdown",
      "source": [
        "Looping throug the string"
      ],
      "metadata": {
        "id": "Z7bZxPkuMnEE"
      }
    },
    {
      "cell_type": "markdown",
      "source": [
        "we can loop through string using a for loop like this:"
      ],
      "metadata": {
        "id": "LONJaT_yMrZh"
      }
    },
    {
      "cell_type": "code",
      "source": [
        "for character in name:\n",
        "  print(character)"
      ],
      "metadata": {
        "colab": {
          "base_uri": "https://localhost:8080/"
        },
        "id": "rWI6J25GMyTb",
        "outputId": "c1bd7d5b-6272-4159-9c4d-1190c7608f93"
      },
      "execution_count": 6,
      "outputs": [
        {
          "output_type": "stream",
          "name": "stdout",
          "text": [
            "S\n",
            "u\n",
            "m\n",
            "a\n",
            "n\n",
            "t\n"
          ]
        }
      ]
    },
    {
      "cell_type": "code",
      "source": [],
      "metadata": {
        "id": "N2OJac5UM70o"
      },
      "execution_count": null,
      "outputs": []
    }
  ]
}