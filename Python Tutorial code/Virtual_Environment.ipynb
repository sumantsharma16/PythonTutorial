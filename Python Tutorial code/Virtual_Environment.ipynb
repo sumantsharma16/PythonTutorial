{
  "nbformat": 4,
  "nbformat_minor": 0,
  "metadata": {
    "colab": {
      "provenance": []
    },
    "kernelspec": {
      "name": "python3",
      "display_name": "Python 3"
    },
    "language_info": {
      "name": "python"
    }
  },
  "cells": [
    {
      "cell_type": "markdown",
      "source": [
        "# Virtual environment \n",
        "\n",
        "A virtual environment is a tool used to Misolate specific Python environments on a single machine, allowing you to work on multiple projects with different dependencies and packages without conflicts. This can be especially useful when working on projects that have confliciting package version or packages that are not compatible with each other.\n",
        "\n",
        "\n",
        "To creat a virtual environment in Python, you can th venv module that come with python."
      ],
      "metadata": {
        "id": "3E7a1To_jiKV"
      }
    },
    {
      "cell_type": "markdown",
      "source": [
        "python -m venv myenv\n",
        "\n",
        "source myenv/bin/activate\n",
        "\n",
        "myenv/Scripts/activate.bat"
      ],
      "metadata": {
        "id": "YEWvDJaCkuIn"
      }
    },
    {
      "cell_type": "code",
      "source": [],
      "metadata": {
        "id": "0fm1tBTbk9Kk"
      },
      "execution_count": null,
      "outputs": []
    }
  ]
}