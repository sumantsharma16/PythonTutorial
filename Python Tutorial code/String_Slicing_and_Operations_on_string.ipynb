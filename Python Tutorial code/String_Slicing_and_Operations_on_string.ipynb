{
  "nbformat": 4,
  "nbformat_minor": 0,
  "metadata": {
    "colab": {
      "provenance": []
    },
    "kernelspec": {
      "name": "python3",
      "display_name": "Python 3"
    },
    "language_info": {
      "name": "python"
    }
  },
  "cells": [
    {
      "cell_type": "markdown",
      "source": [
        "Length of a String\n",
        "\n",
        "We can find the length of a string using len() function."
      ],
      "metadata": {
        "id": "Vvr3zt4pNLC3"
      }
    },
    {
      "cell_type": "code",
      "source": [
        "fruit = \"Mango\"\n",
        "len1 = len(fruit)\n",
        "print(\"Mango is a \", len1, \"letter word.\")"
      ],
      "metadata": {
        "colab": {
          "base_uri": "https://localhost:8080/"
        },
        "id": "ZhflWqlVNrFT",
        "outputId": "4364a2d5-6e63-4022-c5aa-804114773e67"
      },
      "execution_count": 1,
      "outputs": [
        {
          "output_type": "stream",
          "name": "stdout",
          "text": [
            "Mango is a  5 letter word.\n"
          ]
        }
      ]
    },
    {
      "cell_type": "markdown",
      "source": [
        "String as an array\n",
        "\n",
        "A string is essentially a sequence of characters also called an array. Thus we can access the elements of this array."
      ],
      "metadata": {
        "id": "zD3kAU8wN3pN"
      }
    },
    {
      "cell_type": "code",
      "source": [
        "pie = 'ApplePie'\n",
        "print(pie[:5])\n",
        "print(pie[:6])\n"
      ],
      "metadata": {
        "colab": {
          "base_uri": "https://localhost:8080/"
        },
        "id": "8kTDf-1HOA9J",
        "outputId": "864ec826-2601-496f-ae72-083c2eda16e1"
      },
      "execution_count": 3,
      "outputs": [
        {
          "output_type": "stream",
          "name": "stdout",
          "text": [
            "Apple\n",
            "AppleP\n"
          ]
        }
      ]
    },
    {
      "cell_type": "markdown",
      "source": [
        "Note this method of specifing the start and end index to specify a part of a string is called slicing"
      ],
      "metadata": {
        "id": "I5hEi4p8OW13"
      }
    },
    {
      "cell_type": "code",
      "source": [
        "pie = \"ApplePie\"\n",
        "print(pie[2:6])\n",
        "print(pie[-8:5])"
      ],
      "metadata": {
        "colab": {
          "base_uri": "https://localhost:8080/"
        },
        "id": "AeQddt7SOte0",
        "outputId": "e0248123-4ae3-4086-dab8-ad49befbc280"
      },
      "execution_count": 5,
      "outputs": [
        {
          "output_type": "stream",
          "name": "stdout",
          "text": [
            "pleP\n",
            "Apple\n"
          ]
        }
      ]
    },
    {
      "cell_type": "markdown",
      "source": [
        "# Loop through a string"
      ],
      "metadata": {
        "id": "KqBmw0qyO5V_"
      }
    },
    {
      "cell_type": "markdown",
      "source": [
        "Strings are array and array are iterable. Thus we can loop through strings."
      ],
      "metadata": {
        "id": "JaoFqcJYPIqY"
      }
    },
    {
      "cell_type": "code",
      "source": [
        "alphabets = \"ABCDE\"\n",
        "for i in alphabets:\n",
        "  print(i)"
      ],
      "metadata": {
        "colab": {
          "base_uri": "https://localhost:8080/"
        },
        "id": "7qaHRu78PRRq",
        "outputId": "6c868b38-0afe-4732-d18d-90b912475570"
      },
      "execution_count": 6,
      "outputs": [
        {
          "output_type": "stream",
          "name": "stdout",
          "text": [
            "A\n",
            "B\n",
            "C\n",
            "D\n",
            "E\n"
          ]
        }
      ]
    },
    {
      "cell_type": "code",
      "source": [],
      "metadata": {
        "id": "I6kQeIHvPYx1"
      },
      "execution_count": null,
      "outputs": []
    }
  ]
}