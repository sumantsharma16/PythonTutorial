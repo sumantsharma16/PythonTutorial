{
  "nbformat": 4,
  "nbformat_minor": 0,
  "metadata": {
    "colab": {
      "provenance": []
    },
    "kernelspec": {
      "name": "python3",
      "display_name": "Python 3"
    },
    "language_info": {
      "name": "python"
    }
  },
  "cells": [
    {
      "cell_type": "markdown",
      "source": [
        "# **Access Specifiers/Modifiers**\n",
        "\n",
        "Access specifier or access modifier in python programming are used to limit the access of class variable and class methods outside of class while implementing the concepts of inheritance.\n",
        "\n",
        "***Type of access specifiers***\n",
        "\n",
        "1. Public access modifier\n",
        "2. Private access modifier\n",
        "3. Protected access modifier"
      ],
      "metadata": {
        "id": "5a1gxi488WI_"
      }
    },
    {
      "cell_type": "markdown",
      "source": [
        "**Public Access Modifier**\n",
        "\n",
        "All the variable and methods(member functions) in python are by default public. Any instance variable in a class followed by the self keyword i.e self.var_name are public accessed."
      ],
      "metadata": {
        "id": "TruN0Z6F9Mf4"
      }
    },
    {
      "cell_type": "code",
      "source": [
        "class Student:\n",
        "  def __init__(self, age, name):\n",
        "    self.age = age\n",
        "    self.name = name\n",
        "\n",
        "obj = Student(21, \"Harry\")\n",
        "print(obj.age)\n",
        "print(obj.name)"
      ],
      "metadata": {
        "colab": {
          "base_uri": "https://localhost:8080/"
        },
        "id": "uZInpiwb9kQ9",
        "outputId": "01eb4902-ddc6-4f55-85d4-08877ffce111"
      },
      "execution_count": 1,
      "outputs": [
        {
          "output_type": "stream",
          "name": "stdout",
          "text": [
            "21\n",
            "Harry\n"
          ]
        }
      ]
    },
    {
      "cell_type": "markdown",
      "source": [
        "**Private Access Modifier**\n",
        "\n",
        "By defination, Private member of a class (variable or methods) are those members which are only accessible inside the class. We cannot use private members outside of class.\n",
        "\n",
        "\n",
        "In Python, there is no strict concept of \"private\" access modifiers like in some languages. However, a convention has been established to indicate that a varible or method should be considered private by prefixing its name with double underscore(__)\n",
        ". This is known as a \"weak internal use indicator\" and it is convention only, not a strict rule. Code outside the class can still access these private vairbles and methods, but it is generally understood that should not be accessed or modified."
      ],
      "metadata": {
        "id": "NnMWPlGr99Xd"
      }
    },
    {
      "cell_type": "code",
      "source": [
        "class Student:\n",
        "  def __init__(self, age, name):\n",
        "    self.__age = age\n",
        "\n",
        "\n",
        "    def __funName(self):\n",
        "\n",
        "      self.y = 34\n",
        "      print(self.y)\n",
        "\n",
        "class Subject(Student):\n",
        "  pass\n",
        "\n",
        "obj = Student(21, \"Harry\")\n",
        "obj1 = Student\n",
        "\n",
        "print(obj.__age)\n",
        "print(obj.__funName())\n",
        "\n",
        "print(obj1.__age)\n",
        "print(obj1._funName())"
      ],
      "metadata": {
        "colab": {
          "base_uri": "https://localhost:8080/",
          "height": 235
        },
        "id": "Sg8pLW9mEjzt",
        "outputId": "2e9b5c03-3ef9-4cdd-df9a-7f4aad4b80fb"
      },
      "execution_count": 4,
      "outputs": [
        {
          "output_type": "error",
          "ename": "AttributeError",
          "evalue": "ignored",
          "traceback": [
            "\u001b[0;31m---------------------------------------------------------------------------\u001b[0m",
            "\u001b[0;31mAttributeError\u001b[0m                            Traceback (most recent call last)",
            "\u001b[0;32m<ipython-input-4-288c884d6ef1>\u001b[0m in \u001b[0;36m<cell line: 17>\u001b[0;34m()\u001b[0m\n\u001b[1;32m     15\u001b[0m \u001b[0mobj1\u001b[0m \u001b[0;34m=\u001b[0m \u001b[0mStudent\u001b[0m\u001b[0;34m\u001b[0m\u001b[0;34m\u001b[0m\u001b[0m\n\u001b[1;32m     16\u001b[0m \u001b[0;34m\u001b[0m\u001b[0m\n\u001b[0;32m---> 17\u001b[0;31m \u001b[0mprint\u001b[0m\u001b[0;34m(\u001b[0m\u001b[0mobj\u001b[0m\u001b[0;34m.\u001b[0m\u001b[0m__age\u001b[0m\u001b[0;34m)\u001b[0m\u001b[0;34m\u001b[0m\u001b[0;34m\u001b[0m\u001b[0m\n\u001b[0m\u001b[1;32m     18\u001b[0m \u001b[0mprint\u001b[0m\u001b[0;34m(\u001b[0m\u001b[0mobj\u001b[0m\u001b[0;34m.\u001b[0m\u001b[0m__funName\u001b[0m\u001b[0;34m(\u001b[0m\u001b[0;34m)\u001b[0m\u001b[0;34m)\u001b[0m\u001b[0;34m\u001b[0m\u001b[0;34m\u001b[0m\u001b[0m\n\u001b[1;32m     19\u001b[0m \u001b[0;34m\u001b[0m\u001b[0m\n",
            "\u001b[0;31mAttributeError\u001b[0m: 'Student' object has no attribute '__age'"
          ]
        }
      ]
    },
    {
      "cell_type": "code",
      "source": [
        "class Student: \n",
        "    def __init__(self, age, name): \n",
        "        self.__age = age      # An indication of private variable\n",
        "        \n",
        "        def __funName(self):  # An indication of private function\n",
        "            self.y = 34\n",
        "            print(self.y)\n",
        "\n",
        "class Subject(Student):\n",
        "    pass\n",
        "\n",
        "obj = Student(21,\"Harry\")\n",
        "obj1 = Subject\n",
        "\n",
        "# calling by object of class Student\n",
        "print(obj.__age)\n",
        "print(obj.__funName())\n",
        "\n",
        "# calling by object  of class Subject\n",
        "print(obj1.__age)\n",
        "print(obj1.__funName())"
      ],
      "metadata": {
        "colab": {
          "base_uri": "https://localhost:8080/",
          "height": 235
        },
        "id": "bpHQd7UkFQx_",
        "outputId": "53c84976-5a96-4581-a913-3c2629cd321c"
      },
      "execution_count": 3,
      "outputs": [
        {
          "output_type": "error",
          "ename": "AttributeError",
          "evalue": "ignored",
          "traceback": [
            "\u001b[0;31m---------------------------------------------------------------------------\u001b[0m",
            "\u001b[0;31mAttributeError\u001b[0m                            Traceback (most recent call last)",
            "\u001b[0;32m<ipython-input-3-8c4a0c5d7458>\u001b[0m in \u001b[0;36m<cell line: 16>\u001b[0;34m()\u001b[0m\n\u001b[1;32m     14\u001b[0m \u001b[0;34m\u001b[0m\u001b[0m\n\u001b[1;32m     15\u001b[0m \u001b[0;31m# calling by object of class Student\u001b[0m\u001b[0;34m\u001b[0m\u001b[0;34m\u001b[0m\u001b[0m\n\u001b[0;32m---> 16\u001b[0;31m \u001b[0mprint\u001b[0m\u001b[0;34m(\u001b[0m\u001b[0mobj\u001b[0m\u001b[0;34m.\u001b[0m\u001b[0m__age\u001b[0m\u001b[0;34m)\u001b[0m\u001b[0;34m\u001b[0m\u001b[0;34m\u001b[0m\u001b[0m\n\u001b[0m\u001b[1;32m     17\u001b[0m \u001b[0mprint\u001b[0m\u001b[0;34m(\u001b[0m\u001b[0mobj\u001b[0m\u001b[0;34m.\u001b[0m\u001b[0m__funName\u001b[0m\u001b[0;34m(\u001b[0m\u001b[0;34m)\u001b[0m\u001b[0;34m)\u001b[0m\u001b[0;34m\u001b[0m\u001b[0;34m\u001b[0m\u001b[0m\n\u001b[1;32m     18\u001b[0m \u001b[0;34m\u001b[0m\u001b[0m\n",
            "\u001b[0;31mAttributeError\u001b[0m: 'Student' object has no attribute '__age'"
          ]
        }
      ]
    },
    {
      "cell_type": "markdown",
      "source": [
        "**Name mangling**\n",
        "\n",
        "Name mangling in pyhton is a technique used to protect class-private and superclass-private attributes from being accidentally overwritten by subclasses. Names of class private and superclass-private attribures are transformed by the addition of a single leading underscore and a double leading underscore respectively."
      ],
      "metadata": {
        "id": "D0w86tssFN6j"
      }
    },
    {
      "cell_type": "markdown",
      "source": [
        "# Protected Access Modifier\n",
        "\n",
        "In object oriented programming the term protected is used to describe a member of a class that is intended to be accessed only by the class itself and its subclasses. In python the convention for indicating that a member is protected is to prefix its name sith a single underscore(_). For example, if a class has a method called _my_method, it is indicating that the method should only be accessed by the class itself and its subclasses.\n",
        "\n",
        "\n",
        "It's important to note that the single underscore is just a naming convention, it does not actually provide any protection or restrict access to the member . The syntax we follow to make any variable protected is to write variable name followed by a single underscore(_) i.e _varName"
      ],
      "metadata": {
        "id": "oUvWSNyyGQ_s"
      }
    },
    {
      "cell_type": "code",
      "source": [
        "class Student:\n",
        "  def __init__(self):\n",
        "    self.name = \"Harry\"\n",
        "\n",
        "\n",
        "    def _funName(self):\n",
        "      return \"sumant\"\n",
        "\n",
        "class Subject(Student):\n",
        "  pass\n",
        "\n",
        "obj = Student()\n",
        "obj1 = Student()\n",
        "\n",
        "print(obj._name)\n",
        "print(obj._funName())\n",
        "print(obj1._name)\n",
        "print(obj1._funName())"
      ],
      "metadata": {
        "id": "ibOzx1LsIo25"
      },
      "execution_count": null,
      "outputs": []
    },
    {
      "cell_type": "code",
      "source": [],
      "metadata": {
        "id": "A2-Y8g_yJP1m"
      },
      "execution_count": null,
      "outputs": []
    }
  ]
}