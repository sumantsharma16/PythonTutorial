{
  "nbformat": 4,
  "nbformat_minor": 0,
  "metadata": {
    "colab": {
      "provenance": [],
      "authorship_tag": "ABX9TyOd/Zsmpzk5xiE1Ona+G37P",
      "include_colab_link": true
    },
    "kernelspec": {
      "name": "python3",
      "display_name": "Python 3"
    },
    "language_info": {
      "name": "python"
    }
  },
  "cells": [
    {
      "cell_type": "markdown",
      "metadata": {
        "id": "view-in-github",
        "colab_type": "text"
      },
      "source": [
        "<a href=\"https://colab.research.google.com/github/sumantsharma16/PythonTutorial/blob/main/if_else_statement_in_Python.ipynb\" target=\"_parent\"><img src=\"https://colab.research.google.com/assets/colab-badge.svg\" alt=\"Open In Colab\"/></a>"
      ]
    },
    {
      "cell_type": "markdown",
      "source": [
        "simple if else statement"
      ],
      "metadata": {
        "id": "YHCgtHvgbUuj"
      }
    },
    {
      "cell_type": "code",
      "source": [
        "a = 30\n",
        "b = 50\n",
        "\n",
        "if (a > b):\n",
        "  print('a is greater number')\n",
        "else:\n",
        "  print('b is greater number')"
      ],
      "metadata": {
        "colab": {
          "base_uri": "https://localhost:8080/"
        },
        "id": "axgaPvz3bcxx",
        "outputId": "c2ba9bf3-fc04-4daa-9157-c13912fdc907"
      },
      "execution_count": 1,
      "outputs": [
        {
          "output_type": "stream",
          "name": "stdout",
          "text": [
            "b is greater number\n"
          ]
        }
      ]
    },
    {
      "cell_type": "code",
      "source": [
        "a = int(input('Enter the first number: '))\n",
        "b = int(input('Enter the second number: '))\n",
        "\n",
        "if (a>b):\n",
        "  print('First number is the greatest')\n",
        "else:\n",
        "  print('second number is greatest')"
      ],
      "metadata": {
        "colab": {
          "base_uri": "https://localhost:8080/"
        },
        "id": "kW9qofilbmWx",
        "outputId": "7b428097-2d3e-4753-b1b8-b06042b2573e"
      },
      "execution_count": 2,
      "outputs": [
        {
          "output_type": "stream",
          "name": "stdout",
          "text": [
            "Enter the first number: 16\n",
            "Enter the second number: 20\n",
            "second number is greatest\n"
          ]
        }
      ]
    },
    {
      "cell_type": "markdown",
      "source": [
        "if elif else statement"
      ],
      "metadata": {
        "id": "b7AQe7yXb57-"
      }
    },
    {
      "cell_type": "code",
      "source": [
        "a = 15\n",
        "b = 25\n",
        "c = 30\n",
        "\n",
        "if (b<a>a):\n",
        "  print('a is the greatest number')\n",
        "elif (a<b>c):\n",
        "  print('b is greatest number')\n",
        "\n",
        "else:\n",
        "  print('c is greatest number')"
      ],
      "metadata": {
        "colab": {
          "base_uri": "https://localhost:8080/"
        },
        "id": "yCf95Ef_cCU4",
        "outputId": "1bd9d2ac-5a9c-4751-af74-6fb8f2501bbf"
      },
      "execution_count": 3,
      "outputs": [
        {
          "output_type": "stream",
          "name": "stdout",
          "text": [
            "c is greatest number\n"
          ]
        }
      ]
    },
    {
      "cell_type": "markdown",
      "source": [
        "nested if statement"
      ],
      "metadata": {
        "id": "usYDYANGcWf_"
      }
    },
    {
      "cell_type": "code",
      "source": [
        "a = 20\n",
        "b = 40\n",
        "c = 60\n",
        "\n",
        "if (a>b):\n",
        "  if (a>c):\n",
        "    print('a is the greatest number')\n",
        "  else:\n",
        "    print('c is the greates number')\n",
        "else:\n",
        "  if (b>c):\n",
        "    print('b is the greatest number')\n",
        "  else:\n",
        "     print('c is the greatest number')"
      ],
      "metadata": {
        "colab": {
          "base_uri": "https://localhost:8080/"
        },
        "id": "rjauxEdMccc6",
        "outputId": "434a44e8-ff13-42b5-91ac-cb69f824fd46"
      },
      "execution_count": 9,
      "outputs": [
        {
          "output_type": "stream",
          "name": "stdout",
          "text": [
            "c is the greatest number\n"
          ]
        }
      ]
    },
    {
      "cell_type": "code",
      "source": [],
      "metadata": {
        "id": "3uOVL9Ffcjoo"
      },
      "execution_count": null,
      "outputs": []
    }
  ]
}